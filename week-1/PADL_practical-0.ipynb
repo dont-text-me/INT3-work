{
 "nbformat": 4,
 "nbformat_minor": 5,
 "metadata": {
  "kernelspec": {
   "display_name": "Python 3 (ipykernel)",
   "language": "python",
   "name": "python3"
  },
  "language_info": {
   "codemirror_mode": {
    "name": "ipython",
    "version": 3
   },
   "file_extension": ".py",
   "mimetype": "text/x-python",
   "name": "python",
   "nbconvert_exporter": "python",
   "pygments_lexer": "ipython3",
   "version": "3.9.1"
  },
  "colab": {
   "name": "INT3_practical0.ipynb",
   "provenance": []
  }
 },
 "cells": [
  {
   "cell_type": "markdown",
   "metadata": {
    "id": "8dccd56c"
   },
   "source": [
    "# INT3 Practical 0: Machine learning refresher and an introduction to PyTorch\n",
    "\n",
    "We will begin with a revision of the concepts of machine learning, loss functions and optimisation. We will use a trivial example to get started. We'll also see something new: the concept of differentiable programming using PyTorch. This makes a lot of what we want to do in machine learning extremely easy to implement.\n",
    "\n",
    "*Machine learning* is a computational approach in which a system learns to map inputs to outputs by \"learning\" from training data. In reality, \"learning\" means *optimisation* (usually minimisation) of a *loss function*. In the case of *supervised learning* our training data provides pairs of inputs and the corresponding desired output. Our \"machine\" is a function of a particular form whose behaviour is determined by some parameters. Our job is to find the parameters that give a function that maps input to output such that the loss over the training set is minimised."
   ],
   "id": "8dccd56c"
  },
  {
   "cell_type": "markdown",
   "metadata": {
    "id": "T_Kf-mF6fd10"
   },
   "source": [],
   "id": "T_Kf-mF6fd10"
  },
  {
   "cell_type": "markdown",
   "metadata": {
    "id": "4dc64ddb"
   },
   "source": [
    "## A trivial example: the constant machine\n",
    "\n",
    "Imagine a machine learning task where you need to predict a scalar value - i.e. the machine has a single output. Maybe we want to predict the height of people taking INT3. *But*, this machine has *zero inputs*. In that case, the machine must always predict the same single value. It's a very trivial machine that just always returns a constant since it has no input from which to change its behaviour. What would be the best value for the machine to always predict?\n",
    "\n",
    "Simply the mean average! Or perhaps some other kind of average (depending on how you define ``centrality'' for your application).\n",
    "\n",
    "You were taught the formula for computing the mean back in secondary school:\n",
    "\n",
    "$$\\bar{x} = \\frac{1}{n} \\sum_{i=1}^n x_i$$\n",
    "\n",
    "You should all find it easy to compute this in python/numpy. Let's start by generating a dataset of 10 random numbers:"
   ],
   "id": "4dc64ddb"
  },
  {
   "cell_type": "code",
   "metadata": {
    "id": "1bd176e5",
    "ExecuteTime": {
     "end_time": "2024-02-07T13:25:12.183353100Z",
     "start_time": "2024-02-07T13:25:12.074389300Z"
    }
   },
   "source": [
    "import numpy as np\n",
    "\n",
    "n = 9\n",
    "x = np.random.rand(n)"
   ],
   "id": "1bd176e5",
   "execution_count": 64,
   "outputs": []
  },
  {
   "cell_type": "markdown",
   "metadata": {
    "id": "C0Uua-V4hmo9"
   },
   "source": [
    "and then compute the mean average:"
   ],
   "id": "C0Uua-V4hmo9"
  },
  {
   "cell_type": "code",
   "metadata": {
    "id": "8e770abc",
    "colab": {
     "base_uri": "https://localhost:8080/"
    },
    "outputId": "29d8f462-ad4f-482e-e089-d33abca4a985",
    "ExecuteTime": {
     "end_time": "2024-02-07T13:25:12.204346500Z",
     "start_time": "2024-02-07T13:25:12.189351900Z"
    }
   },
   "source": [
    "mean = 1.0/float(n) * np.sum(x)\n",
    "print(mean)"
   ],
   "id": "8e770abc",
   "execution_count": 65,
   "outputs": [
    {
     "name": "stdout",
     "output_type": "stream",
     "text": [
      "0.5609989653054762\n"
     ]
    }
   ]
  },
  {
   "cell_type": "markdown",
   "metadata": {
    "id": "irS0I-MohrZM"
   },
   "source": [
    "Of course, numpy has mean average as a built in function:"
   ],
   "id": "irS0I-MohrZM"
  },
  {
   "cell_type": "code",
   "metadata": {
    "colab": {
     "base_uri": "https://localhost:8080/"
    },
    "id": "2dn51Lcphwa0",
    "outputId": "2e50fdf5-5e40-4cbb-ab43-c6120996c8ed",
    "ExecuteTime": {
     "end_time": "2024-02-07T13:25:12.342345600Z",
     "start_time": "2024-02-07T13:25:12.208349600Z"
    }
   },
   "source": [
    "mean = np.mean(x)\n",
    "print(mean)"
   ],
   "id": "2dn51Lcphwa0",
   "execution_count": 66,
   "outputs": [
    {
     "name": "stdout",
     "output_type": "stream",
     "text": [
      "0.5609989653054763\n"
     ]
    }
   ]
  },
  {
   "cell_type": "markdown",
   "metadata": {
    "id": "a4f5041c"
   },
   "source": [
    "## Deriving the mean\n",
    "\n",
    "So far so simple...\n",
    "\n",
    "But do you know *why* that's the formula for the mean?\n",
    "\n",
    "### Mean as optimisation problem\n",
    "\n",
    "Actually, this formula is the solution to an optimisation problem. It is the value that minimises the squared differences to all data points:\n",
    "\n",
    "$$\\bar{x}=\\arg\\min_{\\bar{x}} \\sum_{i=1}^n (\\bar{x}-x_i)^2$$\n",
    "\n",
    "In other words, if we defined sum of squared differences as our loss function and solved the resulting optimisation problem, we would get the mean as the answer.\n",
    "\n",
    "So, how is the formula we know for the mean derived from this optimisation problem? The answer is that this optimisation problem has a *closed form solution*. This means that we can write down an equation that solves it exactly, i.e. provides the *global optimum*. To do so, we only need A-level standard maths.\n",
    "\n",
    "### Thought you'd never have to do differentiation again?\n",
    "\n",
    "How do we minimise a function? We need to find the *stationary points* which we get by differentiating the function, setting to zero and solving. It's a bit of a painful process for the function above, but let's do it. Start by expanding the summation and square, then multiply out the brackets and collect like terms:\n",
    "\n",
    "$$\\begin{aligned}\\sum_{i=1}^n (\\bar{x}-x_i)^2 &= (\\bar{x}-x_1)(\\bar{x}-x_1) + \\dots + (\\bar{x}-x_n)(\\bar{x}-x_n) \\\\ \n",
    "&= \\bar{x}^2 - 2x_1\\bar{x} + x_1^2 + \\dots \\bar{x}^2 - 2x_n\\bar{x} + x_n^2 \\\\\n",
    "&= n\\bar{x}^2 - 2\\bar{x}\\sum_{i=1}^nx_i + \\sum_{i=1}^nx_i^2\\end{aligned}$$\n",
    "\n",
    "In terms of $\\bar{x}$, can you see what sort of function we have now? It's just a quadratic! i.e.\n",
    "\n",
    "$$f(\\bar{x}) = a\\bar{x}^2 + b\\bar{x} + c$$\n",
    "\n",
    "where $a$, $b$ and $c$ happen to be:\n",
    "\n",
    "$$a=n,\\quad b=-2\\sum_{i=1}^nx_i,\\quad c=\\sum_{i=1}^nx_i^2.$$\n",
    "\n",
    "Now, hopefully you all remember how to differentiate $a\\bar{x}^2 + b\\bar{x} + c$? It's simply:\n",
    "\n",
    "$$\\frac{\\partial f}{\\partial \\bar{x}} = 2a\\bar{x} + b$$\n",
    "\n",
    "Now set to zero and solve:\n",
    "\n",
    "$$\\begin{aligned}2a\\bar{x} + b&=0\\\\\n",
    "\\bar{x}=\\frac{-b}{2a}\\end{aligned}$$\n",
    "\n",
    "Now plug in $a$ and $b$:\n",
    "\n",
    "$$\\bar{x}=\\frac{2\\sum_{i=1}^nx_i}{2n}=\\frac{1}{n} \\sum_{i=1}^n x_i$$\n",
    "\n",
    "It's the formula for the mean that we know and love!\n",
    "\n",
    "**Wow - that was pretty painful right?!**\n",
    "\n",
    "And that was for just about the most trivial machine learning problem you could possibly imagine (no inputs, one output, sum of squared errors as the loss). Consider a multilayer perceptron with many layers, nonlinear activation functions and a logistic regression layer on the end for classification. Imagine trying to differentiate that by hand! (And it wouldn't have a closed form solution anyway...)"
   ],
   "id": "a4f5041c"
  },
  {
   "cell_type": "markdown",
   "metadata": {
    "id": "mPWM1oBmO-Ye"
   },
   "source": [
    "## Differentiable programming\n",
    "\n",
    "We'll now see a totally different way of solving optimisation problems (and it might mean you never have to do differentiation by hand again!) The idea is that we simply write code that computes the loss function, i.e. the thing we want to minimise, from some given input.\n",
    "\n",
    "A differentiable programming language can then automatically differentiate backwards from our loss function, all the way through our series of instructions right back to the input(s). At any point through this chain of differentiation, we can ask: what is the gradient of the loss function with respect to some parameters at this point in the chain? And we can use this to optimise the loss function using gradient descent (or some other algorithm) automatically.\n",
    "\n",
    "We're going to see a particular example of differentiable programming: PyTorch.\n",
    "\n",
    "Let's repeat the above example but this time, instead of differentiating and solving by hand, we'll use differentiable programming in PyTorch and solve by iterative optimisation."
   ],
   "id": "mPWM1oBmO-Ye"
  },
  {
   "cell_type": "code",
   "metadata": {
    "id": "1c5fb9b3",
    "ExecuteTime": {
     "end_time": "2024-02-07T13:25:12.384390Z",
     "start_time": "2024-02-07T13:25:12.239348700Z"
    }
   },
   "source": [
    "import torch\n",
    "\n",
    "# Copy the sequence of numbers from numpy array to PyTorch tensor\n",
    "xt = torch.from_numpy(x)"
   ],
   "id": "1c5fb9b3",
   "execution_count": 67,
   "outputs": []
  },
  {
   "cell_type": "markdown",
   "metadata": {
    "id": "RNoRDK-uzqb_"
   },
   "source": [
    "The above just imports the main PyTorch libraries and then copies the dataset x from a numpy array to a PyTorch **tensor**. These are very similar in that both are multidimensional arrays and can be indexed and sliced in similar ways. But PyTorch tensors can easily be transferred to a GPU (essential for processing large datasets quickly) and have many useful operations that are automatically differentiable. Tensors are the fundamental data type in PyTorch: every layer in our neural networks will take one or more tensors as input and output one or more tensors. We'll learn more about them later but that will do for now.\n",
    "\n",
    "Let's get on with something more interesting: let's write some code to compute our loss function."
   ],
   "id": "RNoRDK-uzqb_"
  },
  {
   "cell_type": "code",
   "metadata": {
    "id": "a309a618",
    "ExecuteTime": {
     "end_time": "2024-02-07T13:25:12.544346500Z",
     "start_time": "2024-02-07T13:25:12.358349200Z"
    }
   },
   "source": [
    "def sum_squared_differences(average,xt):\n",
    "    loss = torch.sum((xt-average)**2.0)\n",
    "    return loss"
   ],
   "id": "a309a618",
   "execution_count": 68,
   "outputs": []
  },
  {
   "cell_type": "markdown",
   "metadata": {
    "id": "wNA2kCs81ohb"
   },
   "source": [
    "This function takes as input the current estimate of the mean value and the dataset as a tensor. All it does inside the function is compute the sum of squared errors between the estimate of the mean and all elements in the dataset. Notice how we used a PyTorch operation `torch.sum`? We could equally have used the sum method of the tensor to get the same effect:\n",
    "\n",
    "`loss = ((xt-mean)**2.0).sum()`\n",
    "\n",
    "There is no difference - it's just a matter of coding style and I will mix the two."
   ],
   "id": "wNA2kCs81ohb"
  },
  {
   "cell_type": "markdown",
   "metadata": {
    "id": "Qxbwlc4g21sc"
   },
   "source": [
    "## Optimisation in PyTorch\n",
    "\n",
    "We've written down our loss function, now it's time to iteratively optimise it. Like any iterative optimisation, we need an initialisation. Let's just use a random number for our initial guess at the mean. There's also a couple of other things we need to set up:"
   ],
   "id": "Qxbwlc4g21sc"
  },
  {
   "cell_type": "code",
   "metadata": {
    "id": "46f19147",
    "ExecuteTime": {
     "end_time": "2024-02-07T13:25:12.580346100Z",
     "start_time": "2024-02-07T13:25:12.465348800Z"
    }
   },
   "source": [
    "# Let's initialise our estimate of the mean randomly\n",
    "average = torch.rand(1)\n",
    "# We need to tell PyTorch that we need the gradient of the loss with respect to the mean\n",
    "average.requires_grad=True\n",
    "# Set up the optimiser and tell it that the variable to optimise is the mean\n",
    "optim = torch.optim.SGD([average], lr=0.01)"
   ],
   "id": "46f19147",
   "execution_count": 69,
   "outputs": []
  },
  {
   "cell_type": "markdown",
   "metadata": {
    "id": "sOqBomzdCEsr"
   },
   "source": [
    "`optim` is now an optimiser object that will use the Stochastic Gradient Descent algorithm (the \"stochastic\" part only comes in when we talk about batching data - in this particular example it will just run normal gradient descent). We have to give it an iterable list containing the parameters to be optimised (in our case just `average` - and note that we had to set `requires_grad` to true because we need to know the gradient of the loss with respect to this parameter). Our optimiser has one hyperparameter: `lr` is the learning rate. I've set it to a value that should work ok. Now we're ready to optimise."
   ],
   "id": "sOqBomzdCEsr"
  },
  {
   "cell_type": "code",
   "metadata": {
    "id": "bf53313a",
    "colab": {
     "base_uri": "https://localhost:8080/"
    },
    "outputId": "f388ce44-771f-4c82-8a2a-f8e9f61cf8dc",
    "ExecuteTime": {
     "end_time": "2024-02-07T13:25:12.697382300Z",
     "start_time": "2024-02-07T13:25:12.594388300Z"
    }
   },
   "source": [
    "niter = 100\n",
    "for step in range(niter):\n",
    "    # Run forward pass to compute our loss function\n",
    "    loss = sum_squared_differences(average,xt)\n",
    "    # Reset the gradients in the optimiser object to zero\n",
    "    optim.zero_grad()\n",
    "    # MAGIC! (See below)\n",
    "    loss.backward()\n",
    "    # Update all parameters with one gradient descent step\n",
    "    optim.step()\n",
    "    if not step % 5:\n",
    "        # Display iteration number, current loss and current estimate of the mean\n",
    "        print(\"Step %d, loss %0.6f, mean %0.6f\" % (step, loss, average))"
   ],
   "id": "bf53313a",
   "execution_count": 70,
   "outputs": [
    {
     "name": "stdout",
     "output_type": "stream",
     "text": [
      "Step 0, loss 0.569014, mean 0.657773\n",
      "Step 5, loss 0.460890, mean 0.596877\n",
      "Step 10, loss 0.446029, mean 0.574300\n",
      "Step 15, loss 0.443986, mean 0.565930\n",
      "Step 20, loss 0.443706, mean 0.562827\n",
      "Step 25, loss 0.443667, mean 0.561677\n",
      "Step 30, loss 0.443662, mean 0.561250\n",
      "Step 35, loss 0.443661, mean 0.561092\n",
      "Step 40, loss 0.443661, mean 0.561034\n",
      "Step 45, loss 0.443661, mean 0.561012\n",
      "Step 50, loss 0.443661, mean 0.561004\n",
      "Step 55, loss 0.443661, mean 0.561001\n",
      "Step 60, loss 0.443661, mean 0.561000\n",
      "Step 65, loss 0.443661, mean 0.560999\n",
      "Step 70, loss 0.443661, mean 0.560999\n",
      "Step 75, loss 0.443661, mean 0.560999\n",
      "Step 80, loss 0.443661, mean 0.560999\n",
      "Step 85, loss 0.443661, mean 0.560999\n",
      "Step 90, loss 0.443661, mean 0.560999\n",
      "Step 95, loss 0.443661, mean 0.560999\n"
     ]
    }
   ]
  },
  {
   "cell_type": "markdown",
   "metadata": {
    "id": "d_hF4SrHDVjd"
   },
   "source": [
    "The above code ran 100 iterations of gradient descent on our loss function, updating the estimate of the mean at each iteration. Compare the final value of the mean with what you got from the closed form numpy solution above. Are they the same?\n",
    "\n",
    "They should be similar. They're not exact because we probably didn't run enough iterations (i.e. hadn't converged) and/or our learning rate is probably not optimal.\n",
    "\n",
    "## Autograd\n",
    "\n",
    "Something seriously magical happened in the above code. When we called loss.backward(), PyTorch automatically works backwards through our code, starting from `loss` and computing gradients via all tensors involved in the computation of the current loss value. At some point, this process reached `average`, where it was able to compute $\\partial$ `loss`/$\\partial$ `average`. This saved us all the pain from earlier of differentiating by hand. Once we had this, we were able to take a gradient descent step in the line `optim.step()`. This tells the optimiser to update everything that was passed to the optimiser as an optimisation variable. If you want to read more about autograd and how it works, see here:\n",
    "\n",
    "https://pytorch.org/tutorials/beginner/blitz/autograd_tutorial.html\n",
    "\n",
    "## Summary\n",
    "\n",
    "So, we've traded the pain of differentiating by hand for writing code to compute only the forward function. On the other hand, in this particular case we've lost the closed form solution and replaced it with something iterative, slower and dependent on hyperparameters (learning rate and number of iterations). But have we gained anything else? Yes! **Flexibility**.\n",
    "\n",
    "If we now decide we want a different loss than sum of squared errors, we just change our code to compute something else. And it need not have a closed form solution. Let's use sum of absolute differences instead:"
   ],
   "id": "d_hF4SrHDVjd"
  },
  {
   "cell_type": "code",
   "metadata": {
    "id": "U-NeJVctF0yk",
    "colab": {
     "base_uri": "https://localhost:8080/"
    },
    "outputId": "f37265d0-b805-49ba-ae41-89d0cb8c8de4",
    "ExecuteTime": {
     "end_time": "2024-02-07T13:25:12.780380200Z",
     "start_time": "2024-02-07T13:25:12.678348600Z"
    }
   },
   "source": [
    "def sum_absolute_differences(average,xt):\n",
    "    loss = (xt-average).abs().mean()\n",
    "    return loss\n",
    "\n",
    "niter = 100\n",
    "for step in range(niter):\n",
    "    loss = sum_absolute_differences(average,xt)\n",
    "    optim.zero_grad()\n",
    "    loss.backward()\n",
    "    optim.step()\n",
    "    if not step % 5:\n",
    "        print(\"Step %d, loss %0.6f, average %0.6f\" % (step, loss, average))"
   ],
   "id": "U-NeJVctF0yk",
   "execution_count": 71,
   "outputs": [
    {
     "name": "stdout",
     "output_type": "stream",
     "text": [
      "Step 0, loss 0.185522, average 0.559888\n",
      "Step 5, loss 0.184904, average 0.554333\n",
      "Step 10, loss 0.184287, average 0.548777\n",
      "Step 15, loss 0.183670, average 0.543222\n",
      "Step 20, loss 0.183053, average 0.537666\n",
      "Step 25, loss 0.182435, average 0.532111\n",
      "Step 30, loss 0.181818, average 0.526555\n",
      "Step 35, loss 0.181695, average 0.525444\n",
      "Step 40, loss 0.181579, average 0.526555\n",
      "Step 45, loss 0.181695, average 0.525444\n",
      "Step 50, loss 0.181579, average 0.526555\n",
      "Step 55, loss 0.181695, average 0.525444\n",
      "Step 60, loss 0.181579, average 0.526555\n",
      "Step 65, loss 0.181695, average 0.525444\n",
      "Step 70, loss 0.181579, average 0.526555\n",
      "Step 75, loss 0.181695, average 0.525444\n",
      "Step 80, loss 0.181579, average 0.526555\n",
      "Step 85, loss 0.181695, average 0.525444\n",
      "Step 90, loss 0.181579, average 0.526555\n",
      "Step 95, loss 0.181695, average 0.525444\n"
     ]
    }
   ]
  },
  {
   "cell_type": "markdown",
   "metadata": {
    "id": "PuYThC12GyHn"
   },
   "source": [
    "Any idea what this just computed? It's a different kind of average... You might get a clue if we look at the original data in order:"
   ],
   "id": "PuYThC12GyHn"
  },
  {
   "cell_type": "code",
   "metadata": {
    "id": "7f4f7502",
    "colab": {
     "base_uri": "https://localhost:8080/"
    },
    "outputId": "5a2b161e-91c5-4c96-b3e3-8bc51e01661e",
    "ExecuteTime": {
     "end_time": "2024-02-07T13:25:12.782346700Z",
     "start_time": "2024-02-07T13:25:12.725353700Z"
    }
   },
   "source": [
    "print(xt.sort())"
   ],
   "id": "7f4f7502",
   "execution_count": 72,
   "outputs": [
    {
     "name": "stdout",
     "output_type": "stream",
     "text": [
      "torch.return_types.sort(\n",
      "values=tensor([0.2178, 0.3035, 0.4608, 0.4626, 0.5255, 0.5927, 0.7316, 0.8124, 0.9421],\n",
      "       dtype=torch.float64),\n",
      "indices=tensor([4, 0, 7, 8, 2, 3, 5, 6, 1]))\n"
     ]
    }
   ]
  },
  {
   "cell_type": "markdown",
   "metadata": {
    "id": "I2NzohuvJXDT"
   },
   "source": [
    "It's the median! (Or would be if the optimisation has converged). **Interesting eh?!** The median is also the solution to an optimisation problem, this time the sum of absolute differences."
   ],
   "id": "I2NzohuvJXDT"
  },
  {
   "cell_type": "code",
   "metadata": {
    "id": "rfKKY8GQJbfJ",
    "colab": {
     "base_uri": "https://localhost:8080/"
    },
    "outputId": "2cfe1b44-e952-46e1-af28-20f9f0775ee7",
    "ExecuteTime": {
     "end_time": "2024-02-07T13:25:12.844345600Z",
     "start_time": "2024-02-07T13:25:12.788347900Z"
    }
   },
   "source": [
    "print(np.median(x))"
   ],
   "id": "rfKKY8GQJbfJ",
   "execution_count": 73,
   "outputs": [
    {
     "name": "stdout",
     "output_type": "stream",
     "text": [
      "0.5254803391085858\n"
     ]
    }
   ]
  },
  {
   "cell_type": "markdown",
   "metadata": {
    "id": "s4DqRnPbJnRf"
   },
   "source": [
    "## Tidying up\n",
    "\n",
    "There's a few loose ends to tie up. First of all, PyTorch has lots of useful loss functions already built-in. For example \"sum of absolute differences\" would be called \"L1 loss with sum reduction\" in PyTorch. We could replace the definition of sum_absolute_differences with a built-in PyTorch loss:\n",
    "\n",
    "`sum_absolute_differences = torch.nn.L1Loss(reduction='sum')`\n",
    "\n",
    "The only difference is that where we actually compute the loss, we explicitly need to copy the average n times since the loss function expects two tensors the same size:\n",
    "\n",
    "`loss = sum_absolute_differences(average.repeat(9),xt)`"
   ],
   "id": "s4DqRnPbJnRf"
  },
  {
   "cell_type": "code",
   "metadata": {
    "id": "56BA1fRoJ_sV",
    "colab": {
     "base_uri": "https://localhost:8080/"
    },
    "outputId": "0d957f71-a0ee-431a-f746-0ea2937e8b10",
    "ExecuteTime": {
     "end_time": "2024-02-07T13:25:13.048349600Z",
     "start_time": "2024-02-07T13:25:12.821353500Z"
    }
   },
   "source": [
    "sum_absolute_differences = torch.nn.L1Loss(reduction='sum')\n",
    "niter = 100\n",
    "for step in range(niter):\n",
    "    loss = sum_absolute_differences(average.repeat(9),xt)\n",
    "    optim.zero_grad()\n",
    "    loss.backward()\n",
    "    optim.step()\n",
    "    if not step % 5:\n",
    "        print(\"Step %d, loss %0.6f, average %0.6f\" % (step, loss, average))"
   ],
   "id": "56BA1fRoJ_sV",
   "execution_count": 74,
   "outputs": [
    {
     "name": "stdout",
     "output_type": "stream",
     "text": [
      "Step 0, loss 1.634212, average 0.535444\n",
      "Step 5, loss 1.644140, average 0.525444\n",
      "Step 10, loss 1.634212, average 0.535444\n",
      "Step 15, loss 1.644140, average 0.525444\n",
      "Step 20, loss 1.634212, average 0.535444\n",
      "Step 25, loss 1.644140, average 0.525444\n",
      "Step 30, loss 1.634212, average 0.535444\n",
      "Step 35, loss 1.644140, average 0.525444\n",
      "Step 40, loss 1.634212, average 0.535444\n",
      "Step 45, loss 1.644140, average 0.525444\n",
      "Step 50, loss 1.634212, average 0.535444\n",
      "Step 55, loss 1.644140, average 0.525444\n",
      "Step 60, loss 1.634212, average 0.535444\n",
      "Step 65, loss 1.644140, average 0.525444\n",
      "Step 70, loss 1.634212, average 0.535444\n",
      "Step 75, loss 1.644140, average 0.525444\n",
      "Step 80, loss 1.634212, average 0.535444\n",
      "Step 85, loss 1.644140, average 0.525444\n",
      "Step 90, loss 1.634212, average 0.535444\n",
      "Step 95, loss 1.644140, average 0.525444\n"
     ]
    }
   ]
  },
  {
   "cell_type": "markdown",
   "metadata": {
    "id": "nJD2-P8a9mVR"
   },
   "source": [
    "## Things for you to try\n",
    "\n",
    "It's time to do some experimentation yourself. \n",
    "\n",
    "1. What happens if you change the learning rate of the optimiser? \n"
   ],
   "id": "nJD2-P8a9mVR"
  },
  {
   "cell_type": "code",
   "outputs": [
    {
     "name": "stdout",
     "output_type": "stream",
     "text": [
      "Step 0, loss 1.310190, mean 0.033503\n",
      "Step 5, loss 175.135640, mean 8.050695\n",
      "Step 10, loss 35218.258993, mean -105.782005\n",
      "Step 15, loss 7099895.133053, mean 1510.480103\n",
      "Step 20, loss 1431335343.464649, mean -21438.136719\n",
      "Step 25, loss 288556505759.604126, mean 304399.468750\n",
      "Step 30, loss 58172849923293.468750, mean -4322030.000000\n",
      "Step 35, loss 11727614192032962.000000, mean 61366668.000000\n",
      "Step 40, loss 2364281458912278016.000000, mean -871319168.000000\n",
      "Step 45, loss 476637990196594606080.000000, mean 12371490816.000000\n",
      "Step 50, loss 96090030736878874918912.000000, mean -175657566208.000000\n",
      "Step 55, loss 19371702270385780900757504.000000, mean 2494087036928.000000\n",
      "Step 60, loss 3905325633315302339246030848.000000, mean -35412475117568.000000\n",
      "Step 65, loss 787311731098210590885477875712.000000, mean 502806721069056.000000\n",
      "Step 70, loss 158721743496588072871443117899776.000000, mean -7139140273438720.000000\n",
      "Step 75, loss 31998233353811797958950413196591104.000000, mean 101365617642176512.000000\n",
      "Step 80, loss 6450829682150968118784415764729298944.000000, mean -1439247526619250688.000000\n",
      "Step 85, loss 1300483392205078294799229757308624961536.000000, mean 20435257032030814208.000000\n",
      "Step 90, loss 262176815033178738934236255650797609549824.000000, mean -290151548420878237696.000000\n",
      "Step 95, loss 52854735793332339010710269960433084131180544.000000, mean 4119738409356315590656.000000\n"
     ]
    }
   ],
   "source": [
    "# large learning rate\n",
    "average = torch.rand(1)\n",
    "average.requires_grad=True\n",
    "optim_large_lr = torch.optim.SGD([average], lr=0.15) # a learning rate that is probably way too large - expected outcome is not being able to find the minimum due to overshooting\n",
    "niter = 100\n",
    "for step in range(niter):\n",
    "    # Run forward pass to compute our loss function\n",
    "    loss = sum_squared_differences(average,xt)\n",
    "    # Reset the gradients in the optimiser object to zero\n",
    "    optim_large_lr.zero_grad()\n",
    "    # MAGIC! (See below)\n",
    "    loss.backward()\n",
    "    # Update all parameters with one gradient descent step\n",
    "    optim_large_lr.step()\n",
    "    if not step % 5:\n",
    "        # Display iteration number, current loss and current estimate of the mean\n",
    "        print(\"Step %d, loss %0.6f, mean %0.6f\" % (step, loss, average))"
   ],
   "metadata": {
    "collapsed": false,
    "ExecuteTime": {
     "end_time": "2024-02-07T13:25:13.171350Z",
     "start_time": "2024-02-07T13:25:12.885348200Z"
    }
   },
   "id": "8bac7284c10d8c3d",
   "execution_count": 75
  },
  {
   "cell_type": "code",
   "outputs": [
    {
     "name": "stdout",
     "output_type": "stream",
     "text": [
      "Step 0, loss 1.520915, mean 0.906346\n",
      "Step 5, loss 1.501681, mean 0.903249\n",
      "Step 10, loss 1.482790, mean 0.900180\n",
      "Step 15, loss 1.464237, mean 0.897138\n",
      "Step 20, loss 1.446015, mean 0.894124\n",
      "Step 25, loss 1.428118, mean 0.891136\n",
      "Step 30, loss 1.410540, mean 0.888176\n",
      "Step 35, loss 1.393277, mean 0.885242\n",
      "Step 40, loss 1.376321, mean 0.882334\n",
      "Step 45, loss 1.359669, mean 0.879452\n",
      "Step 50, loss 1.343314, mean 0.876597\n",
      "Step 55, loss 1.327250, mean 0.873766\n",
      "Step 60, loss 1.311474, mean 0.870962\n",
      "Step 65, loss 1.295980, mean 0.868182\n",
      "Step 70, loss 1.280762, mean 0.865427\n",
      "Step 75, loss 1.265815, mean 0.862697\n",
      "Step 80, loss 1.251136, mean 0.859992\n",
      "Step 85, loss 1.236718, mean 0.857311\n",
      "Step 90, loss 1.222559, mean 0.854653\n",
      "Step 95, loss 1.208652, mean 0.852020\n"
     ]
    }
   ],
   "source": [
    "# small learning rate\n",
    "# Let's initialise our estimate of the mean randomly\n",
    "average = torch.rand(1)\n",
    "# We need to tell PyTorch that we need the gradient of the loss with respect to the mean\n",
    "average.requires_grad=True\n",
    "# Set up the optimiser and tell it that the variable to optimise is the mean\n",
    "optim_small_lr = torch.optim.SGD([average], lr=0.0001) # a learning rate that is probably too small - expected outcome is not being able to reach a good loss value in 100 steps\n",
    "niter = 100\n",
    "for step in range(niter):\n",
    "    # Run forward pass to compute our loss function\n",
    "    loss = sum_squared_differences(average,xt)\n",
    "    # Reset the gradients in the optimiser object to zero\n",
    "    optim_small_lr.zero_grad()\n",
    "    # MAGIC! (See below)\n",
    "    loss.backward()\n",
    "    # Update all parameters with one gradient descent step\n",
    "    optim_small_lr.step()\n",
    "    if not step % 5:\n",
    "        # Display iteration number, current loss and current estimate of the mean\n",
    "        print(\"Step %d, loss %0.6f, mean %0.6f\" % (step, loss, average))"
   ],
   "metadata": {
    "collapsed": false,
    "ExecuteTime": {
     "end_time": "2024-02-07T13:25:13.207348500Z",
     "start_time": "2024-02-07T13:25:13.064361800Z"
    }
   },
   "id": "52a0002f3afc8f39",
   "execution_count": 76
  },
  {
   "cell_type": "markdown",
   "source": [
    "2. Can you think of other initialisation strategies? Using one of the input data points can be a good idea, but be careful. If you do, for example: `average = xt[0]`, you create a connection in the computational graph between `average` and `xt[0]` so the behaviour of the optimisation will not be as you expect (the value of `xt[0]` will change during the optimisation). Instead you could use: `average = xt[0].clone()`. This creates a new tensor containing the value that was in `xt[0]`."
   ],
   "metadata": {
    "collapsed": false
   },
   "id": "692e45d8933464a1"
  },
  {
   "cell_type": "code",
   "outputs": [
    {
     "name": "stdout",
     "output_type": "stream",
     "text": [
      "Step 0, loss 2.488858, average 0.363512\n",
      "Step 5, loss 1.676144, average 0.493512\n",
      "Step 10, loss 1.642208, average 0.523512\n",
      "Step 15, loss 1.636144, average 0.533512\n",
      "Step 20, loss 1.642208, average 0.523512\n",
      "Step 25, loss 1.636144, average 0.533512\n",
      "Step 30, loss 1.642208, average 0.523512\n",
      "Step 35, loss 1.636144, average 0.533512\n",
      "Step 40, loss 1.642208, average 0.523512\n",
      "Step 45, loss 1.636144, average 0.533512\n",
      "Step 50, loss 1.642208, average 0.523512\n",
      "Step 55, loss 1.636144, average 0.533512\n",
      "Step 60, loss 1.642208, average 0.523512\n",
      "Step 65, loss 1.636144, average 0.533512\n",
      "Step 70, loss 1.642208, average 0.523512\n",
      "Step 75, loss 1.636144, average 0.533512\n",
      "Step 80, loss 1.642208, average 0.523512\n",
      "Step 85, loss 1.636144, average 0.533512\n",
      "Step 90, loss 1.642208, average 0.523512\n",
      "Step 95, loss 1.636144, average 0.533512\n",
      "Actual mean: 0.5609989653054763\n"
     ]
    }
   ],
   "source": [
    "# initialising with one of the values of x\n",
    "average = xt[0].clone()\n",
    "average.requires_grad=True\n",
    "sum_absolute_differences = torch.nn.L1Loss(reduction='sum')\n",
    "optim = torch.optim.SGD([average], lr=0.01)\n",
    "niter = 100\n",
    "for step in range(niter):\n",
    "    loss = sum_absolute_differences(average.repeat(9),xt)\n",
    "    optim.zero_grad()\n",
    "    loss.backward()\n",
    "    optim.step()\n",
    "    if not step % 5:\n",
    "        print(\"Step %d, loss %0.6f, average %0.6f\" % (step, loss, average))\n",
    "print(f\"Actual mean: {x.mean()}\")"
   ],
   "metadata": {
    "collapsed": false,
    "ExecuteTime": {
     "end_time": "2024-02-07T13:25:13.397386Z",
     "start_time": "2024-02-07T13:25:13.219362100Z"
    }
   },
   "id": "9462c1199cb34e82",
   "execution_count": 77
  },
  {
   "cell_type": "code",
   "outputs": [
    {
     "name": "stdout",
     "output_type": "stream",
     "text": [
      "Step 0, loss 5.048991, average 0.090000\n",
      "Step 5, loss 2.056419, average 0.440000\n",
      "Step 10, loss 1.639656, average 0.530000\n",
      "Step 15, loss 1.638696, average 0.520000\n",
      "Step 20, loss 1.639656, average 0.530000\n",
      "Step 25, loss 1.638696, average 0.520000\n",
      "Step 30, loss 1.639656, average 0.530000\n",
      "Step 35, loss 1.638696, average 0.520000\n",
      "Step 40, loss 1.639656, average 0.530000\n",
      "Step 45, loss 1.638696, average 0.520000\n",
      "Step 50, loss 1.639656, average 0.530000\n",
      "Step 55, loss 1.638696, average 0.520000\n",
      "Step 60, loss 1.639656, average 0.530000\n",
      "Step 65, loss 1.638696, average 0.520000\n",
      "Step 70, loss 1.639656, average 0.530000\n",
      "Step 75, loss 1.638696, average 0.520000\n",
      "Step 80, loss 1.639656, average 0.530000\n",
      "Step 85, loss 1.638696, average 0.520000\n",
      "Step 90, loss 1.639656, average 0.530000\n",
      "Step 95, loss 1.638696, average 0.520000\n",
      "Actual mean: 0.5609989653054763\n"
     ]
    }
   ],
   "source": [
    "# initialising with zero\n",
    "average = torch.zeros(1)\n",
    "average.requires_grad=True\n",
    "sum_absolute_differences = torch.nn.L1Loss(reduction='sum')\n",
    "optim = torch.optim.SGD([average], lr=0.01)\n",
    "niter = 100\n",
    "for step in range(niter):\n",
    "    loss = sum_absolute_differences(average.repeat(9),xt)\n",
    "    optim.zero_grad()\n",
    "    loss.backward()\n",
    "    optim.step()\n",
    "    if not step % 5:\n",
    "        print(\"Step %d, loss %0.6f, average %0.6f\" % (step, loss, average))\n",
    "print(f\"Actual mean: {x.mean()}\")"
   ],
   "metadata": {
    "collapsed": false,
    "ExecuteTime": {
     "end_time": "2024-02-07T13:25:13.566395100Z",
     "start_time": "2024-02-07T13:25:13.368398600Z"
    }
   },
   "id": "fdec1393846375a7",
   "execution_count": 78
  },
  {
   "cell_type": "markdown",
   "source": [
    "3. Think up some different loss functions and try replacing sum of squared/absolute differences with these. Does changing from sum to mean reduction make a difference to the minimum obtained?"
   ],
   "metadata": {
    "collapsed": false
   },
   "id": "fdee9befe208dd6f"
  },
  {
   "cell_type": "markdown",
   "source": [],
   "metadata": {
    "collapsed": false
   },
   "id": "4ad395bdbea68db7"
  },
  {
   "cell_type": "code",
   "outputs": [
    {
     "name": "stdout",
     "output_type": "stream",
     "text": [
      "Step 0, loss 0.185708, average 0.561563\n",
      "Step 5, loss 0.185090, average 0.556007\n",
      "Step 10, loss 0.184473, average 0.550452\n",
      "Step 15, loss 0.183856, average 0.544896\n",
      "Step 20, loss 0.183239, average 0.539341\n",
      "Step 25, loss 0.182621, average 0.533785\n",
      "Step 30, loss 0.182004, average 0.528230\n",
      "Step 35, loss 0.181634, average 0.524897\n",
      "Step 40, loss 0.181640, average 0.526008\n",
      "Step 45, loss 0.181634, average 0.524897\n",
      "Step 50, loss 0.181640, average 0.526008\n",
      "Step 55, loss 0.181634, average 0.524897\n",
      "Step 60, loss 0.181640, average 0.526008\n",
      "Step 65, loss 0.181634, average 0.524897\n",
      "Step 70, loss 0.181640, average 0.526008\n",
      "Step 75, loss 0.181634, average 0.524897\n",
      "Step 80, loss 0.181640, average 0.526008\n",
      "Step 85, loss 0.181634, average 0.524897\n",
      "Step 90, loss 0.181640, average 0.526008\n",
      "Step 95, loss 0.181634, average 0.524897\n",
      "Actual mean: 0.5609989653054763\n"
     ]
    }
   ],
   "source": [
    "# using mean instead of sum in the loss function\n",
    "average = torch.rand(1)\n",
    "average.requires_grad=True\n",
    "sum_absolute_differences = torch.nn.L1Loss(reduction='mean')\n",
    "optim = torch.optim.SGD([average], lr=0.01)\n",
    "niter = 100\n",
    "for step in range(niter):\n",
    "    loss = sum_absolute_differences(average.repeat(9),xt)\n",
    "    optim.zero_grad()\n",
    "    loss.backward()\n",
    "    optim.step()\n",
    "    if not step % 5:\n",
    "        print(\"Step %d, loss %0.6f, average %0.6f\" % (step, loss, average))\n",
    "print(f\"Actual mean: {x.mean()}\")"
   ],
   "metadata": {
    "collapsed": false,
    "ExecuteTime": {
     "end_time": "2024-02-07T13:25:13.647384400Z",
     "start_time": "2024-02-07T13:25:13.466383300Z"
    }
   },
   "id": "61f613625aa2bcaf",
   "execution_count": 79
  }
 ]
}
