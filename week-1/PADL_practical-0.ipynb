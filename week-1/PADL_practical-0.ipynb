{
 "cells": [
  {
   "cell_type": "markdown",
   "id": "8dccd56c",
   "metadata": {
    "id": "8dccd56c"
   },
   "source": [
    "# INT3 Practical 0: Machine learning refresher and an introduction to PyTorch\n",
    "\n",
    "We will begin with a revision of the concepts of machine learning, loss functions and optimisation. We will use a trivial example to get started. We'll also see something new: the concept of differentiable programming using PyTorch. This makes a lot of what we want to do in machine learning extremely easy to implement.\n",
    "\n",
    "*Machine learning* is a computational approach in which a system learns to map inputs to outputs by \"learning\" from training data. In reality, \"learning\" means *optimisation* (usually minimisation) of a *loss function*. In the case of *supervised learning* our training data provides pairs of inputs and the corresponding desired output. Our \"machine\" is a function of a particular form whose behaviour is determined by some parameters. Our job is to find the parameters that give a function that maps input to output such that the loss over the training set is minimised."
   ]
  },
  {
   "cell_type": "markdown",
   "id": "T_Kf-mF6fd10",
   "metadata": {
    "id": "T_Kf-mF6fd10"
   },
   "source": []
  },
  {
   "cell_type": "markdown",
   "id": "4dc64ddb",
   "metadata": {
    "id": "4dc64ddb"
   },
   "source": [
    "## A trivial example: the constant machine\n",
    "\n",
    "Imagine a machine learning task where you need to predict a scalar value - i.e. the machine has a single output. Maybe we want to predict the height of people taking INT3. *But*, this machine has *zero inputs*. In that case, the machine must always predict the same single value. It's a very trivial machine that just always returns a constant since it has no input from which to change its behaviour. What would be the best value for the machine to always predict?\n",
    "\n",
    "Simply the mean average! Or perhaps some other kind of average (depending on how you define ``centrality'' for your application).\n",
    "\n",
    "You were taught the formula for computing the mean back in secondary school:\n",
    "\n",
    "$$\\bar{x} = \\frac{1}{n} \\sum_{i=1}^n x_i$$\n",
    "\n",
    "You should all find it easy to compute this in python/numpy. Let's start by generating a dataset of 10 random numbers:"
   ]
  },
  {
   "cell_type": "code",
   "execution_count": 19,
   "id": "1bd176e5",
   "metadata": {
    "ExecuteTime": {
     "end_time": "2024-02-16T13:55:23.872151Z",
     "start_time": "2024-02-16T13:55:23.666803Z"
    },
    "id": "1bd176e5"
   },
   "outputs": [],
   "source": [
    "import matplotlib.pyplot as plt\n",
    "import numpy as np\n",
    "\n",
    "n = 9\n",
    "x = np.random.rand(n)"
   ]
  },
  {
   "cell_type": "markdown",
   "id": "C0Uua-V4hmo9",
   "metadata": {
    "id": "C0Uua-V4hmo9"
   },
   "source": [
    "and then compute the mean average:"
   ]
  },
  {
   "cell_type": "code",
   "execution_count": 20,
   "id": "8e770abc",
   "metadata": {
    "ExecuteTime": {
     "end_time": "2024-02-16T13:55:23.873303Z",
     "start_time": "2024-02-16T13:55:23.866312Z"
    },
    "colab": {
     "base_uri": "https://localhost:8080/"
    },
    "id": "8e770abc",
    "outputId": "29d8f462-ad4f-482e-e089-d33abca4a985"
   },
   "outputs": [
    {
     "name": "stdout",
     "output_type": "stream",
     "text": [
      "0.4814660391292014\n"
     ]
    }
   ],
   "source": [
    "mean = 1.0 / float(n) * np.sum(x)\n",
    "print(mean)"
   ]
  },
  {
   "cell_type": "markdown",
   "id": "irS0I-MohrZM",
   "metadata": {
    "id": "irS0I-MohrZM"
   },
   "source": [
    "Of course, numpy has mean average as a built in function:"
   ]
  },
  {
   "cell_type": "code",
   "execution_count": 21,
   "id": "2dn51Lcphwa0",
   "metadata": {
    "ExecuteTime": {
     "end_time": "2024-02-16T13:55:23.873729Z",
     "start_time": "2024-02-16T13:55:23.867807Z"
    },
    "colab": {
     "base_uri": "https://localhost:8080/"
    },
    "id": "2dn51Lcphwa0",
    "outputId": "2e50fdf5-5e40-4cbb-ab43-c6120996c8ed"
   },
   "outputs": [
    {
     "name": "stdout",
     "output_type": "stream",
     "text": [
      "0.4814660391292014\n"
     ]
    }
   ],
   "source": [
    "mean = np.mean(x)\n",
    "print(mean)"
   ]
  },
  {
   "cell_type": "markdown",
   "id": "a4f5041c",
   "metadata": {
    "id": "a4f5041c"
   },
   "source": [
    "## Deriving the mean\n",
    "\n",
    "So far so simple...\n",
    "\n",
    "But do you know *why* that's the formula for the mean?\n",
    "\n",
    "### Mean as optimisation problem\n",
    "\n",
    "Actually, this formula is the solution to an optimisation problem. It is the value that minimises the squared differences to all data points:\n",
    "\n",
    "$$\\bar{x}=\\arg\\min_{\\bar{x}} \\sum_{i=1}^n (\\bar{x}-x_i)^2$$\n",
    "\n",
    "In other words, if we defined sum of squared differences as our loss function and solved the resulting optimisation problem, we would get the mean as the answer.\n",
    "\n",
    "So, how is the formula we know for the mean derived from this optimisation problem? The answer is that this optimisation problem has a *closed form solution*. This means that we can write down an equation that solves it exactly, i.e. provides the *global optimum*. To do so, we only need A-level standard maths.\n",
    "\n",
    "### Thought you'd never have to do differentiation again?\n",
    "\n",
    "How do we minimise a function? We need to find the *stationary points* which we get by differentiating the function, setting to zero and solving. It's a bit of a painful process for the function above, but let's do it. Start by expanding the summation and square, then multiply out the brackets and collect like terms:\n",
    "\n",
    "$$\\begin{aligned}\\sum_{i=1}^n (\\bar{x}-x_i)^2 &= (\\bar{x}-x_1)(\\bar{x}-x_1) + \\dots + (\\bar{x}-x_n)(\\bar{x}-x_n) \\\\ \n",
    "&= \\bar{x}^2 - 2x_1\\bar{x} + x_1^2 + \\dots \\bar{x}^2 - 2x_n\\bar{x} + x_n^2 \\\\\n",
    "&= n\\bar{x}^2 - 2\\bar{x}\\sum_{i=1}^nx_i + \\sum_{i=1}^nx_i^2\\end{aligned}$$\n",
    "\n",
    "In terms of $\\bar{x}$, can you see what sort of function we have now? It's just a quadratic! i.e.\n",
    "\n",
    "$$f(\\bar{x}) = a\\bar{x}^2 + b\\bar{x} + c$$\n",
    "\n",
    "where $a$, $b$ and $c$ happen to be:\n",
    "\n",
    "$$a=n,\\quad b=-2\\sum_{i=1}^nx_i,\\quad c=\\sum_{i=1}^nx_i^2.$$\n",
    "\n",
    "Now, hopefully you all remember how to differentiate $a\\bar{x}^2 + b\\bar{x} + c$? It's simply:\n",
    "\n",
    "$$\\frac{\\partial f}{\\partial \\bar{x}} = 2a\\bar{x} + b$$\n",
    "\n",
    "Now set to zero and solve:\n",
    "\n",
    "$$\\begin{aligned}2a\\bar{x} + b&=0\\\\\n",
    "\\bar{x}=\\frac{-b}{2a}\\end{aligned}$$\n",
    "\n",
    "Now plug in $a$ and $b$:\n",
    "\n",
    "$$\\bar{x}=\\frac{2\\sum_{i=1}^nx_i}{2n}=\\frac{1}{n} \\sum_{i=1}^n x_i$$\n",
    "\n",
    "It's the formula for the mean that we know and love!\n",
    "\n",
    "**Wow - that was pretty painful right?!**\n",
    "\n",
    "And that was for just about the most trivial machine learning problem you could possibly imagine (no inputs, one output, sum of squared errors as the loss). Consider a multilayer perceptron with many layers, nonlinear activation functions and a logistic regression layer on the end for classification. Imagine trying to differentiate that by hand! (And it wouldn't have a closed form solution anyway...)"
   ]
  },
  {
   "cell_type": "markdown",
   "id": "mPWM1oBmO-Ye",
   "metadata": {
    "id": "mPWM1oBmO-Ye"
   },
   "source": [
    "## Differentiable programming\n",
    "\n",
    "We'll now see a totally different way of solving optimisation problems (and it might mean you never have to do differentiation by hand again!) The idea is that we simply write code that computes the loss function, i.e. the thing we want to minimise, from some given input.\n",
    "\n",
    "A differentiable programming language can then automatically differentiate backwards from our loss function, all the way through our series of instructions right back to the input(s). At any point through this chain of differentiation, we can ask: what is the gradient of the loss function with respect to some parameters at this point in the chain? And we can use this to optimise the loss function using gradient descent (or some other algorithm) automatically.\n",
    "\n",
    "We're going to see a particular example of differentiable programming: PyTorch.\n",
    "\n",
    "Let's repeat the above example but this time, instead of differentiating and solving by hand, we'll use differentiable programming in PyTorch and solve by iterative optimisation."
   ]
  },
  {
   "cell_type": "code",
   "execution_count": 22,
   "id": "1c5fb9b3",
   "metadata": {
    "ExecuteTime": {
     "end_time": "2024-02-16T13:55:23.874216Z",
     "start_time": "2024-02-16T13:55:23.871411Z"
    },
    "id": "1c5fb9b3"
   },
   "outputs": [],
   "source": [
    "import torch\n",
    "\n",
    "# Copy the sequence of numbers from numpy array to PyTorch tensor\n",
    "xt = torch.from_numpy(x)"
   ]
  },
  {
   "cell_type": "markdown",
   "id": "RNoRDK-uzqb_",
   "metadata": {
    "id": "RNoRDK-uzqb_"
   },
   "source": [
    "The above just imports the main PyTorch libraries and then copies the dataset x from a numpy array to a PyTorch **tensor**. These are very similar in that both are multidimensional arrays and can be indexed and sliced in similar ways. But PyTorch tensors can easily be transferred to a GPU (essential for processing large datasets quickly) and have many useful operations that are automatically differentiable. Tensors are the fundamental data type in PyTorch: every layer in our neural networks will take one or more tensors as input and output one or more tensors. We'll learn more about them later but that will do for now.\n",
    "\n",
    "Let's get on with something more interesting: let's write some code to compute our loss function."
   ]
  },
  {
   "cell_type": "code",
   "execution_count": 23,
   "id": "a309a618",
   "metadata": {
    "ExecuteTime": {
     "end_time": "2024-02-16T13:55:23.876496Z",
     "start_time": "2024-02-16T13:55:23.873545Z"
    },
    "id": "a309a618"
   },
   "outputs": [],
   "source": [
    "def sum_squared_differences(average, xt):\n",
    "    loss = torch.sum((xt - average) ** 2.0)\n",
    "    return loss"
   ]
  },
  {
   "cell_type": "markdown",
   "id": "wNA2kCs81ohb",
   "metadata": {
    "id": "wNA2kCs81ohb"
   },
   "source": [
    "This function takes as input the current estimate of the mean value and the dataset as a tensor. All it does inside the function is compute the sum of squared errors between the estimate of the mean and all elements in the dataset. Notice how we used a PyTorch operation `torch.sum`? We could equally have used the sum method of the tensor to get the same effect:\n",
    "\n",
    "`loss = ((xt-mean)**2.0).sum()`\n",
    "\n",
    "There is no difference - it's just a matter of coding style and I will mix the two."
   ]
  },
  {
   "cell_type": "markdown",
   "id": "Qxbwlc4g21sc",
   "metadata": {
    "id": "Qxbwlc4g21sc"
   },
   "source": [
    "## Optimisation in PyTorch\n",
    "\n",
    "We've written down our loss function, now it's time to iteratively optimise it. Like any iterative optimisation, we need an initialisation. Let's just use a random number for our initial guess at the mean. There's also a couple of other things we need to set up:"
   ]
  },
  {
   "cell_type": "code",
   "execution_count": 24,
   "id": "46f19147",
   "metadata": {
    "ExecuteTime": {
     "end_time": "2024-02-16T13:55:23.878685Z",
     "start_time": "2024-02-16T13:55:23.876050Z"
    },
    "id": "46f19147"
   },
   "outputs": [],
   "source": [
    "# Let's initialise our estimate of the mean randomly\n",
    "average = torch.rand(1)\n",
    "# We need to tell PyTorch that we need the gradient of the loss with respect to the mean\n",
    "average.requires_grad = True\n",
    "# Set up the optimiser and tell it that the variable to optimise is the mean\n",
    "optim = torch.optim.SGD([average], lr=0.01)"
   ]
  },
  {
   "cell_type": "markdown",
   "id": "sOqBomzdCEsr",
   "metadata": {
    "id": "sOqBomzdCEsr"
   },
   "source": [
    "`optim` is now an optimiser object that will use the Stochastic Gradient Descent algorithm (the \"stochastic\" part only comes in when we talk about batching data - in this particular example it will just run normal gradient descent). We have to give it an iterable list containing the parameters to be optimised (in our case just `average` - and note that we had to set `requires_grad` to true because we need to know the gradient of the loss with respect to this parameter). Our optimiser has one hyperparameter: `lr` is the learning rate. I've set it to a value that should work ok. Now we're ready to optimise."
   ]
  },
  {
   "cell_type": "code",
   "execution_count": 25,
   "id": "bf53313a",
   "metadata": {
    "ExecuteTime": {
     "end_time": "2024-02-16T13:55:23.920080Z",
     "start_time": "2024-02-16T13:55:23.879086Z"
    },
    "colab": {
     "base_uri": "https://localhost:8080/"
    },
    "id": "bf53313a",
    "outputId": "f388ce44-771f-4c82-8a2a-f8e9f61cf8dc"
   },
   "outputs": [
    {
     "name": "stdout",
     "output_type": "stream",
     "text": [
      "Step 0, loss 0.976449, mean 0.576184\n",
      "Step 5, loss 0.872871, mean 0.516582\n",
      "Step 10, loss 0.858634, mean 0.494485\n",
      "Step 15, loss 0.856678, mean 0.486293\n",
      "Step 20, loss 0.856409, mean 0.483255\n",
      "Step 25, loss 0.856372, mean 0.482129\n",
      "Step 30, loss 0.856367, mean 0.481712\n",
      "Step 35, loss 0.856366, mean 0.481557\n",
      "Step 40, loss 0.856366, mean 0.481500\n",
      "Step 45, loss 0.856366, mean 0.481479\n",
      "Step 50, loss 0.856366, mean 0.481471\n",
      "Step 55, loss 0.856366, mean 0.481468\n",
      "Step 60, loss 0.856366, mean 0.481467\n",
      "Step 65, loss 0.856366, mean 0.481466\n",
      "Step 70, loss 0.856366, mean 0.481466\n",
      "Step 75, loss 0.856366, mean 0.481466\n",
      "Step 80, loss 0.856366, mean 0.481466\n",
      "Step 85, loss 0.856366, mean 0.481466\n",
      "Step 90, loss 0.856366, mean 0.481466\n",
      "Step 95, loss 0.856366, mean 0.481466\n"
     ]
    }
   ],
   "source": [
    "niter = 100\n",
    "for step in range(niter):\n",
    "    # Run forward pass to compute our loss function\n",
    "    loss = sum_squared_differences(average, xt)\n",
    "    # Reset the gradients in the optimiser object to zero\n",
    "    optim.zero_grad()\n",
    "    # MAGIC! (See below)\n",
    "    loss.backward()\n",
    "    # Update all parameters with one gradient descent step\n",
    "    optim.step()\n",
    "    if not step % 5:\n",
    "        # Display iteration number, current loss and current estimate of the mean\n",
    "        print(\"Step %d, loss %0.6f, mean %0.6f\" % (step, loss, average))"
   ]
  },
  {
   "cell_type": "markdown",
   "id": "d_hF4SrHDVjd",
   "metadata": {
    "id": "d_hF4SrHDVjd"
   },
   "source": [
    "The above code ran 100 iterations of gradient descent on our loss function, updating the estimate of the mean at each iteration. Compare the final value of the mean with what you got from the closed form numpy solution above. Are they the same?\n",
    "\n",
    "They should be similar. They're not exact because we probably didn't run enough iterations (i.e. hadn't converged) and/or our learning rate is probably not optimal.\n",
    "\n",
    "## Autograd\n",
    "\n",
    "Something seriously magical happened in the above code. When we called loss.backward(), PyTorch automatically works backwards through our code, starting from `loss` and computing gradients via all tensors involved in the computation of the current loss value. At some point, this process reached `average`, where it was able to compute $\\partial$ `loss`/$\\partial$ `average`. This saved us all the pain from earlier of differentiating by hand. Once we had this, we were able to take a gradient descent step in the line `optim.step()`. This tells the optimiser to update everything that was passed to the optimiser as an optimisation variable. If you want to read more about autograd and how it works, see here:\n",
    "\n",
    "https://pytorch.org/tutorials/beginner/blitz/autograd_tutorial.html\n",
    "\n",
    "## Summary\n",
    "\n",
    "So, we've traded the pain of differentiating by hand for writing code to compute only the forward function. On the other hand, in this particular case we've lost the closed form solution and replaced it with something iterative, slower and dependent on hyperparameters (learning rate and number of iterations). But have we gained anything else? Yes! **Flexibility**.\n",
    "\n",
    "If we now decide we want a different loss than sum of squared errors, we just change our code to compute something else. And it need not have a closed form solution. Let's use sum of absolute differences instead:"
   ]
  },
  {
   "cell_type": "code",
   "execution_count": 26,
   "id": "U-NeJVctF0yk",
   "metadata": {
    "ExecuteTime": {
     "end_time": "2024-02-16T13:55:23.921651Z",
     "start_time": "2024-02-16T13:55:23.903690Z"
    },
    "colab": {
     "base_uri": "https://localhost:8080/"
    },
    "id": "U-NeJVctF0yk",
    "outputId": "f37265d0-b805-49ba-ae41-89d0cb8c8de4"
   },
   "outputs": [
    {
     "name": "stdout",
     "output_type": "stream",
     "text": [
      "Step 0, loss 0.264196, average 0.480355\n",
      "Step 5, loss 0.263579, average 0.474799\n",
      "Step 10, loss 0.262962, average 0.469244\n",
      "Step 15, loss 0.262344, average 0.463688\n",
      "Step 20, loss 0.261727, average 0.458133\n",
      "Step 25, loss 0.261110, average 0.452577\n",
      "Step 30, loss 0.260492, average 0.447021\n",
      "Step 35, loss 0.259875, average 0.441466\n",
      "Step 40, loss 0.259258, average 0.435910\n",
      "Step 45, loss 0.258641, average 0.430355\n",
      "Step 50, loss 0.258023, average 0.424799\n",
      "Step 55, loss 0.257406, average 0.419243\n",
      "Step 60, loss 0.256789, average 0.413688\n",
      "Step 65, loss 0.256418, average 0.410354\n",
      "Step 70, loss 0.256295, average 0.411466\n",
      "Step 75, loss 0.256418, average 0.410354\n",
      "Step 80, loss 0.256295, average 0.411466\n",
      "Step 85, loss 0.256418, average 0.410354\n",
      "Step 90, loss 0.256295, average 0.411466\n",
      "Step 95, loss 0.256418, average 0.410354\n"
     ]
    }
   ],
   "source": [
    "def sum_absolute_differences(average, xt):\n",
    "    loss = (xt - average).abs().mean()\n",
    "    return loss\n",
    "\n",
    "\n",
    "niter = 100\n",
    "for step in range(niter):\n",
    "    loss = sum_absolute_differences(average, xt)\n",
    "    optim.zero_grad()\n",
    "    loss.backward()\n",
    "    optim.step()\n",
    "    if not step % 5:\n",
    "        print(\"Step %d, loss %0.6f, average %0.6f\" % (step, loss, average))"
   ]
  },
  {
   "cell_type": "markdown",
   "id": "PuYThC12GyHn",
   "metadata": {
    "id": "PuYThC12GyHn"
   },
   "source": [
    "Any idea what this just computed? It's a different kind of average... You might get a clue if we look at the original data in order:"
   ]
  },
  {
   "cell_type": "code",
   "execution_count": 27,
   "id": "7f4f7502",
   "metadata": {
    "ExecuteTime": {
     "end_time": "2024-02-16T13:55:23.922096Z",
     "start_time": "2024-02-16T13:55:23.910027Z"
    },
    "colab": {
     "base_uri": "https://localhost:8080/"
    },
    "id": "7f4f7502",
    "outputId": "5a2b161e-91c5-4c96-b3e3-8bc51e01661e"
   },
   "outputs": [
    {
     "name": "stdout",
     "output_type": "stream",
     "text": [
      "torch.return_types.sort(\n",
      "values=tensor([0.0344, 0.1562, 0.2625, 0.3550, 0.4104, 0.4855, 0.7885, 0.8879, 0.9529],\n",
      "       dtype=torch.float64),\n",
      "indices=tensor([8, 2, 0, 1, 3, 5, 7, 4, 6]))\n"
     ]
    }
   ],
   "source": [
    "print(xt.sort())"
   ]
  },
  {
   "cell_type": "markdown",
   "id": "I2NzohuvJXDT",
   "metadata": {
    "id": "I2NzohuvJXDT"
   },
   "source": [
    "It's the median! (Or would be if the optimisation has converged). **Interesting eh?!** The median is also the solution to an optimisation problem, this time the sum of absolute differences."
   ]
  },
  {
   "cell_type": "code",
   "execution_count": 28,
   "id": "rfKKY8GQJbfJ",
   "metadata": {
    "ExecuteTime": {
     "end_time": "2024-02-16T13:55:23.922380Z",
     "start_time": "2024-02-16T13:55:23.914713Z"
    },
    "colab": {
     "base_uri": "https://localhost:8080/"
    },
    "id": "rfKKY8GQJbfJ",
    "outputId": "2cfe1b44-e952-46e1-af28-20f9f0775ee7"
   },
   "outputs": [
    {
     "name": "stdout",
     "output_type": "stream",
     "text": [
      "0.4103563206018723\n"
     ]
    }
   ],
   "source": [
    "print(np.median(x))"
   ]
  },
  {
   "cell_type": "markdown",
   "id": "s4DqRnPbJnRf",
   "metadata": {
    "id": "s4DqRnPbJnRf"
   },
   "source": [
    "## Tidying up\n",
    "\n",
    "There's a few loose ends to tie up. First of all, PyTorch has lots of useful loss functions already built-in. For example \"sum of absolute differences\" would be called \"L1 loss with sum reduction\" in PyTorch. We could replace the definition of sum_absolute_differences with a built-in PyTorch loss:\n",
    "\n",
    "`sum_absolute_differences = torch.nn.L1Loss(reduction='sum')`\n",
    "\n",
    "The only difference is that where we actually compute the loss, we explicitly need to copy the average n times since the loss function expects two tensors the same size:\n",
    "\n",
    "`loss = sum_absolute_differences(average.repeat(9),xt)`"
   ]
  },
  {
   "cell_type": "code",
   "execution_count": 29,
   "id": "56BA1fRoJ_sV",
   "metadata": {
    "ExecuteTime": {
     "end_time": "2024-02-16T13:55:23.958653Z",
     "start_time": "2024-02-16T13:55:23.917552Z"
    },
    "colab": {
     "base_uri": "https://localhost:8080/"
    },
    "id": "56BA1fRoJ_sV",
    "outputId": "0d957f71-a0ee-431a-f746-0ea2937e8b10"
   },
   "outputs": [
    {
     "name": "stdout",
     "output_type": "stream",
     "text": [
      "Step 0, loss 2.306658, average 0.420354\n",
      "Step 5, loss 2.316654, average 0.410354\n",
      "Step 10, loss 2.306658, average 0.420354\n",
      "Step 15, loss 2.316654, average 0.410354\n",
      "Step 20, loss 2.306658, average 0.420354\n",
      "Step 25, loss 2.316654, average 0.410354\n",
      "Step 30, loss 2.306658, average 0.420354\n",
      "Step 35, loss 2.316654, average 0.410354\n",
      "Step 40, loss 2.306658, average 0.420354\n",
      "Step 45, loss 2.316654, average 0.410354\n",
      "Step 50, loss 2.306658, average 0.420354\n",
      "Step 55, loss 2.316654, average 0.410354\n",
      "Step 60, loss 2.306658, average 0.420354\n",
      "Step 65, loss 2.316654, average 0.410354\n",
      "Step 70, loss 2.306658, average 0.420354\n",
      "Step 75, loss 2.316654, average 0.410354\n",
      "Step 80, loss 2.306658, average 0.420354\n",
      "Step 85, loss 2.316654, average 0.410354\n",
      "Step 90, loss 2.306658, average 0.420354\n",
      "Step 95, loss 2.316654, average 0.410354\n"
     ]
    }
   ],
   "source": [
    "sum_absolute_differences = torch.nn.L1Loss(reduction=\"sum\")\n",
    "niter = 100\n",
    "for step in range(niter):\n",
    "    loss = sum_absolute_differences(average.repeat(9), xt)\n",
    "    optim.zero_grad()\n",
    "    loss.backward()\n",
    "    optim.step()\n",
    "    if not step % 5:\n",
    "        print(\"Step %d, loss %0.6f, average %0.6f\" % (step, loss, average))"
   ]
  },
  {
   "cell_type": "markdown",
   "id": "nJD2-P8a9mVR",
   "metadata": {
    "id": "nJD2-P8a9mVR"
   },
   "source": [
    "## Things for you to try\n",
    "\n",
    "It's time to do some experimentation yourself. \n",
    "\n",
    "1. What happens if you change the learning rate of the optimiser? \n"
   ]
  },
  {
   "cell_type": "code",
   "execution_count": 30,
   "id": "8bac7284c10d8c3d",
   "metadata": {
    "ExecuteTime": {
     "end_time": "2024-02-16T13:55:23.960670Z",
     "start_time": "2024-02-16T13:55:23.929094Z"
    },
    "collapsed": false
   },
   "outputs": [
    {
     "name": "stdout",
     "output_type": "stream",
     "text": [
      "Step 0, loss 0.867228, mean 0.540524\n",
      "Step 5, loss 3.046125, mean -0.357078\n",
      "Step 10, loss 442.310847, mean 12.387597\n",
      "Step 15, loss 88997.885635, mean -168.568634\n",
      "Step 20, loss 17941758.348598, mean 2400.751953\n",
      "Step 25, loss 3617048763.296261, mean -34079.933594\n",
      "Step 30, loss 729195442640.344482, mean 483893.843750\n",
      "Step 35, loss 147005465773860.937500, mean -6870596.000000\n",
      "Step 40, loss 29636224836766828.000000, mean 97552672.000000\n",
      "Step 45, loss 5974647379925635072.000000, mean -1385108608.000000\n",
      "Step 50, loss 1204485530407161561088.000000, mean 19666565120.000000\n",
      "Step 55, loss 242823807757344946782208.000000, mean -279237230592.000000\n",
      "Step 60, loss 48953171295663586906472448.000000, mean 3964770975744.000000\n",
      "Step 65, loss 9868939644358887661727907840.000000, mean -56294106988544.000000\n",
      "Step 70, loss 1989573696492583607222002515968.000000, mean 799296098140160.000000\n",
      "Step 75, loss 401097041890961937857716206698496.000000, mean -11348864816644096.000000\n",
      "Step 80, loss 80861000838559568532757901878493184.000000, mean 161137741197737984.000000\n",
      "Step 85, loss 16301535136633727763862141793835417600.000000, mean -2287925780044316672.000000\n",
      "Step 90, loss 3286381806594644786910532739748839030784.000000, mean 32485284347897708544.000000\n",
      "Step 95, loss 662532908762898526375353530387418159513600.000000, mean -461244740823939022848.000000\n"
     ]
    }
   ],
   "source": [
    "# large learning rate\n",
    "average = torch.rand(1)\n",
    "average.requires_grad = True\n",
    "optim_large_lr = torch.optim.SGD(\n",
    "    [average], lr=0.15\n",
    ")  # a learning rate that is probably way too large - expected outcome is not being able to find the minimum due to overshooting\n",
    "niter = 100\n",
    "for step in range(niter):\n",
    "    # Run forward pass to compute our loss function\n",
    "    loss = sum_squared_differences(average, xt)\n",
    "    # Reset the gradients in the optimiser object to zero\n",
    "    optim_large_lr.zero_grad()\n",
    "    # MAGIC! (See below)\n",
    "    loss.backward()\n",
    "    # Update all parameters with one gradient descent step\n",
    "    optim_large_lr.step()\n",
    "    if not step % 5:\n",
    "        # Display iteration number, current loss and current estimate of the mean\n",
    "        print(\"Step %d, loss %0.6f, mean %0.6f\" % (step, loss, average))"
   ]
  },
  {
   "cell_type": "code",
   "execution_count": 31,
   "id": "52a0002f3afc8f39",
   "metadata": {
    "ExecuteTime": {
     "end_time": "2024-02-16T13:55:23.961293Z",
     "start_time": "2024-02-16T13:55:23.937962Z"
    },
    "collapsed": false
   },
   "outputs": [
    {
     "name": "stdout",
     "output_type": "stream",
     "text": [
      "Step 0, loss 2.596151, mean 0.042588\n",
      "Step 5, loss 2.565087, mean 0.046524\n",
      "Step 10, loss 2.534578, mean 0.050424\n",
      "Step 15, loss 2.504614, mean 0.054289\n",
      "Step 20, loss 2.475184, mean 0.058120\n",
      "Step 25, loss 2.446280, mean 0.061917\n",
      "Step 30, loss 2.417893, mean 0.065679\n",
      "Step 35, loss 2.390012, mean 0.069408\n",
      "Step 40, loss 2.362629, mean 0.073103\n",
      "Step 45, loss 2.335735, mean 0.076765\n",
      "Step 50, loss 2.309320, mean 0.080394\n",
      "Step 55, loss 2.283378, mean 0.083991\n",
      "Step 60, loss 2.257899, mean 0.087555\n",
      "Step 65, loss 2.232875, mean 0.091088\n",
      "Step 70, loss 2.208297, mean 0.094588\n",
      "Step 75, loss 2.184159, mean 0.098058\n",
      "Step 80, loss 2.160451, mean 0.101496\n",
      "Step 85, loss 2.137167, mean 0.104903\n",
      "Step 90, loss 2.114298, mean 0.108280\n",
      "Step 95, loss 2.091838, mean 0.111627\n"
     ]
    }
   ],
   "source": [
    "# small learning rate\n",
    "# Let's initialise our estimate of the mean randomly\n",
    "average = torch.rand(1)\n",
    "# We need to tell PyTorch that we need the gradient of the loss with respect to the mean\n",
    "average.requires_grad = True\n",
    "# Set up the optimiser and tell it that the variable to optimise is the mean\n",
    "optim_small_lr = torch.optim.SGD(\n",
    "    [average], lr=0.0001\n",
    ")  # a learning rate that is probably too small - expected outcome is not being able to reach a good loss value in 100 steps\n",
    "niter = 100\n",
    "for step in range(niter):\n",
    "    # Run forward pass to compute our loss function\n",
    "    loss = sum_squared_differences(average, xt)\n",
    "    # Reset the gradients in the optimiser object to zero\n",
    "    optim_small_lr.zero_grad()\n",
    "    # MAGIC! (See below)\n",
    "    loss.backward()\n",
    "    # Update all parameters with one gradient descent step\n",
    "    optim_small_lr.step()\n",
    "    if not step % 5:\n",
    "        # Display iteration number, current loss and current estimate of the mean\n",
    "        print(\"Step %d, loss %0.6f, mean %0.6f\" % (step, loss, average))"
   ]
  },
  {
   "cell_type": "markdown",
   "id": "692e45d8933464a1",
   "metadata": {
    "collapsed": false
   },
   "source": [
    "2. Can you think of other initialisation strategies? Using one of the input data points can be a good idea, but be careful. If you do, for example: `average = xt[0]`, you create a connection in the computational graph between `average` and `xt[0]` so the behaviour of the optimisation will not be as you expect (the value of `xt[0]` will change during the optimisation). Instead you could use: `average = xt[0].clone()`. This creates a new tensor containing the value that was in `xt[0]`."
   ]
  },
  {
   "cell_type": "code",
   "execution_count": 32,
   "id": "9462c1199cb34e82",
   "metadata": {
    "ExecuteTime": {
     "end_time": "2024-02-16T13:55:23.988100Z",
     "start_time": "2024-02-16T13:55:23.947354Z"
    },
    "collapsed": false
   },
   "outputs": [
    {
     "name": "stdout",
     "output_type": "stream",
     "text": [
      "Step 0, loss 2.639388, average 0.302544\n",
      "Step 5, loss 2.334468, average 0.392544\n",
      "Step 10, loss 2.308843, average 0.402544\n",
      "Step 15, loss 2.314468, average 0.412544\n",
      "Step 20, loss 2.308843, average 0.402544\n",
      "Step 25, loss 2.314468, average 0.412544\n",
      "Step 30, loss 2.308843, average 0.402544\n",
      "Step 35, loss 2.314468, average 0.412544\n",
      "Step 40, loss 2.308843, average 0.402544\n",
      "Step 45, loss 2.314468, average 0.412544\n",
      "Step 50, loss 2.308843, average 0.402544\n",
      "Step 55, loss 2.314468, average 0.412544\n",
      "Step 60, loss 2.308843, average 0.402544\n",
      "Step 65, loss 2.314468, average 0.412544\n",
      "Step 70, loss 2.308843, average 0.402544\n",
      "Step 75, loss 2.314468, average 0.412544\n",
      "Step 80, loss 2.308843, average 0.402544\n",
      "Step 85, loss 2.314468, average 0.412544\n",
      "Step 90, loss 2.308843, average 0.402544\n",
      "Step 95, loss 2.314468, average 0.412544\n",
      "Actual mean: 0.4814660391292014\n"
     ]
    }
   ],
   "source": [
    "# initialising with one of the values of x\n",
    "average = xt[0].clone()\n",
    "average.requires_grad = True\n",
    "sum_absolute_differences = torch.nn.L1Loss(reduction=\"sum\")\n",
    "optim = torch.optim.SGD([average], lr=0.01)\n",
    "niter = 100\n",
    "for step in range(niter):\n",
    "    loss = sum_absolute_differences(average.repeat(9), xt)\n",
    "    optim.zero_grad()\n",
    "    loss.backward()\n",
    "    optim.step()\n",
    "    if not step % 5:\n",
    "        print(\"Step %d, loss %0.6f, average %0.6f\" % (step, loss, average))\n",
    "print(f\"Actual mean: {x.mean()}\")"
   ]
  },
  {
   "cell_type": "code",
   "execution_count": 33,
   "id": "fdec1393846375a7",
   "metadata": {
    "ExecuteTime": {
     "end_time": "2024-02-16T13:55:23.991203Z",
     "start_time": "2024-02-16T13:55:23.956016Z"
    },
    "collapsed": false
   },
   "outputs": [
    {
     "name": "stdout",
     "output_type": "stream",
     "text": [
      "Step 0, loss 4.333194, average 0.090000\n",
      "Step 5, loss 2.497020, average 0.340000\n",
      "Step 10, loss 2.317012, average 0.410000\n",
      "Step 15, loss 2.307012, average 0.420000\n",
      "Step 20, loss 2.316300, average 0.410000\n",
      "Step 25, loss 2.307012, average 0.420000\n",
      "Step 30, loss 2.316300, average 0.410000\n",
      "Step 35, loss 2.307012, average 0.420000\n",
      "Step 40, loss 2.316300, average 0.410000\n",
      "Step 45, loss 2.307012, average 0.420000\n",
      "Step 50, loss 2.316300, average 0.410000\n",
      "Step 55, loss 2.307012, average 0.420000\n",
      "Step 60, loss 2.316300, average 0.410000\n",
      "Step 65, loss 2.307012, average 0.420000\n",
      "Step 70, loss 2.316300, average 0.410000\n",
      "Step 75, loss 2.307012, average 0.420000\n",
      "Step 80, loss 2.316300, average 0.410000\n",
      "Step 85, loss 2.307012, average 0.420000\n",
      "Step 90, loss 2.316300, average 0.410000\n",
      "Step 95, loss 2.307012, average 0.420000\n",
      "Actual mean: 0.4814660391292014\n"
     ]
    }
   ],
   "source": [
    "# initialising with zero\n",
    "average = torch.zeros(1)\n",
    "average.requires_grad = True\n",
    "sum_absolute_differences = torch.nn.L1Loss(reduction=\"sum\")\n",
    "optim = torch.optim.SGD([average], lr=0.01)\n",
    "niter = 100\n",
    "for step in range(niter):\n",
    "    loss = sum_absolute_differences(average.repeat(9), xt)\n",
    "    optim.zero_grad()\n",
    "    loss.backward()\n",
    "    optim.step()\n",
    "    if not step % 5:\n",
    "        print(\"Step %d, loss %0.6f, average %0.6f\" % (step, loss, average))\n",
    "print(f\"Actual mean: {x.mean()}\")"
   ]
  },
  {
   "cell_type": "markdown",
   "id": "fdee9befe208dd6f",
   "metadata": {
    "collapsed": false
   },
   "source": [
    "3. Think up some different loss functions and try replacing sum of squared/absolute differences with these. Does changing from sum to mean reduction make a difference to the minimum obtained?"
   ]
  },
  {
   "cell_type": "markdown",
   "id": "4ad395bdbea68db7",
   "metadata": {
    "collapsed": false
   },
   "source": []
  },
  {
   "cell_type": "code",
   "execution_count": 34,
   "id": "61f613625aa2bcaf",
   "metadata": {
    "ExecuteTime": {
     "end_time": "2024-02-16T13:55:23.992098Z",
     "start_time": "2024-02-16T13:55:23.967088Z"
    },
    "collapsed": false
   },
   "outputs": [
    {
     "name": "stdout",
     "output_type": "stream",
     "text": [
      "Step 0, loss 0.256537, average 0.409287\n",
      "Step 5, loss 0.256414, average 0.410399\n",
      "Step 10, loss 0.256300, average 0.409287\n",
      "Step 15, loss 0.256414, average 0.410399\n",
      "Step 20, loss 0.256300, average 0.409287\n",
      "Step 25, loss 0.256414, average 0.410399\n",
      "Step 30, loss 0.256300, average 0.409287\n",
      "Step 35, loss 0.256414, average 0.410399\n",
      "Step 40, loss 0.256300, average 0.409287\n",
      "Step 45, loss 0.256414, average 0.410399\n",
      "Step 50, loss 0.256300, average 0.409287\n",
      "Step 55, loss 0.256414, average 0.410399\n",
      "Step 60, loss 0.256300, average 0.409287\n",
      "Step 65, loss 0.256414, average 0.410399\n",
      "Step 70, loss 0.256300, average 0.409287\n",
      "Step 75, loss 0.256414, average 0.410399\n",
      "Step 80, loss 0.256300, average 0.409287\n",
      "Step 85, loss 0.256414, average 0.410399\n",
      "Step 90, loss 0.256300, average 0.409287\n",
      "Step 95, loss 0.256414, average 0.410399\n",
      "Actual mean: 0.4814660391292014\n"
     ]
    }
   ],
   "source": [
    "# using mean instead of sum in the loss function\n",
    "average = torch.rand(1)\n",
    "average.requires_grad = True\n",
    "sum_absolute_differences = torch.nn.L1Loss(reduction=\"mean\")\n",
    "optim = torch.optim.SGD([average], lr=0.01)\n",
    "niter = 100\n",
    "for step in range(niter):\n",
    "    loss = sum_absolute_differences(average.repeat(9), xt)\n",
    "    optim.zero_grad()\n",
    "    loss.backward()\n",
    "    optim.step()\n",
    "    if not step % 5:\n",
    "        print(\"Step %d, loss %0.6f, average %0.6f\" % (step, loss, average))\n",
    "print(f\"Actual mean: {x.mean()}\")"
   ]
  },
  {
   "cell_type": "markdown",
   "id": "8c10e28592bba65a",
   "metadata": {
    "collapsed": false
   },
   "source": []
  },
  {
   "cell_type": "markdown",
   "id": "8ffce440a52bc150",
   "metadata": {
    "collapsed": false
   },
   "source": [
    "4. Extra challenge: Find the minimum of the following function:\n",
    "```python\n",
    "def smooth_2d_function(x, y):\n",
    "  z = -(\n",
    "      torch.exp(-(x - 2) ** 2 - (y - 2) ** 2) +\n",
    "      2 * torch.exp(-(x + 2) ** 2 - (y + 2) ** 2)\n",
    "  )\n",
    "  return z\n",
    "```\n",
    "Note that this function depends on two variables. You will therefore need to initialise two variables that have requires_grad=True and pass both variables to the optimiser. Since you want to directly minimise the function itself, you don't need any additional loss function. Instead, you can simply optimise the value of this function directly using the same strategy you used to minimise a loss function in the previous exercises. What values did you find for the minimum? Do you get different results with different initialisations?"
   ]
  },
  {
   "cell_type": "code",
   "execution_count": 43,
   "id": "bf926de117b19131",
   "metadata": {
    "ExecuteTime": {
     "end_time": "2024-02-16T14:21:39.184463Z",
     "start_time": "2024-02-16T14:21:39.122753Z"
    },
    "collapsed": false
   },
   "outputs": [
    {
     "data": {
      "image/png": "[encoded data removed]",
      "text/plain": "<Figure size 640x480 with 1 Axes>"
     },
     "metadata": {},
     "output_type": "display_data"
    }
   ],
   "source": [
    "import seaborn as sns\n",
    "\n",
    "\n",
    "def smooth_2d_function(x, y):\n",
    "    z = -(\n",
    "        torch.exp(-((x - 2) ** 2) - (y - 2) ** 2)\n",
    "        + 2 * torch.exp(-((x + 2) ** 2) - (y + 2) ** 2)\n",
    "    )\n",
    "    return z\n",
    "\n",
    "\n",
    "x = torch.from_numpy(np.linspace(-5, 5))\n",
    "y = torch.from_numpy(np.linspace(-5, 5))\n",
    "z = smooth_2d_function(x, y)\n",
    "sns.set_style(\"whitegrid\")\n",
    "\n",
    "fig = plt.figure()\n",
    "ax = plt.axes(projection=\"3d\")\n",
    "ax.plot(x, y, z)"
   ]
  }
 ],
 "metadata": {
  "colab": {
   "name": "INT3_practical0.ipynb",
   "provenance": []
  },
  "kernelspec": {
   "display_name": "Python 3 (ipykernel)",
   "language": "python",
   "name": "python3"
  },
  "language_info": {
   "codemirror_mode": {
    "name": "ipython",
    "version": 3
   },
   "file_extension": ".py",
   "mimetype": "text/x-python",
   "name": "python",
   "nbconvert_exporter": "python",
   "pygments_lexer": "ipython3",
   "version": "3.9.1"
  }
 },
 "nbformat": 4,
 "nbformat_minor": 5
}
