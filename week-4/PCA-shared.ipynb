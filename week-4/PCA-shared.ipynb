{
 "cells": [
  {
   "cell_type": "markdown",
   "metadata": {
    "id": "PyOmqrkXuQOH"
   },
   "source": [
    "# Principal components analysis\n",
    "\n",
    "Let's do some simple principal components analysis (PCA) with 2-d data. We'll\n",
    "go with 2-d data, so it is easy to plot. Let's start by creating some fake data. (The same fake data as can be found in the [scikit-learn documentation on PCA](https://scikit-learn.org/stable/modules/generated/sklearn.decomposition.PCA.html#sklearn-decomposition-pca).)"
   ]
  },
  {
   "cell_type": "code",
   "execution_count": 1,
   "metadata": {
    "colab": {
     "base_uri": "https://localhost:8080/",
     "height": 369
    },
    "executionInfo": {
     "elapsed": 723,
     "status": "ok",
     "timestamp": 1666688945563,
     "user": {
      "displayName": "Dimitar Kazakov",
      "userId": "06777707650472316761"
     },
     "user_tz": -60
    },
    "id": "mOhnX5awuQOJ",
    "outputId": "eb9818c2-ce6d-4989-c95f-237040f4a401",
    "ExecuteTime": {
     "end_time": "2024-03-04T12:55:45.757248Z",
     "start_time": "2024-03-04T12:55:44.687962Z"
    }
   },
   "outputs": [
    {
     "data": {
      "text/plain": "<Figure size 640x480 with 1 Axes>",
      "image/png": "[encoded data removed]"
     },
     "metadata": {},
     "output_type": "display_data"
    },
    {
     "name": "stdout",
     "output_type": "stream",
     "text": [
      "[[-1 -1]\n",
      " [-2 -1]\n",
      " [-3 -2]\n",
      " [ 1  1]\n",
      " [ 2  1]\n",
      " [ 3  2]]\n"
     ]
    }
   ],
   "source": [
    "import numpy as np\n",
    "from sklearn.decomposition import PCA\n",
    "import matplotlib.pyplot as plt\n",
    "\n",
    "X = np.array([[-1, -1], [-2, -1], [-3, -2], [1, 1], [2, 1], [3, 2]])\n",
    "plt.scatter(X[:, 0], X[:, 1])\n",
    "plt.show()\n",
    "print(X)"
   ]
  },
  {
   "cell_type": "markdown",
   "metadata": {
    "id": "IU4gTVmkuQOU"
   },
   "source": [
    "Clearly the data is more spread out in the first dimension than in the second. We can quantify this by computing the sample variance in each direction. Here we use `np.var` with default parameters which computes sample variance by dividing the sum of squared distances from mean by $N$, where $N$ is the number of datapoints. This is the MLE for the population variance and is a biased estimate for it."
   ]
  },
  {
   "cell_type": "code",
   "execution_count": 2,
   "metadata": {
    "colab": {
     "base_uri": "https://localhost:8080/"
    },
    "executionInfo": {
     "elapsed": 492,
     "status": "ok",
     "timestamp": 1666688955199,
     "user": {
      "displayName": "Dimitar Kazakov",
      "userId": "06777707650472316761"
     },
     "user_tz": -60
    },
    "id": "gvWLgZkWuQOV",
    "outputId": "ad6bd3db-a042-448f-d2e0-eaf5cbd6a86a",
    "ExecuteTime": {
     "end_time": "2024-03-04T12:55:45.774836Z",
     "start_time": "2024-03-04T12:55:45.767250Z"
    }
   },
   "outputs": [
    {
     "name": "stdout",
     "output_type": "stream",
     "text": [
      "Here is the data in the first dimension along with its sample variance\n",
      "data = [-1 -2 -3  1  2  3]\n",
      "var = 4.666666666666667\n",
      "\n",
      "\n",
      "Here is the data in the second dimension along with its sample variance\n",
      "data = [-1 -1 -2  1  1  2]\n",
      "var = 2.0\n",
      "\n"
     ]
    }
   ],
   "source": [
    "for i, dim in enumerate((\"first\", \"second\")):\n",
    "    print(\n",
    "        \"Here is the data in the {0} dimension along with its sample variance\".format(\n",
    "            dim\n",
    "        )\n",
    "    )\n",
    "    print(\"data = {0}\\nvar = {1}\\n\\n\".format(X[:, i], np.var(X[:, i])))"
   ]
  },
  {
   "cell_type": "markdown",
   "metadata": {
    "id": "gb-vFmG1uQOb"
   },
   "source": [
    "What we just did was to take 2-dimensional data and project it down to 1-dimensional data. We used 2 different projections, and these 2 projections were *orthogonal* (i.e. at right angles to each other). To make the notion of 'projection' more precise we can formalise it as matrix multiplication."
   ]
  },
  {
   "cell_type": "code",
   "execution_count": 3,
   "metadata": {
    "colab": {
     "base_uri": "https://localhost:8080/"
    },
    "executionInfo": {
     "elapsed": 237,
     "status": "ok",
     "timestamp": 1666688960773,
     "user": {
      "displayName": "Dimitar Kazakov",
      "userId": "06777707650472316761"
     },
     "user_tz": -60
    },
    "id": "98hAmjV6uQOc",
    "outputId": "9a4e29ba-17d1-444d-c9d6-e0c9ef9b3c72",
    "ExecuteTime": {
     "end_time": "2024-03-04T12:55:45.782969Z",
     "start_time": "2024-03-04T12:55:45.777767Z"
    }
   },
   "outputs": [
    {
     "name": "stdout",
     "output_type": "stream",
     "text": [
      "Here are the dimensions of the data matrix:  (6, 2)\n",
      "We can multiply by a 2x1 matrix to project down to 1 dim:\n",
      "[-1 -2 -3  1  2  3]\n",
      "(6,)\n",
      "And multiply by a differnt 2x1 matrix for a different projection:\n",
      "[-1 -1 -2  1  1  2]\n",
      "(6,)\n",
      "The two projections are orthogonal: \n",
      "0\n"
     ]
    }
   ],
   "source": [
    "print(\"Here are the dimensions of the data matrix: \", X.shape)\n",
    "print(\"We can multiply by a 2x1 matrix to project down to 1 dim:\")\n",
    "p1 = np.matmul(X, np.array([1, 0]))\n",
    "print(p1)\n",
    "print(p1.shape)\n",
    "print(\"And multiply by a differnt 2x1 matrix for a different projection:\")\n",
    "p2 = np.matmul(X, np.array([0, 1]))\n",
    "print(p2)\n",
    "print(p2.shape)\n",
    "print(\"The two projections are orthogonal: \")\n",
    "print(np.matmul(np.transpose(np.array([1, 0])), np.array([0, 1])))"
   ]
  },
  {
   "cell_type": "markdown",
   "metadata": {
    "id": "aSaxqG3DuQOg"
   },
   "source": [
    "PCA just chooses different projections from the above 'standard' ones. Just like above, the projections (which are just column vectors, here 2x1) will all be orthogonal to each other. The first PCA projection maximises variance, the second maximises variance *subject to the constraint of being orthogonal to the first*. Subsequent projections maximise variance subject to being orthogonal to all earlier projections. The vectors effecting these projections are called *principal component directions*. Each projects the data onto a different vector; these vectors of transformed data are called *principal components*.\n",
    "\n",
    "In our current example there are only two dimensions, so once the first principal component is found, the second is determined.\n",
    "\n",
    "To do PCA with scikit-learn, we create a PCA object (in this case specifying that we wish to keep both dimensions), then call its `fit` method. Then we can project the data onto the two principal components, print out the transformed data together with the two principal components and do a scatter plot of the transformed data."
   ]
  },
  {
   "cell_type": "code",
   "execution_count": 4,
   "metadata": {
    "colab": {
     "base_uri": "https://localhost:8080/",
     "height": 456
    },
    "executionInfo": {
     "elapsed": 432,
     "status": "ok",
     "timestamp": 1666648189458,
     "user": {
      "displayName": "Dimitar Kazakov",
      "userId": "06777707650472316761"
     },
     "user_tz": -60
    },
    "id": "EfGcI0jhuQOg",
    "outputId": "862dee71-c3d5-4cbf-89ca-bdea516ba214",
    "ExecuteTime": {
     "end_time": "2024-03-04T12:55:45.864274Z",
     "start_time": "2024-03-04T12:55:45.790961Z"
    }
   },
   "outputs": [
    {
     "name": "stdout",
     "output_type": "stream",
     "text": [
      "Transformed data\n",
      " [[ 1.38340578  0.2935787 ]\n",
      " [ 2.22189802 -0.25133484]\n",
      " [ 3.6053038   0.04224385]\n",
      " [-1.38340578 -0.2935787 ]\n",
      " [-2.22189802  0.25133484]\n",
      " [-3.6053038  -0.04224385]]\n",
      "\n",
      "Principal component directions\n",
      " [[-0.83849224 -0.54491354]\n",
      " [ 0.54491354 -0.83849224]]\n"
     ]
    },
    {
     "data": {
      "text/plain": "<Figure size 640x480 with 1 Axes>",
      "image/png": "[encoded data removed]"
     },
     "metadata": {},
     "output_type": "display_data"
    }
   ],
   "source": [
    "pca = PCA(n_components=2)\n",
    "pca.fit(X)\n",
    "newX = pca.fit_transform(X)\n",
    "print(\"Transformed data\\n\", newX)\n",
    "print()\n",
    "plt.scatter(newX[:, 0], newX[:, 1])\n",
    "print(\"Principal component directions\\n\", pca.components_)\n",
    "plt.show()"
   ]
  },
  {
   "cell_type": "markdown",
   "metadata": {
    "id": "iTgCAyueuQOk"
   },
   "source": [
    "We have rotated the data, so that the datapoints have maximal variance horizontally (first principal component) and minimal variance vertically (second principal component). Let's compute those two variances."
   ]
  },
  {
   "cell_type": "code",
   "execution_count": 5,
   "metadata": {
    "colab": {
     "base_uri": "https://localhost:8080/"
    },
    "executionInfo": {
     "elapsed": 427,
     "status": "ok",
     "timestamp": 1666648217010,
     "user": {
      "displayName": "Dimitar Kazakov",
      "userId": "06777707650472316761"
     },
     "user_tz": -60
    },
    "id": "l5QA6zxruQOk",
    "outputId": "7118bcf3-8d64-49fc-9b9f-2ca72470b3d8",
    "ExecuteTime": {
     "end_time": "2024-03-04T12:55:45.871792Z",
     "start_time": "2024-03-04T12:55:45.867916Z"
    }
   },
   "outputs": [
    {
     "name": "stdout",
     "output_type": "stream",
     "text": [
      "Here is the first principal component along with its sample variance\n",
      "data = [ 1.38340578  2.22189802  3.6053038  -1.38340578 -2.22189802 -3.6053038 ]\n",
      "var = 6.616285933932036\n",
      "\n",
      "\n",
      "Here is the second principal component along with its sample variance\n",
      "data = [ 0.2935787  -0.25133484  0.04224385 -0.2935787   0.25133484 -0.04224385]\n",
      "var = 0.050380732734631783\n",
      "\n"
     ]
    }
   ],
   "source": [
    "for i, dim in enumerate((\"first\", \"second\")):\n",
    "    print(\n",
    "        \"Here is the {0} principal component along with its sample variance\".format(dim)\n",
    "    )\n",
    "    print(\"data = {0}\\nvar = {1}\\n\\n\".format(newX[:, i], np.var(newX[:, i])))"
   ]
  },
  {
   "cell_type": "markdown",
   "metadata": {
    "id": "fRMTAWlduQOn"
   },
   "source": [
    "Note also that the transformed data is 'centred' - it has mean zero. (Well it would be zero were it not for the inevitable problems of representing real numbers by floating point numbers!)"
   ]
  },
  {
   "cell_type": "code",
   "execution_count": 6,
   "metadata": {
    "colab": {
     "base_uri": "https://localhost:8080/"
    },
    "executionInfo": {
     "elapsed": 375,
     "status": "ok",
     "timestamp": 1666648224757,
     "user": {
      "displayName": "Dimitar Kazakov",
      "userId": "06777707650472316761"
     },
     "user_tz": -60
    },
    "id": "sVaKu0kOuQOo",
    "outputId": "2ff2fb5d-cac2-42a5-a3b8-fb1f48be25fc",
    "ExecuteTime": {
     "end_time": "2024-03-04T12:55:45.878726Z",
     "start_time": "2024-03-04T12:55:45.874301Z"
    }
   },
   "outputs": [
    {
     "name": "stdout",
     "output_type": "stream",
     "text": [
      "0.0 6.707597440443654e-17\n"
     ]
    }
   ],
   "source": [
    "print(np.mean(newX[:, 0]), np.mean(newX[:, 1]))"
   ]
  },
  {
   "cell_type": "markdown",
   "metadata": {
    "id": "CsOhn0VeuQOr"
   },
   "source": [
    "Finally, let us check that the two principal component directions are orthogonal to each other. (And also that the two direction vectors have unit length)."
   ]
  },
  {
   "cell_type": "code",
   "execution_count": 7,
   "metadata": {
    "colab": {
     "base_uri": "https://localhost:8080/"
    },
    "executionInfo": {
     "elapsed": 379,
     "status": "ok",
     "timestamp": 1666648243932,
     "user": {
      "displayName": "Dimitar Kazakov",
      "userId": "06777707650472316761"
     },
     "user_tz": -60
    },
    "id": "V0VveQDOuQOs",
    "outputId": "e55f59d0-297d-4ae4-bbf9-ba90e67994bd",
    "ExecuteTime": {
     "end_time": "2024-03-04T12:55:45.886488Z",
     "start_time": "2024-03-04T12:55:45.880820Z"
    }
   },
   "outputs": [
    {
     "name": "stdout",
     "output_type": "stream",
     "text": [
      "Dot product of principal component directions is\n",
      "-1.3378759257198794e-17\n",
      "Size (L^2 norm) of 1st principal component direction is\n",
      "0.9999999999999998\n",
      "Size (L^2 norm) of 2st principal component direction is\n",
      "0.9999999999999998\n"
     ]
    }
   ],
   "source": [
    "print(\"Dot product of principal component directions is\")\n",
    "print(np.matmul(pca.components_[0], pca.components_[1]))\n",
    "print(\"Size (L^2 norm) of 1st principal component direction is\")\n",
    "print(np.linalg.norm(pca.components_[0]))\n",
    "print(\"Size (L^2 norm) of 2st principal component direction is\")\n",
    "print(np.linalg.norm(pca.components_[1]))"
   ]
  },
  {
   "cell_type": "markdown",
   "metadata": {
    "id": "6R-qgsiGuQOu"
   },
   "source": [
    "Finally, let us check that singular value decomposition (SVD) computes these principal components and associated directions:"
   ]
  },
  {
   "cell_type": "code",
   "execution_count": 8,
   "metadata": {
    "colab": {
     "base_uri": "https://localhost:8080/"
    },
    "executionInfo": {
     "elapsed": 369,
     "status": "ok",
     "timestamp": 1666648254509,
     "user": {
      "displayName": "Dimitar Kazakov",
      "userId": "06777707650472316761"
     },
     "user_tz": -60
    },
    "id": "QU9URl6PuQOv",
    "outputId": "3655b95b-eb85-4fc7-944a-f60b70a85a57",
    "ExecuteTime": {
     "end_time": "2024-03-04T12:55:45.892275Z",
     "start_time": "2024-03-04T12:55:45.888569Z"
    }
   },
   "outputs": [
    {
     "name": "stdout",
     "output_type": "stream",
     "text": [
      "(6, 2) (2,) (2, 2)\n",
      "Principal components:\n",
      "[[-1.38340578  0.2935787 ]\n",
      " [-2.22189802 -0.25133484]\n",
      " [-3.6053038   0.04224385]\n",
      " [ 1.38340578 -0.2935787 ]\n",
      " [ 2.22189802  0.25133484]\n",
      " [ 3.6053038  -0.04224385]]\n",
      "Principal component directions:\n",
      "[[ 0.83849224  0.54491354]\n",
      " [ 0.54491354 -0.83849224]]\n"
     ]
    }
   ],
   "source": [
    "from scipy.linalg import svd\n",
    "\n",
    "U, d, V = svd(X, full_matrices=False)\n",
    "print(U.shape, d.shape, V.shape)\n",
    "D = np.diag(d)  # d is a vector but we need a 2x2 matrix with d on the diagonal\n",
    "print(\"Principal components:\")\n",
    "print(np.matmul(U, D))\n",
    "print(\"Principal component directions:\")\n",
    "print(V)"
   ]
  }
 ],
 "metadata": {
  "colab": {
   "provenance": [
    {
     "file_id": "17lhpCoMzcMVw4Dw51t5Zhvtq-gOLyqUB",
     "timestamp": 1635244485849
    }
   ]
  },
  "kernelspec": {
   "display_name": "Python 3",
   "language": "python",
   "name": "python3"
  },
  "language_info": {
   "codemirror_mode": {
    "name": "ipython",
    "version": 3
   },
   "file_extension": ".py",
   "mimetype": "text/x-python",
   "name": "python",
   "nbconvert_exporter": "python",
   "pygments_lexer": "ipython3",
   "version": "3.7.3"
  }
 },
 "nbformat": 4,
 "nbformat_minor": 0
}
