{
 "cells": [
  {
   "cell_type": "markdown",
   "metadata": {
    "id": "8dvg-OxtN7MA"
   },
   "source": [
    "## Manually rotating the coordinate system of our data\n"
   ]
  },
  {
   "cell_type": "code",
   "execution_count": 1,
   "metadata": {
    "ExecuteTime": {
     "end_time": "2024-03-06T13:13:42.613472Z",
     "start_time": "2024-03-06T13:13:42.317186Z"
    },
    "id": "hCv4a_XY4B7t"
   },
   "outputs": [],
   "source": [
    "import numpy as np\n",
    "from scipy.stats import ortho_group"
   ]
  },
  {
   "cell_type": "markdown",
   "metadata": {
    "id": "47ct3IqRPGMi"
   },
   "source": [
    "Generate a new coordinate system, i.e. a set of N orthonormal vectors (orthogonal vectors of magnitude 1).\n",
    "\n",
    "Here N = 7, random_state is set to guarantee same results on all runs."
   ]
  },
  {
   "cell_type": "code",
   "execution_count": 2,
   "metadata": {
    "ExecuteTime": {
     "end_time": "2024-03-06T13:13:42.628937Z",
     "start_time": "2024-03-06T13:13:42.617825Z"
    },
    "colab": {
     "base_uri": "https://localhost:8080/"
    },
    "id": "uLERth9i5BPw",
    "outputId": "2a06afab-05ee-4358-f116-4326cf5369bb"
   },
   "outputs": [
    {
     "name": "stdout",
     "output_type": "stream",
     "text": [
      "(7, 7)\n",
      "[[ 0.1621 -0.646  -0.1443  0.2816  0.2061  0.5549  0.3253]\n",
      " [-0.2124  0.0144 -0.2472  0.8678 -0.1595 -0.3348 -0.0542]\n",
      " [ 0.3167 -0.5881  0.334  -0.0916 -0.3028 -0.5793  0.0816]\n",
      " [ 0.6051  0.2927 -0.1234  0.1116  0.5764 -0.3142  0.2992]\n",
      " [-0.4431  0.0445  0.7259  0.1691  0.3723 -0.0445  0.3248]\n",
      " [ 0.5102  0.3028  0.4895  0.3287 -0.374   0.379  -0.1299]\n",
      " [ 0.0744 -0.2392  0.1573  0.1009  0.4791 -0.0077 -0.8202]]\n"
     ]
    }
   ],
   "source": [
    "m = ortho_group.rvs(dim=7, random_state=17)\n",
    "print(m.shape)\n",
    "print(m.round(decimals=4))"
   ]
  },
  {
   "cell_type": "code",
   "execution_count": 3,
   "metadata": {
    "ExecuteTime": {
     "end_time": "2024-03-06T13:13:42.637364Z",
     "start_time": "2024-03-06T13:13:42.631580Z"
    },
    "colab": {
     "base_uri": "https://localhost:8080/"
    },
    "id": "aUsH6juq71af",
    "outputId": "720a4c8f-c721-4bb3-c245-13c0d1285b81"
   },
   "outputs": [
    {
     "name": "stdout",
     "output_type": "stream",
     "text": [
      "Shape of X:  (100, 7)\n",
      "First 5 observations/datapoints/rows of X: \n",
      " [[1.     0.     0.2    0.8    0.522  0.1594 0.3185]\n",
      " [0.7937 0.2063 0.196  0.804  0.3927 0.2616 0.3457]\n",
      " [0.8064 0.1936 0.198  0.802  0.379  0.2765 0.3445]\n",
      " [0.8133 0.1867 0.2    0.8    0.5184 0.1489 0.3327]\n",
      " [0.7575 0.2425 0.182  0.818  0.2444 0.287  0.4686]]\n"
     ]
    }
   ],
   "source": [
    "X = np.loadtxt(\"data/sqisland.csv\", delimiter=\",\", skiprows=1, usecols=range(2, 9))\n",
    "print(\"Shape of X: \", X.shape)\n",
    "print(\"First 5 observations/datapoints/rows of X: \\n\", X[:5, :].round(decimals=4))"
   ]
  },
  {
   "cell_type": "markdown",
   "metadata": {
    "id": "1jizg1LfSr33"
   },
   "source": [
    "Now let's 'rotate' the data, i.e.  project all data points onto the new coordinate system. It's done by simply multiplying the data matrix X by the matrix **m** where each column vector represents the orientation of one of the new axes."
   ]
  },
  {
   "cell_type": "code",
   "execution_count": 4,
   "metadata": {
    "ExecuteTime": {
     "end_time": "2024-03-06T13:13:42.647871Z",
     "start_time": "2024-03-06T13:13:42.639185Z"
    },
    "colab": {
     "base_uri": "https://localhost:8080/"
    },
    "id": "PcW0xQ8VRmQY",
    "outputId": "634da952-c767-4a95-f95e-b4bfe722dcc1"
   },
   "outputs": [
    {
     "name": "stdout",
     "output_type": "stream",
     "text": [
      "(100, 7)\n",
      "[[ 0.5832 -0.5342  0.3309  0.5253  0.8941  0.2224  0.4686]\n",
      " [ 0.6185 -0.3758  0.2682  0.6615  0.7488  0.0842  0.3136]\n",
      " [ 0.6363 -0.3817  0.2676  0.6561  0.7404  0.1012  0.3126]\n",
      " [ 0.5106 -0.4177  0.3061  0.6321  0.8352  0.0524  0.3863]\n",
      " [ 0.6968 -0.3679  0.1822  0.6812  0.7421  0.071   0.1507]]\n"
     ]
    }
   ],
   "source": [
    "newX = np.matmul(X, m)\n",
    "print(newX.shape)\n",
    "print(newX[:5, :].round(decimals=4))"
   ]
  },
  {
   "cell_type": "code",
   "execution_count": 14,
   "metadata": {
    "ExecuteTime": {
     "end_time": "2024-03-06T13:32:49.585626Z",
     "start_time": "2024-03-06T13:32:49.582159Z"
    },
    "id": "Ti8krxNg82D8"
   },
   "outputs": [],
   "source": [
    "# Save the result (which does not include the first 2 columns of sqisland.csv containing the location coordinates).\n",
    "np.savetxt(\n",
    "    \"data/newDataMatrix.csv\",\n",
    "    newX,\n",
    "    delimiter=\",\",\n",
    "    header=\",\".join([f\"Gene{i}\" for i in range(1, 8)]),\n",
    ")"
   ]
  },
  {
   "cell_type": "markdown",
   "metadata": {
    "id": "ImkZkB2MVn1d"
   },
   "source": [
    "Check what happens when you rotate newX back (by multiplying by the inverse of **m**)."
   ]
  },
  {
   "cell_type": "code",
   "execution_count": 6,
   "metadata": {
    "ExecuteTime": {
     "end_time": "2024-03-06T13:13:42.693839Z",
     "start_time": "2024-03-06T13:13:42.658397Z"
    },
    "colab": {
     "base_uri": "https://localhost:8080/"
    },
    "id": "ikja-jaoYi9L",
    "outputId": "f862840e-058c-4220-9d46-29214db5df26"
   },
   "outputs": [
    {
     "name": "stdout",
     "output_type": "stream",
     "text": [
      "(100, 7)\n",
      "[[1.     0.     0.2    0.8    0.522  0.1594 0.3185]\n",
      " [0.7937 0.2063 0.196  0.804  0.3927 0.2616 0.3457]\n",
      " [0.8064 0.1936 0.198  0.802  0.379  0.2765 0.3445]\n",
      " [0.8133 0.1867 0.2    0.8    0.5184 0.1489 0.3327]\n",
      " [0.7575 0.2425 0.182  0.818  0.2444 0.287  0.4686]]\n"
     ]
    }
   ],
   "source": [
    "m_inv = np.linalg.inv(m)\n",
    "there_and_back_X = np.matmul(newX, m_inv)\n",
    "print(there_and_back_X.shape)\n",
    "print(there_and_back_X[:5, :].round(decimals=4))"
   ]
  },
  {
   "cell_type": "markdown",
   "metadata": {
    "id": "LyGQNbP3WiMU"
   },
   "source": [
    "The 'there-and-back' matrix is equivalent to the original matrix X (bar some rounding errors)."
   ]
  }
 ],
 "metadata": {
  "colab": {
   "provenance": []
  },
  "kernelspec": {
   "display_name": "Python 3 (ipykernel)",
   "language": "python",
   "name": "python3"
  },
  "language_info": {
   "name": "python"
  }
 },
 "nbformat": 4,
 "nbformat_minor": 0
}
