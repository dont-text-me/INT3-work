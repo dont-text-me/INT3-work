{
 "cells": [
  {
   "cell_type": "markdown",
   "metadata": {
    "id": "aMagPeuVO2f5"
   },
   "source": [
    "## PADL Practical: Word2vec embeddings"
   ]
  },
  {
   "cell_type": "code",
   "execution_count": 318,
   "metadata": {
    "ExecuteTime": {
     "end_time": "2024-03-13T12:36:47.820889Z",
     "start_time": "2024-03-13T12:36:47.817331Z"
    },
    "colab": {
     "base_uri": "https://localhost:8080/"
    },
    "executionInfo": {
     "elapsed": 296,
     "status": "ok",
     "timestamp": 1710322002928,
     "user": {
      "displayName": "Dimitar Kazakov",
      "userId": "06777707650472316761"
     },
     "user_tz": 0
    },
    "id": "bTLZaQ-n6l5m",
    "outputId": "6aa5d16b-9858-41ab-f1b2-64b3aa01af9c"
   },
   "outputs": [
    {
     "name": "stderr",
     "output_type": "stream",
     "text": [
      "[nltk_data] Downloading package punkt to /Users/ivanbar/nltk_data...\n",
      "[nltk_data]   Package punkt is already up-to-date!\n"
     ]
    },
    {
     "data": {
      "text/plain": "True"
     },
     "execution_count": 318,
     "metadata": {},
     "output_type": "execute_result"
    }
   ],
   "source": [
    "# Demonstrating word2vec on toy data\n",
    "import nltk\n",
    "\n",
    "nltk.download(\"punkt\")"
   ]
  },
  {
   "cell_type": "code",
   "execution_count": 319,
   "metadata": {
    "ExecuteTime": {
     "end_time": "2024-03-13T12:36:47.837175Z",
     "start_time": "2024-03-13T12:36:47.829042Z"
    },
    "id": "MgpJloJk6M9z"
   },
   "outputs": [],
   "source": [
    "import matplotlib.pyplot as plt\n",
    "import numpy as np\n",
    "from gensim.models import Word2Vec\n",
    "from nltk.tokenize import word_tokenize\n",
    "\n",
    "# Toy datasets\n",
    "sentences0 = [\n",
    "    \"My husky bit me\",\n",
    "    \"My husky pulls the sleigh\",\n",
    "    \"My dog bit the postman\",\n",
    "    \"I ate a pizza with olives\",\n",
    "    \"I ate a sandwich with cheese\",\n",
    "    \"You ate a hotdog with ketchup\",\n",
    "    \"You ate a toast with cheese\",\n",
    "]\n",
    "\n",
    "sentences1 = [\n",
    "    \"You know Dasher and Dancer and Prancer and Vixen Comet and Cupid and Donner and Blitzen, but do you recall the most famous reindeer of all?\",\n",
    "    \"Rudolph the Red-Nosed Reindeer Had a very shiny nose And if you ever saw it, You would even say it glows.\",\n",
    "    \"All of the other reindeer Used to laugh and call him names, They never let poor Rudolph Join in any reindeer games.\",\n",
    "    \"Then one foggy Christmas Eve Santa came to say: Rudolph, with your nose so bright Will you not guide my sleigh tonight?\",\n",
    "    \"Then how the reindeer loved him, As they shouted out with glee: Rudolph the Red-Nosed Reindeer, You will go down in history!\",\n",
    "]\n",
    "\n",
    "\n",
    "sentences2 = [\n",
    "    \"The itsy bitsy spider went up the water spout.\",\n",
    "    \"Down came the rain, and washed the spider out.\",\n",
    "    \"Out came the sun, and dried up all the rain.\",\n",
    "    \"So, the itsy bitsy spider went up the spout again.\",\n",
    "    \"The itsy bitsy spider went up the water spout.\",\n",
    "    \"Down came the rain, and washed the spider out.\",\n",
    "    \"Out came the sun, and dried up all the rain.\",\n",
    "    \"So, the itsy bitsy spider went up the spout again.\",\n",
    "]\n",
    "\n",
    "sentences = sentences0  # + sentences1 + sentences2\n",
    "\n",
    "# Tokenize sentences\n",
    "tokenized_sentences = [word_tokenize(sentence.lower()) for sentence in sentences]\n",
    "\n",
    "# Number of dimensions for the Word2vec embeddings\n",
    "v_size = 5\n",
    "\n",
    "# Window size for the Word2vec training\n",
    "w_size = 2\n",
    "\n",
    "# Train Word2Vec model (check the Gensim library for more information)\n",
    "# https://radimrehurek.com/gensim/auto_examples/index.html\n",
    "model = Word2Vec(\n",
    "    sentences=tokenized_sentences,\n",
    "    vector_size=v_size,\n",
    "    window=w_size,\n",
    "    min_count=1,\n",
    "    workers=4,\n",
    ")\n",
    "\n",
    "# Access embeddings: they are stored as KeyedVectors\n",
    "word_embeddings = model.wv"
   ]
  },
  {
   "cell_type": "markdown",
   "metadata": {
    "id": "zbLwdroEcjbT"
   },
   "source": [
    "**Produce the scatterplot of the first 2 components of the word2vec embeddings**"
   ]
  },
  {
   "cell_type": "code",
   "execution_count": 320,
   "metadata": {
    "ExecuteTime": {
     "end_time": "2024-03-13T12:36:47.842023Z",
     "start_time": "2024-03-13T12:36:47.838289Z"
    },
    "colab": {
     "base_uri": "https://localhost:8080/"
    },
    "executionInfo": {
     "elapsed": 9,
     "status": "ok",
     "timestamp": 1710322003199,
     "user": {
      "displayName": "Dimitar Kazakov",
      "userId": "06777707650472316761"
     },
     "user_tz": 0
    },
    "id": "XLvHl-j7ry0g",
    "outputId": "da361a8b-36f8-4b7d-d4d6-f5a18e8664ae"
   },
   "outputs": [
    {
     "name": "stdout",
     "output_type": "stream",
     "text": [
      "[-0.01074156  0.00479501  0.10209853  0.1802401  -0.18604216]\n",
      "[-0.14230292  0.12915774  0.17945415 -0.1003276  -0.07522114]\n",
      "[ 0.14775015 -0.0307472  -0.09078695  0.13107342 -0.09697671]\n",
      "[-0.03632035  0.0575316   0.01983747 -0.1657043  -0.18897636]\n",
      "[0.14623532 0.10140524 0.13515386 0.01525731 0.12701781]\n",
      "[-0.06810732 -0.01892803  0.11537147 -0.15043275 -0.07872207]\n",
      "[-0.15009777 -0.01862722  0.19068879 -0.14626302 -0.04653114]\n",
      "[-0.03871727  0.1615674  -0.11867507  0.00092859 -0.09505987]\n",
      "[-0.19205576  0.10014941 -0.17515406 -0.087829   -0.00065337]\n",
      "[-0.00588825 -0.15326211  0.19226861  0.09964839  0.18469404]\n",
      "[-0.16315834  0.08991597 -0.08274152  0.01649072  0.16997239]\n",
      "[-0.08924353  0.09035001 -0.1357392  -0.07096978  0.18797016]\n",
      "[-0.03153058  0.00641141 -0.08279629 -0.15363108 -0.03016406]\n",
      "[ 0.04945128 -0.01783804  0.11071096 -0.05480479  0.04518782]\n",
      "[ 0.10908776  0.16695182 -0.02906431 -0.18415247  0.08743969]\n",
      "[ 0.01146551  0.14882262 -0.01623982 -0.05273948 -0.1750573 ]\n",
      "[-0.01713114  0.05653126  0.10802858  0.14105313 -0.11406243]\n",
      "[ 0.037138    0.12179983 -0.09593925 -0.06213352  0.13593476]\n",
      "[0.03269595 0.0037258  0.06951159 0.00436801 0.19244641]\n",
      "[ 0.10121207 -0.1783478  -0.1408312   0.01802912  0.12785068]\n",
      "[-0.17237012  0.0733567   0.10376298  0.11491688  0.14938292]\n"
     ]
    }
   ],
   "source": [
    "coordX = []\n",
    "coordY = []\n",
    "label = []\n",
    "for key in word_embeddings.index_to_key:\n",
    "    coordX.append(word_embeddings[key][0])\n",
    "    coordY.append(word_embeddings[key][1])\n",
    "    label.append(key)\n",
    "    print(word_embeddings[key])"
   ]
  },
  {
   "cell_type": "code",
   "execution_count": 321,
   "metadata": {
    "ExecuteTime": {
     "end_time": "2024-03-13T12:36:47.856024Z",
     "start_time": "2024-03-13T12:36:47.853986Z"
    },
    "collapsed": false
   },
   "outputs": [],
   "source": [
    "all_coords = np.array([word_embeddings[key] for key in word_embeddings.index_to_key])"
   ]
  },
  {
   "cell_type": "code",
   "execution_count": 322,
   "metadata": {
    "ExecuteTime": {
     "end_time": "2024-03-13T12:36:47.956473Z",
     "start_time": "2024-03-13T12:36:47.857075Z"
    },
    "colab": {
     "base_uri": "https://localhost:8080/",
     "height": 676
    },
    "executionInfo": {
     "elapsed": 707,
     "status": "ok",
     "timestamp": 1710322003900,
     "user": {
      "displayName": "Dimitar Kazakov",
      "userId": "06777707650472316761"
     },
     "user_tz": 0
    },
    "id": "LPVlTmv3uB5f",
    "outputId": "78cdeb2e-27b6-48a8-d1b1-a5f23d8a3e42"
   },
   "outputs": [
    {
     "data": {
      "image/png": "[encoded data removed]",
      "text/plain": "<Figure size 800x800 with 1 Axes>"
     },
     "metadata": {},
     "output_type": "display_data"
    }
   ],
   "source": [
    "fig, ax = plt.subplots(figsize=(8, 8))\n",
    "ax.scatter(coordX, coordY, color=\"blue\")\n",
    "\n",
    "for i, txt in enumerate(label):\n",
    "    ax.annotate(txt, (coordX[i], coordY[i]))"
   ]
  },
  {
   "cell_type": "markdown",
   "metadata": {
    "id": "et_Uwm53dF1G"
   },
   "source": [
    "**Test if the Word2vec features are correlated or orthogonal to each other**"
   ]
  },
  {
   "cell_type": "code",
   "execution_count": 323,
   "metadata": {
    "ExecuteTime": {
     "end_time": "2024-03-13T12:36:47.962798Z",
     "start_time": "2024-03-13T12:36:47.957789Z"
    },
    "id": "BaFp5qhSBSBI"
   },
   "outputs": [
    {
     "name": "stdout",
     "output_type": "stream",
     "text": [
      "Correlation between component 0 and component 1 is -0.21307295519793717\n",
      "Dot product of component 0 and component 1 is -0.061654623597860336\n",
      "Correlation between component 0 and component 2 is -0.0680514212369182\n",
      "Dot product of component 0 and component 2 is -0.025319062173366547\n",
      "Correlation between component 0 and component 3 is 0.17303377419674967\n",
      "Dot product of component 0 and component 3 is 0.05092012509703636\n",
      "Correlation between component 1 and component 2 is -0.2103888701733461\n",
      "Dot product of component 1 and component 2 is -0.032682839781045914\n",
      "Correlation between component 1 and component 3 is -0.2847752559791459\n",
      "Dot product of component 1 and component 3 is -0.08034982532262802\n",
      "Correlation between component 2 and component 3 is 0.13841767596511892\n",
      "Dot product of component 2 and component 3 is 0.02847725711762905\n"
     ]
    }
   ],
   "source": [
    "from scipy.stats import pearsonr\n",
    "\n",
    "for i in range(4):\n",
    "    for j in range(4):\n",
    "        if i != j and i < j:\n",
    "            print(\n",
    "                f\"Correlation between component {i} and component {j} is {pearsonr(all_coords[:, i], all_coords[:, j]).statistic}\"\n",
    "            )\n",
    "\n",
    "            print(\n",
    "                f\"Dot product of component {i} and component {j} is {all_coords[:, i] @ all_coords[:, j]}\"\n",
    "            )"
   ]
  },
  {
   "cell_type": "markdown",
   "metadata": {
    "id": "6R9CDtkHb4t8"
   },
   "source": [
    "**Apply PCA to the word embeddings, and plot the PC1 vs PC2 scatterplot (with words as labels).**\n",
    "\n",
    "\n"
   ]
  },
  {
   "cell_type": "code",
   "execution_count": 324,
   "metadata": {
    "ExecuteTime": {
     "end_time": "2024-03-13T12:36:47.967031Z",
     "start_time": "2024-03-13T12:36:47.963617Z"
    },
    "id": "vAcELZgsCmXu"
   },
   "outputs": [
    {
     "data": {
      "text/plain": "array([[-0.01074156,  0.00479501,  0.10209853,  0.1802401 , -0.18604216],\n       [-0.14230292,  0.12915774,  0.17945415, -0.1003276 , -0.07522114],\n       [ 0.14775015, -0.0307472 , -0.09078695,  0.13107342, -0.09697671],\n       [-0.03632035,  0.0575316 ,  0.01983747, -0.1657043 , -0.18897636],\n       [ 0.14623532,  0.10140524,  0.13515386,  0.01525731,  0.12701781],\n       [-0.06810732, -0.01892803,  0.11537147, -0.15043275, -0.07872207],\n       [-0.15009777, -0.01862722,  0.19068879, -0.14626302, -0.04653114],\n       [-0.03871727,  0.1615674 , -0.11867507,  0.00092859, -0.09505987],\n       [-0.19205576,  0.10014941, -0.17515406, -0.087829  , -0.00065337],\n       [-0.00588825, -0.15326211,  0.19226861,  0.09964839,  0.18469404],\n       [-0.16315834,  0.08991597, -0.08274152,  0.01649072,  0.16997239],\n       [-0.08924353,  0.09035001, -0.1357392 , -0.07096978,  0.18797016],\n       [-0.03153058,  0.00641141, -0.08279629, -0.15363108, -0.03016406],\n       [ 0.04945128, -0.01783804,  0.11071096, -0.05480479,  0.04518782],\n       [ 0.10908776,  0.16695182, -0.02906431, -0.18415247,  0.08743969],\n       [ 0.01146551,  0.14882262, -0.01623982, -0.05273948, -0.1750573 ],\n       [-0.01713114,  0.05653126,  0.10802858,  0.14105313, -0.11406243],\n       [ 0.037138  ,  0.12179983, -0.09593925, -0.06213352,  0.13593476],\n       [ 0.03269595,  0.0037258 ,  0.06951159,  0.00436801,  0.19244641],\n       [ 0.10121207, -0.1783478 , -0.1408312 ,  0.01802912,  0.12785068],\n       [-0.17237012,  0.0733567 ,  0.10376298,  0.11491688,  0.14938292]],\n      dtype=float32)"
     },
     "execution_count": 324,
     "metadata": {},
     "output_type": "execute_result"
    }
   ],
   "source": [
    "# Separate the words (as 'labels') from the embeddings (stored in X)\n",
    "label = []\n",
    "X = []\n",
    "for i, key in enumerate(word_embeddings.index_to_key):\n",
    "    label.append(key)\n",
    "    X.append(word_embeddings[key])\n",
    "\n",
    "np.reshape(X, (-1, v_size))"
   ]
  },
  {
   "cell_type": "code",
   "execution_count": 325,
   "metadata": {
    "ExecuteTime": {
     "end_time": "2024-03-13T12:36:47.972204Z",
     "start_time": "2024-03-13T12:36:47.968378Z"
    },
    "id": "jAW_lzhnAb05"
   },
   "outputs": [
    {
     "data": {
      "text/plain": "array([[ 1.19755191, -1.52033716,  1.14746268,  1.24448193, -0.24240514],\n       [-1.23849191, -1.72941213, -0.5115957 , -0.2156782 ,  0.56459271],\n       [ 1.52196577,  0.65993074,  1.93637561,  0.62698502, -0.52594835],\n       [-1.25102225, -0.82057868,  0.89393397, -0.88583015, -0.61965374],\n       [ 0.96619838,  0.37204083,  0.42217565, -0.4640673 ,  1.90558212],\n       [-0.34465309, -1.10476376, -0.18261485, -1.22169996, -0.60628097],\n       [-0.41395908, -1.73860111, -1.01763052, -1.10013001, -0.50465116],\n       [-1.27731383,  0.34461021,  0.94629963,  1.06851184,  0.00500246],\n       [-1.89151181,  0.57081653, -0.6419236 ,  0.83810926, -1.09110073],\n       [ 2.7791379 , -0.48446423, -1.30498542, -0.34522368, -0.1149511 ],\n       [-0.6345422 ,  0.74952745, -1.45103356,  1.17145721, -0.11227817],\n       [-0.88620871,  1.49670674, -1.05697253,  0.36969828, -0.08924855],\n       [-0.77616436,  0.47616155,  0.18283787, -0.80026081, -0.96856259],\n       [ 0.82655531, -0.18625439,  0.01757681, -0.96458968,  0.24977195],\n       [-1.12603098,  1.26815863,  0.59743683, -1.16770296,  1.28488563],\n       [-1.16484772, -0.40771335,  1.44889842,  0.20648938,  0.24787461],\n       [ 0.76124979, -1.21713504,  0.75363575,  1.10517137,  0.30964259],\n       [-0.54895708,  1.50404883,  0.03272034,  0.0097468 ,  0.64916708],\n       [ 1.0860813 ,  0.59924736, -0.71840906, -0.33989372,  0.64022202],\n       [ 2.0551097 ,  1.77781672,  0.16826177, -0.55657183, -1.51990032],\n       [ 0.35985296, -0.60980575, -1.66245008,  1.42099722,  0.53823964]])"
     },
     "execution_count": 325,
     "metadata": {},
     "output_type": "execute_result"
    }
   ],
   "source": [
    "from sklearn.decomposition import PCA\n",
    "from sklearn.preprocessing import scale\n",
    "\n",
    "X_scaled = scale(X)\n",
    "pca = PCA()\n",
    "X_transformed = pca.fit_transform(X_scaled)\n",
    "X_transformed"
   ]
  },
  {
   "cell_type": "code",
   "execution_count": 326,
   "metadata": {
    "ExecuteTime": {
     "end_time": "2024-03-13T12:36:48.062576Z",
     "start_time": "2024-03-13T12:36:47.972930Z"
    },
    "collapsed": false
   },
   "outputs": [
    {
     "data": {
      "image/png": "[encoded data removed]",
      "text/plain": "<Figure size 1000x1000 with 1 Axes>"
     },
     "metadata": {},
     "output_type": "display_data"
    }
   ],
   "source": [
    "fig, ax = plt.subplots(figsize=(10, 10))\n",
    "ax.scatter(X_transformed[:, 0], X_transformed[:, 1], color=\"blue\")\n",
    "\n",
    "for i, txt in enumerate(label):\n",
    "    ax.text(X_transformed[i, 0], X_transformed[i, 1], txt)"
   ]
  },
  {
   "cell_type": "markdown",
   "metadata": {
    "id": "Fix63N9SHDAR"
   },
   "source": [
    "**Experiment** with (1) the choice of dataset (by adding and editing sentences), and with (2) different sizes for the word embedding vectors (vector_size) and (3) the window used to generate the embeddings, and study how they affect the PC scatterplot.\n",
    "\n",
    "\n",
    "\n",
    "*   Can you find a setup that brings closer words that are close in meaning?\n",
    "*   Can you find a setup that brings closer words with similar syntactic role, e.g. prepositions (on/at/under/near...)?\n",
    "\n"
   ]
  }
 ],
 "metadata": {
  "colab": {
   "authorship_tag": "ABX9TyMHebZ2vqg/zRn4I4ar37Xf",
   "provenance": [
    {
     "file_id": "1F3zMN4rFLP7CuL2RjgVT2P2mZa3FWF_f",
     "timestamp": 1710322098322
    },
    {
     "file_id": "1PJUGQXnEsYtWS8cOzt2_62ricc0I_JPd",
     "timestamp": 1710340351781
    },
    {
     "file_id": "1hFWN7OEOtef1b_QYbm7KhX1G09DYVkSD",
     "timestamp": 1710297621365
    }
   ]
  },
  "kernelspec": {
   "display_name": "Python 3 (ipykernel)",
   "language": "python",
   "name": "python3"
  },
  "language_info": {
   "name": "python"
  }
 },
 "nbformat": 4,
 "nbformat_minor": 0
}
