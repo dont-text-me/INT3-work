{
 "cells": [
  {
   "cell_type": "markdown",
   "metadata": {
    "id": "CMYN-oGrin2f"
   },
   "source": [
    "#PADL Week 5 Practical: Logistic Regression and MLPs"
   ]
  },
  {
   "cell_type": "markdown",
   "metadata": {
    "id": "oXpBjnccCaeB"
   },
   "source": [
    "##Logistic regression with scikit-learn"
   ]
  },
  {
   "cell_type": "markdown",
   "metadata": {
    "id": "6myqPpcch7Ot"
   },
   "source": [
    "**Initial reading:**\n",
    "\n",
    "Reading and understanding the scikit-learn examples on logistic regression is a good way to get started. There are no fewer than 5 examples given in the [logistic regression section](https://scikit-learn.org/stable/modules/linear_model.html#logistic-regression) of the scikit-learn User manual. Feel free to look at all five but for sure look at the first two: L1 Penalty and Sparsity in Logistic Regression and Regularization path of L1- Logistic Regression. You will see that by default scikit-learn uses an L2 penalty (like in ridge regression) but it is also possible to use an\n",
    "L1 penalty (like in lasso regression). Built-in cross-validation support for choosing the ‘right’ value for the complexity parameter is also available via the [LogisticRegressionCV class](https://scikit-learn.org/stable/modules/generated/sklearn.linear_model.LogisticRegressionCV.html)."
   ]
  },
  {
   "cell_type": "markdown",
   "metadata": {
    "id": "-f0mfY66i3od"
   },
   "source": [
    "**Diagnosing breast cancer:**\n",
    "\n",
    "Go to the Breast Cancer Wisconsin (Diagnostic) data set [webpage](https://archive.ics.uci.edu/ml/datasets/Breast+Cancer+Wisconsin+(Diagnostic)). If you click on the ‘Data Folder’ link near the top of the page, then you will be able to get the data. It is the file [breast-cancer-wisconsin.data](https://archive.ics.uci.edu/ml/machine-learning-databases/breast-cancer-wisconsin/). You can either upload this to the session storage for your colab notebook (but it will be lost each time your session times out, although you can add `!wget -q https://archive.ics.uci.edu/ml/machine-learning-databases/breast-cancer-wisconsin/breast-cancer-wisconsin.data` to your script to automatically download to session storage each time it runs - as done below) or you can mount a google drive folder and store the file there.\n",
    "\n",
    "To save you hassle of working out how to get this data into a Python program is some code to read this data in, and then remove any datapoints containing missing values:"
   ]
  },
  {
   "cell_type": "code",
   "execution_count": 12,
   "metadata": {
    "id": "Av-3BYxA_6an",
    "ExecuteTime": {
     "end_time": "2024-03-11T09:34:28.945247Z",
     "start_time": "2024-03-11T09:34:28.938042Z"
    }
   },
   "outputs": [
    {
     "data": {
      "text/plain": "(683, 9)"
     },
     "execution_count": 12,
     "metadata": {},
     "output_type": "execute_result"
    }
   ],
   "source": [
    "import numpy as np\n",
    "\n",
    "data = np.genfromtxt(\"data/wdbc.data\", delimiter=\",\", missing_values=\"?\")\n",
    "data = data[~np.isnan(data).any(axis=1)]\n",
    "X = data[:, 1:-1]  # ignore first column and omit class variable at the end\n",
    "y = data[:, -1]\n",
    "X.shape"
   ]
  },
  {
   "cell_type": "markdown",
   "metadata": {
    "id": "3sBf4NvBlYH6"
   },
   "source": [
    "**To do:**\n",
    "\n",
    "Now use logistic regression to build a model to predict either malignant or benign. In fact, I would like you to build a number of logistic regression models where you *vary the size of the training data* and where you *vary the complexity parameter setting*. In all cases use whatever data you have excluded from training as a test set, and compute the score.\n",
    "\n",
    "Check that training on more data increases predictive accuracy and compare the performance of different complexity parameter settings on smaller training sets."
   ]
  },
  {
   "cell_type": "markdown",
   "metadata": {
    "id": "DdXeG5YmCk5H"
   },
   "source": [
    "## Logistic Regression in PyTorch\n",
    "\n",
    "Below is a straightforward re-implementation of logistic regression in PyTorch. Nearly all of this should now be very familiar to you. We put our logistic regression model in a superclass of `torch.nn.Module`. The model itself consists of a linear layer mapping 9 input features to 1 output. This is then passed through a sigmoid layer so that the model outputs probability of one of the two classes. Since we are doing binary cross entropy loss, we use `torch.nn.BCELoss` as our loss function (note: the sigmoid is applied inside the model so we don't use the version of the loss function that combines sigmoid and BCE - but this would be a perfectly valid alternative). We train as normal and evaluate on the test set. But this time, we threshold the output probabilities to make our final hard class decisions and compute the percent correct.\n",
    "\n",
    "**To do:**\n",
    "\n",
    "Read and understand this code block. Run it. Print out the shapes of the tensors as they pass through the `logisticRegression` model (all tensors have a `shape` attribute). Make sure the shapes corresponds with your understanding of what each layer is doing. Try changing the training set size, number of training iterations and learning rate and see the effect."
   ]
  },
  {
   "cell_type": "code",
   "execution_count": 13,
   "metadata": {
    "id": "5Ne9-ddWCpP3",
    "ExecuteTime": {
     "end_time": "2024-03-11T09:34:28.964659Z",
     "start_time": "2024-03-11T09:34:28.946803Z"
    }
   },
   "outputs": [
    {
     "name": "stdout",
     "output_type": "stream",
     "text": [
      "epoch 0, loss 1.6712106466293335\n",
      "epoch 10, loss 0.586103618144989\n",
      "epoch 20, loss 0.42494499683380127\n",
      "epoch 30, loss 0.3833571970462799\n",
      "epoch 40, loss 0.3592960834503174\n",
      "epoch 50, loss 0.34216007590293884\n",
      "epoch 60, loss 0.32873672246932983\n",
      "epoch 70, loss 0.31759727001190186\n",
      "epoch 80, loss 0.30800044536590576\n",
      "epoch 90, loss 0.29951828718185425\n",
      "Percent training set correctly classified: 92.75%\n",
      "Percent test set correctly classified: 92.23%\n"
     ]
    }
   ],
   "source": [
    "import torch\n",
    "\n",
    "\n",
    "class logisticRegression(torch.nn.Module):\n",
    "    def __init__(self, inputSize):\n",
    "        # Call superclass constructor\n",
    "        super(logisticRegression, self).__init__()\n",
    "        # Initialise components of model:\n",
    "        # 1. Linear layer\n",
    "        self.linear = torch.nn.Linear(inputSize, 1)\n",
    "        # 2. Sigmoid layer\n",
    "        self.sigmoid = torch.nn.Sigmoid()\n",
    "\n",
    "    def forward(self, x):\n",
    "        # Forward pass through the model:\n",
    "        # 1. Apply linear layer to input\n",
    "        y = self.linear(x)\n",
    "        # 2. Apply sigmoid to output of linear layer\n",
    "        y = self.sigmoid(y)\n",
    "        return y\n",
    "\n",
    "\n",
    "# Instantiate model logistic regression model 9 channel input\n",
    "model = logisticRegression(9)\n",
    "# Instantiate loss function (binary cross entropy loss - sigmoid applied inside model)\n",
    "criterion = torch.nn.BCELoss()\n",
    "# Setup optimiser\n",
    "optim = torch.optim.SGD(model.parameters(), lr=0.1)\n",
    "\n",
    "training_size = 400\n",
    "epochs = 100\n",
    "\n",
    "# Convert labels to binary 0/1 classes as expected by PyTorch\n",
    "y_01 = np.array([0 if x == 2 else 1 for x in data[:, -1]])\n",
    "\n",
    "# Split train/test and convert to PyTorch tensors\n",
    "X_train_tensor = torch.from_numpy(np.float32(X[:training_size]))\n",
    "Y_train_tensor = torch.from_numpy(np.float32(y_01[:training_size])).unsqueeze(1)\n",
    "X_test_tensor = torch.from_numpy(np.float32(X[training_size:]))\n",
    "Y_test_tensor = torch.from_numpy(np.float32(y_01[training_size:])).unsqueeze(1)\n",
    "\n",
    "# Main training loop\n",
    "for epoch in range(epochs):\n",
    "    # Pass training data through model\n",
    "    y_predict = model(X_train_tensor)\n",
    "    # Compute BCE loss\n",
    "    loss = criterion(y_predict, Y_train_tensor)\n",
    "    # Backward pass and gradient step\n",
    "    optim.zero_grad()\n",
    "    loss.backward()\n",
    "    optim.step()\n",
    "    if not epoch % 10:\n",
    "        # Print out the loss every 200 iterations\n",
    "        print(\"epoch {}, loss {}\".format(epoch, loss.item()))\n",
    "\n",
    "# Pass training set set through model\n",
    "y_predict = model(X_train_tensor)\n",
    "# Threshold probabilities to binary classes\n",
    "predictions = (y_predict > 0.5).float()\n",
    "# Compare predicted classes to labels\n",
    "correct = (predictions == Y_train_tensor).float().sum()\n",
    "print(\n",
    "    \"Percent training set correctly classified: {:.2f}%\".format(\n",
    "        100 * correct / training_size\n",
    "    )\n",
    ")\n",
    "\n",
    "# Pass test set through model\n",
    "y_predict = model(X_test_tensor)\n",
    "# Threshold probabilities to binary classes\n",
    "predictions = (y_predict > 0.5).float()\n",
    "# Compare predicted classes to labels\n",
    "correct = (predictions == Y_test_tensor).float().sum()\n",
    "print(\n",
    "    \"Percent test set correctly classified: {:.2f}%\".format(\n",
    "        100 * correct / X_test_tensor.shape[0]\n",
    "    )\n",
    ")"
   ]
  },
  {
   "cell_type": "markdown",
   "metadata": {
    "id": "hjElYOfFlRIU"
   },
   "source": [
    "## MLP in PyTorch\n",
    "\n",
    "**To do:**\n",
    "\n",
    "I would now like you to extend the logistic regression model to a very basic MLP. This MLP should have one hidden layer with 16 nodes and ReLU activation, then an output layer with sigmoid activation (to output the class probability). To do this, replace the `logisticRegression` class with an MLP model that includes the additional layers (note: this is only a small modification of the logistic regression model).\n",
    "\n",
    "What happens to the training loss and classification accuracy? How about testing? (i.e. generalisation). How many parameters does your model have in total? Experiment with using different numbers of neurons in the hidden layer. What happens to performance and generalisation? Keep in mind how many parameters your model has and how many training samples you have. Try adding a second hidden layer and again, experiment with the effect on performance.\n",
    "\n",
    "**Optional extension:**\n",
    "\n",
    "Revisit the diabetes dataset from the Week 3 practical. Try replacing linear regression with an MLP. In this case, you won't be doing classification so won't want the sigmoid activation on the output. Also, you won't use BCE loss. Can you improve performance relative to linear regression?"
   ]
  },
  {
   "cell_type": "code",
   "execution_count": 14,
   "metadata": {
    "collapsed": false,
    "ExecuteTime": {
     "end_time": "2024-03-11T09:34:28.984888Z",
     "start_time": "2024-03-11T09:34:28.965805Z"
    }
   },
   "outputs": [],
   "source": [
    "class MLP(torch.nn.Module):\n",
    "    def __init__(self, inputSize):\n",
    "        super(MLP, self).__init__()\n",
    "        self.fc1 = torch.nn.Linear(inputSize, 64)\n",
    "        self.fc2 = torch.nn.Linear(64, 64)\n",
    "        self.fc3 = torch.nn.Linear(64, 1)\n",
    "        self.reLU = torch.nn.ReLU()\n",
    "        self.sigmoid = torch.nn.Sigmoid()\n",
    "\n",
    "    def forward(self, x):\n",
    "        y = self.fc1(x)\n",
    "        y = self.reLU(y)\n",
    "        y = self.fc2(y)\n",
    "        y = self.reLU(y)\n",
    "        y = self.fc3(y)\n",
    "        y = self.sigmoid(y)\n",
    "        return y"
   ]
  },
  {
   "cell_type": "code",
   "execution_count": 15,
   "metadata": {
    "collapsed": false,
    "ExecuteTime": {
     "end_time": "2024-03-11T09:34:29.037187Z",
     "start_time": "2024-03-11T09:34:28.986307Z"
    }
   },
   "outputs": [
    {
     "name": "stdout",
     "output_type": "stream",
     "text": [
      "epoch 0, loss 0.701840877532959\n",
      "epoch 10, loss 1.7223700284957886\n",
      "epoch 20, loss 0.276054322719574\n",
      "epoch 30, loss 0.257869690656662\n",
      "epoch 40, loss 0.5505369305610657\n",
      "epoch 50, loss 0.17130686342716217\n",
      "epoch 60, loss 0.21009282767772675\n",
      "epoch 70, loss 0.2047865241765976\n",
      "epoch 80, loss 0.11153700202703476\n",
      "epoch 90, loss 0.14837989211082458\n",
      "Percent training set correctly classified: 96.25%\n",
      "Percent test set correctly classified: 97.88%\n"
     ]
    }
   ],
   "source": [
    "# Instantiate model logistic regression model 9 channel input\n",
    "model = MLP(9)\n",
    "# Instantiate loss function (binary cross entropy loss - sigmoid applied inside model)\n",
    "criterion = torch.nn.BCELoss()\n",
    "# Setup optimiser\n",
    "optim = torch.optim.SGD(model.parameters(), lr=0.65)\n",
    "\n",
    "training_size = 400\n",
    "epochs = 100\n",
    "\n",
    "# Convert labels to binary 0/1 classes as expected by PyTorch\n",
    "y_01 = np.array([0 if x == 2 else 1 for x in data[:, -1]])\n",
    "\n",
    "# Split train/test and convert to PyTorch tensors\n",
    "X_train_tensor = torch.from_numpy(np.float32(X[:training_size]))\n",
    "Y_train_tensor = torch.from_numpy(np.float32(y_01[:training_size])).unsqueeze(1)\n",
    "X_test_tensor = torch.from_numpy(np.float32(X[training_size:]))\n",
    "Y_test_tensor = torch.from_numpy(np.float32(y_01[training_size:])).unsqueeze(1)\n",
    "\n",
    "# Main training loop\n",
    "for epoch in range(epochs):\n",
    "    # Pass training data through model\n",
    "    y_predict = model(X_train_tensor)\n",
    "    # Compute BCE loss\n",
    "    loss = criterion(y_predict, Y_train_tensor)\n",
    "    # Backward pass and gradient step\n",
    "    optim.zero_grad()\n",
    "    loss.backward()\n",
    "    optim.step()\n",
    "    if not epoch % 10:\n",
    "        # Print out the loss every 200 iterations\n",
    "        print(\"epoch {}, loss {}\".format(epoch, loss.item()))\n",
    "\n",
    "# Pass training set set through model\n",
    "y_predict = model(X_train_tensor)\n",
    "# Threshold probabilities to binary classes\n",
    "predictions = (y_predict > 0.5).float()\n",
    "# Compare predicted classes to labels\n",
    "correct = (predictions == Y_train_tensor).float().sum()\n",
    "print(\n",
    "    \"Percent training set correctly classified: {:.2f}%\".format(\n",
    "        100 * correct / training_size\n",
    "    )\n",
    ")\n",
    "\n",
    "# Pass test set through model\n",
    "y_predict = model(X_test_tensor)\n",
    "# Threshold probabilities to binary classes\n",
    "predictions = (y_predict > 0.5).float()\n",
    "# Compare predicted classes to labels\n",
    "correct = (predictions == Y_test_tensor).float().sum()\n",
    "print(\n",
    "    \"Percent test set correctly classified: {:.2f}%\".format(\n",
    "        100 * correct / X_test_tensor.shape[0]\n",
    "    )\n",
    ")"
   ]
  },
  {
   "cell_type": "code",
   "execution_count": 16,
   "metadata": {
    "collapsed": false,
    "ExecuteTime": {
     "end_time": "2024-03-11T09:34:29.044255Z",
     "start_time": "2024-03-11T09:34:29.040026Z"
    }
   },
   "outputs": [],
   "source": [
    "class MLP(torch.nn.Module):\n",
    "    def __init__(self, inputSize):\n",
    "        super(MLP, self).__init__()\n",
    "        self.fc1 = torch.nn.Linear(inputSize, 64)\n",
    "        self.fc2 = torch.nn.Linear(64, 64)\n",
    "        self.fc3 = torch.nn.Linear(64, 1)\n",
    "        self.reLU = torch.nn.ReLU()\n",
    "        self.sigmoid = torch.nn.Sigmoid()\n",
    "\n",
    "    def forward(self, x):\n",
    "        y = self.fc1(x)\n",
    "        y = self.reLU(y)\n",
    "        y = self.fc2(y)\n",
    "        y = self.reLU(y)\n",
    "        y = self.fc3(y)\n",
    "        # y = self.sigmoid(y)\n",
    "        return y"
   ]
  },
  {
   "cell_type": "code",
   "execution_count": 17,
   "metadata": {
    "collapsed": false,
    "ExecuteTime": {
     "end_time": "2024-03-11T09:34:29.055738Z",
     "start_time": "2024-03-11T09:34:29.045142Z"
    }
   },
   "outputs": [],
   "source": [
    "from sklearn.datasets import fetch_california_housing\n",
    "from sklearn.model_selection import train_test_split\n",
    "\n",
    "(X, y) = fetch_california_housing(return_X_y=True, as_frame=True)\n",
    "X_train, X_test, y_train, y_test = train_test_split(X, y)"
   ]
  },
  {
   "cell_type": "code",
   "execution_count": 22,
   "metadata": {
    "collapsed": false,
    "ExecuteTime": {
     "end_time": "2024-03-11T09:35:34.374570Z",
     "start_time": "2024-03-11T09:35:33.154031Z"
    }
   },
   "outputs": [
    {
     "name": "stdout",
     "output_type": "stream",
     "text": [
      "epoch 0, loss 616.0701904296875\n",
      "epoch 100, loss 1.3881405591964722\n",
      "epoch 200, loss 1.3761852979660034\n",
      "epoch 300, loss 1.372401475906372\n"
     ]
    }
   ],
   "source": [
    "model = MLP(8)\n",
    "criterion = torch.nn.MSELoss()\n",
    "\n",
    "optim = torch.optim.SGD(model.parameters(), lr=0.0000019, momentum=0.9)\n",
    "\n",
    "epochs = 300\n",
    "\n",
    "# Split train/test and convert to PyTorch tensors\n",
    "X_train_tensor = torch.from_numpy(np.float32(X_train))\n",
    "Y_train_tensor = torch.from_numpy(np.float32(y_train)).unsqueeze(1)\n",
    "X_test_tensor = torch.from_numpy(np.float32(X_test))\n",
    "Y_test_tensor = torch.from_numpy(np.float32(y_test)).unsqueeze(1)\n",
    "\n",
    "# Main training loop\n",
    "for epoch in range(epochs + 1):\n",
    "    # Pass training data through model\n",
    "    y_predict = model(X_train_tensor)\n",
    "    # Compute BCE loss\n",
    "    loss = criterion(y_predict, Y_train_tensor)\n",
    "    # Backward pass and gradient step\n",
    "    optim.zero_grad()\n",
    "    loss.backward()\n",
    "    optim.step()\n",
    "    if not epoch % 100:\n",
    "        # Print out the loss every 200 iterations\n",
    "        print(\"epoch {}, loss {}\".format(epoch, loss.item()))"
   ]
  },
  {
   "cell_type": "code",
   "execution_count": 23,
   "metadata": {
    "collapsed": false,
    "ExecuteTime": {
     "end_time": "2024-03-11T09:35:37.387767Z",
     "start_time": "2024-03-11T09:35:37.382199Z"
    }
   },
   "outputs": [
    {
     "name": "stdout",
     "output_type": "stream",
     "text": [
      "tensor(1.3229, grad_fn=<MseLossBackward0>)\n"
     ]
    }
   ],
   "source": [
    "print(criterion(model(X_test_tensor), Y_test_tensor))"
   ]
  }
 ],
 "metadata": {
  "colab": {
   "provenance": []
  },
  "kernelspec": {
   "display_name": "Python 3 (ipykernel)",
   "language": "python",
   "name": "python3"
  }
 },
 "nbformat": 4,
 "nbformat_minor": 0
}
