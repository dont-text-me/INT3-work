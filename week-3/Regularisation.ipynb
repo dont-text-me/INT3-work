{
 "cells": [
  {
   "cell_type": "markdown",
   "metadata": {
    "id": "xKXXs11YcqHM"
   },
   "source": [
    "# Regularisation: Ridge and Lasso Regression"
   ]
  },
  {
   "cell_type": "markdown",
   "metadata": {
    "id": "fSzLH8OXewlE"
   },
   "source": [
    "**Introduction**\n",
    "\n",
    "Imagine a data set which includes two input variables, X<sub>i</sub> and X<sub>j</sub>, X<sub>j</sub>=-X<sub>i</sub>, such that they have no genuine bearing on the output y. Still, a linear model that sets β<sub>j</sub>=-β<sub>i</sub> will have the same accuracy as the one from which X<sub>i</sub> and X<sub>j</sub> are removed, as  the two terms in the sum β<sub>i</sub>X<sub>i</sub>+β<sub>j</sub>X<sub>j</sub> would cancel out. This situation can be mitigated if the loss function of our linear regression, the ordinary least squares (OLS), is extended with an additional *penalty* term, which pushes down the parameters  β<sub>1</sub>... β<sub>p</sub>. Everything else being equal, this would allow us to reduce the parameters β<sub>i</sub> and β<sub>j</sub> of our example to as close to zero as possible without any loss of accuracy. \n",
    "\n",
    "When the penalty term is proportional to L2 = Σ(β<sub>i</sub><sup>2</sup>), the resulting regression is known as [Ridge](https://scikit-learn.org/stable/modules/generated/sklearn.linear_model.Ridge.html#sklearn-linear-model-ridge) regression (with a loss function OLS+λ.L2), while using penalty term L1 = Σ|β<sub>i</sub>| (loss function OLS+λ.L1) corresponds to the so-called [Lasso](https://scikit-learn.org/stable/modules/generated/sklearn.linear_model.Lasso.html#sklearn.linear_model.Lasso)  regression. \n",
    "\n",
    "L1 and L2 are also known as *regularisation* terms. λ is referred to as the complexity parameter. You can also see the letter α (alpha) used instead of λ - this includes the entire scikit-learn documentation. \n",
    "\n",
    "Using regularisation terms - L1, L2 or their combination (with the result known as [Elastic Net](https://scikit-learn.org/stable/modules/generated/sklearn.linear_model.ElasticNet.html?highlight=elastic%20net#sklearn-linear-model-elasticnet)) has as an effect a reduction of the variance of the model parameters β<sub>1</sub>... β<sub>p</sub> as we vary the training data. The price to pay is a larger model bias, i.e. the average (squared) error we end up with as we vary our training data.\n"
   ]
  },
  {
   "cell_type": "markdown",
   "metadata": {
    "id": "_2ozqzDKYbmj"
   },
   "source": [
    "**Exercise**\n",
    "\n",
    "In this exercise you will use both Ridge and Lasso regression, and also plain Linear Regression to build regression models for the California house prices dataset. The task for this dataset is to learn a model that predicts the median price of a house (in a California district) from 8 variables describing that district.\n",
    "\n",
    "To choose the correct complexity penalty for Ridge and Lasso regression you should use the built-in *cross-validation* (see online lecture) that is available in scikit-learn via the classes [RidgeCV](https://scikit-learn.org/stable/modules/generated/sklearn.linear_model.RidgeCV.html?highlight=ridgecv#sklearn.linear_model.RidgeCV) and [LassoCV](https://scikit-learn.org/stable/modules/generated/sklearn.linear_model.LassoCV.html). Look up how to use them in the scikit-learn documentation.\n",
    "\n",
    "To help you out here is the initial part of my Python program for doing this:\n"
   ]
  },
  {
   "cell_type": "code",
   "execution_count": 1,
   "metadata": {
    "id": "mrCqA9LtW2Zi",
    "ExecuteTime": {
     "end_time": "2024-03-01T17:06:52.530543Z",
     "start_time": "2024-03-01T17:06:51.602874Z"
    }
   },
   "outputs": [
    {
     "name": "stdout",
     "output_type": "stream",
     "text": [
      "(20640, 8)\n",
      "(20640,)\n",
      "Index(['MedInc', 'HouseAge', 'AveRooms', 'AveBedrms', 'Population', 'AveOccup',\n",
      "       'Latitude', 'Longitude'],\n",
      "      dtype='object')\n"
     ]
    }
   ],
   "source": [
    "from sklearn.datasets import fetch_california_housing\n",
    "import numpy as np\n",
    "\n",
    "(cali, target) = fetch_california_housing(return_X_y=True, as_frame=True)\n",
    "print(cali.shape)\n",
    "print(target.shape)\n",
    "print(cali.columns)"
   ]
  },
  {
   "cell_type": "markdown",
   "metadata": {
    "id": "2HT2LBLgZ2zu"
   },
   "source": [
    "**In your first experiment:**\n",
    "\n",
    "*   learn from the first 15,000 datapoints\n",
    "*   print out the learned parameter values for each predictor \n",
    "*   compute the R<sup>2</sup> score on the remainder. \n",
    "\n",
    "Do this for linear regression, ridge regression and lasso regression, then: \n",
    "\n",
    "*   For ridge and lasso regression print out the complexity penalty value cross-validation found.\n",
    "*   Inspect the learned parameter values for each predictor, and comment on their significance.\n"
   ]
  },
  {
   "cell_type": "code",
   "execution_count": 2,
   "metadata": {
    "collapsed": false,
    "ExecuteTime": {
     "end_time": "2024-03-01T17:06:52.533635Z",
     "start_time": "2024-03-01T17:06:52.531787Z"
    }
   },
   "outputs": [],
   "source": [
    "X_large_train, X_large_test = cali.head(15000), cali[15000:]\n",
    "y_large_train, y_large_test = target.head(15000), target[15000:]\n",
    "X_small_train, X_small_test = cali.head(150), cali[150:]\n",
    "y_small_train, y_small_test = target.head(150), target[150:]"
   ]
  },
  {
   "cell_type": "code",
   "execution_count": 3,
   "metadata": {
    "collapsed": false,
    "ExecuteTime": {
     "end_time": "2024-03-01T17:06:52.682869Z",
     "start_time": "2024-03-01T17:06:52.534267Z"
    }
   },
   "outputs": [],
   "source": [
    "from sklearn.linear_model import LinearRegression, LassoCV, RidgeCV\n",
    "\n",
    "linear_model = LinearRegression(fit_intercept=True)\n",
    "lasso_model = LassoCV(fit_intercept=True)\n",
    "ridge_model = RidgeCV(fit_intercept=True)"
   ]
  },
  {
   "cell_type": "code",
   "execution_count": 4,
   "metadata": {
    "collapsed": false,
    "ExecuteTime": {
     "end_time": "2024-03-01T17:06:53.103553Z",
     "start_time": "2024-03-01T17:06:52.685558Z"
    }
   },
   "outputs": [
    {
     "name": "stdout",
     "output_type": "stream",
     "text": [
      "Linear parameters: [ 0.44313  0.00689 -0.10623  0.6213  -0.00001 -0.00782 -0.38536 -0.36781], intercept: -30.192307069444364\n",
      "Ridge parameters: [ 0.44181  0.00691 -0.1038   0.60871 -0.00001 -0.00782 -0.38514 -0.36731], intercept: -30.13432926986759\n",
      "Lasso parameters: [ 0.38459  0.00867  0.00428  0.      -0.00001 -0.00766 -0.30724 -0.26938], intercept: -20.973184812801076\n"
     ]
    }
   ],
   "source": [
    "linear_model.fit(X_large_train, y_large_train)\n",
    "ridge_model.fit(X_large_train, y_large_train)\n",
    "lasso_model.fit(X_large_train, y_large_train)\n",
    "with np.printoptions(suppress=True, precision=5):\n",
    "    print(\n",
    "        f\"Linear parameters: {linear_model.coef_}, intercept: {linear_model.intercept_}\"\n",
    "    )\n",
    "    print(f\"Ridge parameters: {ridge_model.coef_}, intercept: {ridge_model.intercept_}\")\n",
    "    print(f\"Lasso parameters: {lasso_model.coef_}, intercept: {lasso_model.intercept_}\")"
   ]
  },
  {
   "cell_type": "code",
   "execution_count": 5,
   "metadata": {
    "collapsed": false,
    "ExecuteTime": {
     "end_time": "2024-03-01T17:06:53.241752Z",
     "start_time": "2024-03-01T17:06:53.108796Z"
    }
   },
   "outputs": [
    {
     "name": "stdout",
     "output_type": "stream",
     "text": [
      "Linear r2 score: 0.5931322421964107\n",
      "Ridge r2 score: 0.5928319031838527\n",
      "Lasso r2 score: 0.5514968914697881\n"
     ]
    }
   ],
   "source": [
    "from sklearn.metrics import r2_score\n",
    "\n",
    "print(f\"Linear r2 score: {r2_score(y_large_test, linear_model.predict(X_large_test))}\")\n",
    "print(f\"Ridge r2 score: {r2_score(y_large_test, ridge_model.predict(X_large_test))}\")\n",
    "print(f\"Lasso r2 score: {r2_score(y_large_test, lasso_model.predict(X_large_test))}\")"
   ]
  },
  {
   "cell_type": "code",
   "execution_count": 6,
   "metadata": {
    "collapsed": false,
    "ExecuteTime": {
     "end_time": "2024-03-01T17:06:53.391552Z",
     "start_time": "2024-03-01T17:06:53.246218Z"
    }
   },
   "outputs": [
    {
     "name": "stdout",
     "output_type": "stream",
     "text": [
      "Linear parameters (first 150): [ 0.22253  0.00261 -0.08488 -0.49951  0.00008  0.0265   2.05076 16.96091], intercept: 1998.0327743138705\n",
      "Ridge parameters (first 150): [ 0.37075  0.00394 -0.10873 -0.88108  0.00014 -0.01342 -0.38323  3.80683], intercept: 481.971647275177, alpha: 0.1\n",
      "Lasso parameters (first 150): [ 0.35888 -0.      -0.01961 -0.       0.00022 -0.      -0.       0.     ], intercept: 0.7851621727478544, alpha: 0.100946851336\n",
      "Linear r2 score (first 150): -1961.0500902972406\n",
      "Ridge r2 score (first 150): -148.73611465686602\n",
      "Lasso r2 score (first 150): 0.33447062483807477\n"
     ]
    }
   ],
   "source": [
    "linear_model = LinearRegression(fit_intercept=True)\n",
    "lasso_model = LassoCV(fit_intercept=True)\n",
    "ridge_model = RidgeCV(fit_intercept=True)\n",
    "linear_model.fit(X_small_train, y_small_train)\n",
    "ridge_model.fit(X_small_train, y_small_train)\n",
    "lasso_model.fit(X_small_train, y_small_train)\n",
    "with np.printoptions(suppress=True, precision=5):\n",
    "    print(\n",
    "        f\"Linear parameters (first 150): {linear_model.coef_}, intercept: {linear_model.intercept_}\"\n",
    "    )\n",
    "    print(\n",
    "        f\"Ridge parameters (first 150): {ridge_model.coef_}, intercept: {ridge_model.intercept_}, alpha: {ridge_model.alpha_}\"\n",
    "    )\n",
    "    print(\n",
    "        f\"Lasso parameters (first 150): {lasso_model.coef_}, intercept: {lasso_model.intercept_}, alpha: {lasso_model.alpha_}\"\n",
    "    )\n",
    "    print(\n",
    "        f\"Linear r2 score (first 150): {r2_score(y_small_test, linear_model.predict(X_small_test))}\"\n",
    "    )\n",
    "    print(\n",
    "        f\"Ridge r2 score (first 150): {r2_score(y_small_test, ridge_model.predict(X_small_test))}\"\n",
    "    )\n",
    "    print(\n",
    "        f\"Lasso r2 score (first 150): {r2_score(y_small_test, lasso_model.predict(X_small_test))}\"\n",
    "    )"
   ]
  },
  {
   "cell_type": "markdown",
   "metadata": {
    "id": "L7uEQm0DcvqO"
   },
   "source": [
    "## L1 and L2 regularisation with PyTorch"
   ]
  },
  {
   "cell_type": "markdown",
   "metadata": {
    "id": "MMdh4fj1iQa1"
   },
   "source": [
    "So, Lasso regression is simply a regression model that uses L1 regularisation;  a model that uses L2 regularisation is called Ridge regression. This means that we can easily modify our implementation of Linear regression by tweaking the loss function. "
   ]
  },
  {
   "cell_type": "code",
   "execution_count": 7,
   "metadata": {
    "id": "YolUjUfCXufP",
    "ExecuteTime": {
     "end_time": "2024-03-01T17:06:54.622118Z",
     "start_time": "2024-03-01T17:06:53.383258Z"
    }
   },
   "outputs": [
    {
     "name": "stdout",
     "output_type": "stream",
     "text": [
      "epoch 0, fit loss 23145.99609375, reg loss 0.31049713492393494\n",
      "epoch 1, fit loss 2592.2265625, reg loss 0.3044285774230957\n",
      "epoch 2, fit loss 419.66339111328125, reg loss 0.30374395847320557\n",
      "epoch 3, fit loss 189.69244384765625, reg loss 0.30361461639404297\n",
      "epoch 4, fit loss 165.02244567871094, reg loss 0.30353960394859314\n",
      "epoch 5, fit loss 162.0503387451172, reg loss 0.3034689724445343\n",
      "epoch 6, fit loss 161.3722686767578, reg loss 0.30339857935905457\n",
      "epoch 7, fit loss 160.9375457763672, reg loss 0.30332812666893005\n",
      "epoch 8, fit loss 160.52952575683594, reg loss 0.3032578229904175\n",
      "epoch 9, fit loss 160.12522888183594, reg loss 0.30318763852119446\n",
      "epoch 10, fit loss 159.7222900390625, reg loss 0.303117573261261\n",
      "epoch 11, fit loss 159.32037353515625, reg loss 0.3030477464199066\n",
      "epoch 12, fit loss 158.91949462890625, reg loss 0.3029780983924866\n",
      "epoch 13, fit loss 158.51966857910156, reg loss 0.3029085695743561\n",
      "epoch 14, fit loss 158.12086486816406, reg loss 0.3028392195701599\n",
      "epoch 15, fit loss 157.7230987548828, reg loss 0.3027700185775757\n",
      "epoch 16, fit loss 157.3263397216797, reg loss 0.3027009963989258\n",
      "epoch 17, fit loss 156.9305877685547, reg loss 0.3026321828365326\n",
      "epoch 18, fit loss 156.53587341308594, reg loss 0.30256348848342896\n",
      "epoch 19, fit loss 156.1421661376953, reg loss 0.30249497294425964\n",
      "epoch 20, fit loss 155.74948120117188, reg loss 0.30242663621902466\n",
      "epoch 21, fit loss 155.35777282714844, reg loss 0.3023584187030792\n",
      "epoch 22, fit loss 154.96710205078125, reg loss 0.3022904098033905\n",
      "epoch 23, fit loss 154.5774383544922, reg loss 0.3022225797176361\n",
      "epoch 24, fit loss 154.18873596191406, reg loss 0.30215486884117126\n",
      "epoch 25, fit loss 153.80105590820312, reg loss 0.30208736658096313\n",
      "epoch 26, fit loss 153.41439819335938, reg loss 0.3020199239253998\n",
      "epoch 27, fit loss 153.02870178222656, reg loss 0.3019527494907379\n",
      "epoch 28, fit loss 152.6439971923828, reg loss 0.301885724067688\n",
      "epoch 29, fit loss 152.2602996826172, reg loss 0.3018188178539276\n",
      "epoch 30, fit loss 151.87757873535156, reg loss 0.30175212025642395\n",
      "epoch 31, fit loss 151.495849609375, reg loss 0.3016855716705322\n",
      "epoch 32, fit loss 151.11508178710938, reg loss 0.30161917209625244\n",
      "epoch 33, fit loss 150.73533630371094, reg loss 0.3015529215335846\n",
      "epoch 34, fit loss 150.35653686523438, reg loss 0.3014868199825287\n",
      "epoch 35, fit loss 149.97869873046875, reg loss 0.3014209270477295\n",
      "epoch 36, fit loss 149.60183715820312, reg loss 0.30135512351989746\n",
      "epoch 37, fit loss 149.22593688964844, reg loss 0.30128952860832214\n",
      "epoch 38, fit loss 148.85101318359375, reg loss 0.30122411251068115\n",
      "epoch 39, fit loss 148.47706604003906, reg loss 0.3011588454246521\n",
      "epoch 40, fit loss 148.10406494140625, reg loss 0.3010936677455902\n",
      "epoch 41, fit loss 147.73204040527344, reg loss 0.3010287582874298\n",
      "epoch 42, fit loss 147.36093139648438, reg loss 0.3009639084339142\n",
      "epoch 43, fit loss 146.99082946777344, reg loss 0.3008992373943329\n",
      "epoch 44, fit loss 146.62164306640625, reg loss 0.3008347451686859\n",
      "epoch 45, fit loss 146.25340270996094, reg loss 0.3007703721523285\n",
      "epoch 46, fit loss 145.88612365722656, reg loss 0.3007062077522278\n",
      "epoch 47, fit loss 145.51979064941406, reg loss 0.30064213275909424\n",
      "epoch 48, fit loss 145.15438842773438, reg loss 0.3005782663822174\n",
      "epoch 49, fit loss 144.78993225097656, reg loss 0.3005145192146301\n",
      "tensor(158.0888, grad_fn=<MseLossBackward0>)\n"
     ]
    }
   ],
   "source": [
    "import torch\n",
    "\n",
    "\n",
    "# Function to compute the L1 loss of all weights in a model\n",
    "def L1regloss(model):\n",
    "    return sum([param.abs().sum() for param in model.parameters()])\n",
    "\n",
    "\n",
    "def L2regloss(model):\n",
    "    return sum([param.pow(2).sum() for param in model.parameters()])\n",
    "\n",
    "\n",
    "model = torch.nn.Linear(8, 1)\n",
    "X_train = torch.from_numpy(np.float32(cali[:15000]))\n",
    "y_train = torch.from_numpy(np.float32(target[:15000])).unsqueeze(1)\n",
    "X_test = torch.from_numpy(np.float32(cali[15000:]))\n",
    "y_test = torch.from_numpy(np.float32(target[15000:])).unsqueeze(1)\n",
    "epochs = 50\n",
    "\n",
    "# Setup optimiser\n",
    "optim = torch.optim.SGD(model.parameters(), lr=1e-7)\n",
    "criterion = torch.nn.MSELoss()\n",
    "# Main training loop\n",
    "for epoch in range(epochs):\n",
    "    y_predict = model(X_train)\n",
    "    fit_loss = criterion(y_train, y_predict)\n",
    "    # Use L1regloss for Lasso\n",
    "    reg_loss = L2regloss(model)\n",
    "    loss = fit_loss + reg_loss\n",
    "    optim.zero_grad()\n",
    "    loss.backward()\n",
    "    optim.step()\n",
    "    print(\n",
    "        \"epoch {}, fit loss {}, reg loss {}\".format(\n",
    "            epoch, fit_loss.item(), reg_loss.item()\n",
    "        )\n",
    "    )\n",
    "\n",
    "# Generalisation error\n",
    "print(criterion(model(X_test), y_test))"
   ]
  },
  {
   "cell_type": "markdown",
   "metadata": {
    "id": "pNLtKvAni9ZJ"
   },
   "source": [
    "**To do:** \n",
    "\n",
    "Modify the loss function in the above solution to use the L2 loss as penalty instead of L1 loss, thus obtaining an implementation of Ridge regression. "
   ]
  }
 ],
 "metadata": {
  "colab": {
   "provenance": []
  },
  "kernelspec": {
   "display_name": "Python 3 (ipykernel)",
   "language": "python",
   "name": "python3"
  },
  "language_info": {
   "name": "python"
  }
 },
 "nbformat": 4,
 "nbformat_minor": 0
}
