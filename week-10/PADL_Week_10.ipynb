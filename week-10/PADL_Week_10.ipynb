{
 "cells": [
  {
   "cell_type": "markdown",
   "metadata": {
    "id": "9_DvC9pNqRLl"
   },
   "source": [
    "# PADL Practical Week 10: Deep generative models\n",
    "\n",
    "There's a lot in this week's practical. You don't necessarily need to do it all. Everyone should try exercise 2 as it is essential for the assessment. Masters students should also try exercise 4. Exercise 1 is useful for helping your understanding and the result is somewhat intriguing. Exercise 3 is fun as you get to create photorealistic images from prompts."
   ]
  },
  {
   "cell_type": "markdown",
   "metadata": {
    "id": "5W-_dD-MicgZ"
   },
   "source": [
    "## 1. Adversarial perturbations\n",
    "\n",
    "You will start by creating an \"adversarial perturbation\" of an image in order to break a classifier. This means you will find a small offset that can be added to an image to change the class assigned to it by a classifier. We will do this using a pretrained LeNet for MNIST digit classification. You will need to look at the third video lecture for this week (or at least the slides). First, let's set up the network and load the pretrained weights. The code below will download the `LeNet_weights.pkl` file and then load it into the model."
   ]
  },
  {
   "cell_type": "code",
   "execution_count": 2,
   "metadata": {
    "ExecuteTime": {
     "end_time": "2024-04-30T13:21:53.578613Z",
     "start_time": "2024-04-30T13:21:52.151840Z"
    },
    "id": "Ladhs7M7lzCT"
   },
   "outputs": [
    {
     "name": "stderr",
     "output_type": "stream",
     "text": [
      "/Users/ivanbar/Library/Python/3.9/lib/python/site-packages/urllib3/__init__.py:35: NotOpenSSLWarning: urllib3 v2 only supports OpenSSL 1.1.1+, currently the 'ssl' module is compiled with 'LibreSSL 2.8.3'. See: https://github.com/urllib3/urllib3/issues/3020\n",
      "  warnings.warn(\n"
     ]
    }
   ],
   "source": [
    "import torch\n",
    "import torch.nn as nn\n",
    "import torch.optim as optim\n",
    "from torchvision import datasets\n",
    "import torchvision.transforms as transforms\n",
    "import matplotlib.pyplot as plt\n",
    "\n",
    "device = torch.device(\"cuda\" if torch.cuda.is_available() else \"mps\")"
   ]
  },
  {
   "cell_type": "code",
   "execution_count": 1,
   "metadata": {
    "ExecuteTime": {
     "end_time": "2024-04-30T13:17:55.369648Z",
     "start_time": "2024-04-30T13:17:55.247929Z"
    },
    "id": "kQU9M95yIuI3"
   },
   "outputs": [
    {
     "name": "stdout",
     "output_type": "stream",
     "text": [
      "zsh:1: command not found: wget\r\n"
     ]
    }
   ],
   "source": [
    "#!wget https://www-users.york.ac.uk/~waps101/PADL/LeNet_weights.pkl"
   ]
  },
  {
   "cell_type": "code",
   "execution_count": 3,
   "metadata": {
    "ExecuteTime": {
     "end_time": "2024-04-30T13:22:04.010902Z",
     "start_time": "2024-04-30T13:22:03.956444Z"
    },
    "id": "XnGG-tcblF-U"
   },
   "outputs": [
    {
     "data": {
      "text/plain": [
       "<All keys matched successfully>"
      ]
     },
     "execution_count": 3,
     "metadata": {},
     "output_type": "execute_result"
    }
   ],
   "source": [
    "class LeNet(nn.Module):\n",
    "    def __init__(self):\n",
    "        super(LeNet, self).__init__()\n",
    "        self.net = nn.Sequential(\n",
    "            nn.Conv2d(\n",
    "                in_channels=1, out_channels=6, kernel_size=5, stride=1, padding=2\n",
    "            ),\n",
    "            nn.Tanh(),\n",
    "            nn.AvgPool2d(kernel_size=2, stride=2),\n",
    "            nn.Conv2d(\n",
    "                in_channels=6, out_channels=16, kernel_size=5, stride=1, padding=0\n",
    "            ),\n",
    "            nn.Tanh(),\n",
    "            nn.AvgPool2d(kernel_size=2, stride=2),\n",
    "            nn.Flatten(),\n",
    "            nn.Linear(in_features=5 * 5 * 16, out_features=120),\n",
    "            nn.Tanh(),\n",
    "            nn.Linear(in_features=120, out_features=84),\n",
    "            nn.Tanh(),\n",
    "            nn.Linear(in_features=84, out_features=10),\n",
    "        )\n",
    "\n",
    "    def forward(self, x):\n",
    "        x = self.net(x)\n",
    "        return x\n",
    "\n",
    "\n",
    "model = LeNet()\n",
    "model.load_state_dict(\n",
    "    torch.load(\"data/LeNet_weights.pkl\", map_location=torch.device(device))\n",
    ")"
   ]
  },
  {
   "cell_type": "markdown",
   "metadata": {
    "id": "qKaDK8OPvCt6"
   },
   "source": [
    "You now have a network that is good at classifying the MNIST digit dataset. Let's take the first test image, run it through the network and check its classification and how confident it is."
   ]
  },
  {
   "cell_type": "code",
   "execution_count": 11,
   "metadata": {
    "ExecuteTime": {
     "end_time": "2024-04-30T13:29:30.037810Z",
     "start_time": "2024-04-30T13:29:29.988233Z"
    },
    "id": "s3HeH0AdoE84"
   },
   "outputs": [
    {
     "data": {
      "image/png": "[encoded data removed]",
      "text/plain": [
       "<Figure size 500x500 with 1 Axes>"
      ]
     },
     "metadata": {},
     "output_type": "display_data"
    }
   ],
   "source": [
    "test_data = datasets.MNIST(\n",
    "    root=\"data\", train=False, transform=transforms.ToTensor(), download=True\n",
    ")\n",
    "# Extract the first test image (correct class=7)\n",
    "image, label = test_data[0]\n",
    "# Make a batch of just this image\n",
    "images = image.unsqueeze(0)\n",
    "# Run image through pretrained network\n",
    "output = model(images)\n",
    "# Find highest probability class\n",
    "pred_y = torch.argmax(output, 1)\n",
    "# Convert logits to probabilities\n",
    "probs = nn.functional.softmax(output, dim=1)\n",
    "\n",
    "figure = plt.figure(figsize=(5, 5))\n",
    "plt.title(\n",
    "    \"Predicted class: {}, confidence: {:.4f}%\".format(\n",
    "        pred_y[0], probs[0, pred_y[0]] * 100\n",
    "    )\n",
    ")\n",
    "plt.axis(\"off\")\n",
    "plt.imshow(image[0, :], cmap=\"gray\")\n",
    "plt.show()"
   ]
  },
  {
   "cell_type": "markdown",
   "metadata": {
    "id": "yl_ouEa8vOTy"
   },
   "source": [
    "It's very confident that this is a seven!\n",
    "\n",
    "**To do**: You now need to solve an optimisation problem to find the perturbation $\\mathbf{r}$ to the input image $\\mathbf{x}$ such that $\\mathbf{x}+\\mathbf{r}$ is classified as a zero instead of a seven. The loss that your optimisation will seek to minimise is a sum of two losses:\n",
    "\n",
    "1. Cross entropy loss with the incorrect label of `[0]`.\n",
    "2. A loss to keep the magnitude of the perturbation small (i.e. to change the image as little as possible). Using the sum of the squared value of all elements of $\\mathbf{r}$ works ok for this.\n",
    "\n",
    "The loss you will optimise should be the sum of these two losses with the second weighted by a parameter $c$. This parameter trades off how much it modifies the image against how much it can change the classification result. Start off with $c=1.0$.\n",
    "\n",
    "The only thing you are optimising is $\\mathbf{r}$. Look back at the week 1 practical if you can't remember how to use PyTorch to directly optimise a variable. Initialise $\\mathbf{r}$ as all zeros.\n",
    "\n",
    "During the optimisation, print out the value of the two losses. The magnitude of the perturbation will start off as zero so must increase in order to decrease the classification loss. You might need to play with the value of $c$ to get a desirable result. Also print out the current classification result so you can see when it switches its mind to class zero.\n",
    "\n",
    "Once you think you have a good result, visualise the perturbed image and also the perturbation on its own. You can also try different incorrect classes. Can you get it to change its mind with a less obvious perturbation for other classes?"
   ]
  },
  {
   "cell_type": "code",
   "execution_count": 74,
   "metadata": {
    "ExecuteTime": {
     "end_time": "2024-04-30T13:52:26.158388Z",
     "start_time": "2024-04-30T13:52:26.061486Z"
    }
   },
   "outputs": [
    {
     "name": "stdout",
     "output_type": "stream",
     "text": [
      "Predicted class in epoch 0: 7\n",
      "classification loss in epoch 0: 13.218868255615234\n",
      "magnitude loss in epoch 0: 0.0\n",
      "------------------------------\n",
      "Predicted class in epoch 1: 7\n",
      "classification loss in epoch 1: 11.913799285888672\n",
      "magnitude loss in epoch 1: 0.03919997066259384\n",
      "------------------------------\n",
      "Predicted class in epoch 2: 7\n",
      "classification loss in epoch 2: 10.329822540283203\n",
      "magnitude loss in epoch 2: 0.14542986452579498\n",
      "------------------------------\n",
      "Predicted class in epoch 3: 7\n",
      "classification loss in epoch 3: 8.441080093383789\n",
      "magnitude loss in epoch 3: 0.31305184960365295\n",
      "------------------------------\n",
      "Predicted class in epoch 4: 7\n",
      "classification loss in epoch 4: 6.2967529296875\n",
      "magnitude loss in epoch 4: 0.5370460152626038\n",
      "------------------------------\n",
      "Predicted class in epoch 5: 7\n",
      "classification loss in epoch 5: 4.2162299156188965\n",
      "magnitude loss in epoch 5: 0.8146558403968811\n",
      "------------------------------\n",
      "Predicted class in epoch 6: 2\n",
      "classification loss in epoch 6: 3.2360646724700928\n",
      "magnitude loss in epoch 6: 1.1305513381958008\n",
      "------------------------------\n",
      "Predicted class in epoch 7: 2\n",
      "classification loss in epoch 7: 2.8753437995910645\n",
      "magnitude loss in epoch 7: 1.4164481163024902\n",
      "------------------------------\n",
      "Predicted class in epoch 8: 2\n",
      "classification loss in epoch 8: 2.349276542663574\n",
      "magnitude loss in epoch 8: 1.6626737117767334\n",
      "------------------------------\n",
      "Predicted class in epoch 9: 2\n",
      "classification loss in epoch 9: 1.6990958452224731\n",
      "magnitude loss in epoch 9: 1.8774160146713257\n",
      "------------------------------\n",
      "Predicted class in epoch 10: 2\n",
      "classification loss in epoch 10: 1.075465202331543\n",
      "magnitude loss in epoch 10: 2.0671589374542236\n",
      "------------------------------\n",
      "Predicted class in epoch 11: 0\n",
      "classification loss in epoch 11: 0.613562822341919\n",
      "magnitude loss in epoch 11: 2.23258638381958\n",
      "------------------------------\n",
      "Predicted class in epoch 12: 0\n",
      "classification loss in epoch 12: 0.3477647006511688\n",
      "magnitude loss in epoch 12: 2.3684630393981934\n",
      "------------------------------\n",
      "Predicted class in epoch 13: 0\n",
      "classification loss in epoch 13: 0.21782653033733368\n",
      "magnitude loss in epoch 13: 2.4689760208129883\n",
      "------------------------------\n",
      "Predicted class in epoch 14: 0\n",
      "classification loss in epoch 14: 0.1564599871635437\n",
      "magnitude loss in epoch 14: 2.5319929122924805\n",
      "------------------------------\n",
      "Predicted class in epoch 15: 0\n",
      "classification loss in epoch 15: 0.1252458095550537\n",
      "magnitude loss in epoch 15: 2.5589725971221924\n",
      "------------------------------\n",
      "Predicted class in epoch 16: 0\n",
      "classification loss in epoch 16: 0.10684390366077423\n",
      "magnitude loss in epoch 16: 2.5535080432891846\n",
      "------------------------------\n",
      "Predicted class in epoch 17: 0\n",
      "classification loss in epoch 17: 0.09418607503175735\n",
      "magnitude loss in epoch 17: 2.520169258117676\n",
      "------------------------------\n",
      "Predicted class in epoch 18: 0\n",
      "classification loss in epoch 18: 0.08473523706197739\n",
      "magnitude loss in epoch 18: 2.463813304901123\n",
      "------------------------------\n",
      "Predicted class in epoch 19: 0\n",
      "classification loss in epoch 19: 0.07793360203504562\n",
      "magnitude loss in epoch 19: 2.389199733734131\n",
      "------------------------------\n",
      "Predicted class in epoch 20: 0\n",
      "classification loss in epoch 20: 0.07417155802249908\n",
      "magnitude loss in epoch 20: 2.300792694091797\n",
      "------------------------------\n",
      "Predicted class in epoch 21: 0\n",
      "classification loss in epoch 21: 0.07450567185878754\n",
      "magnitude loss in epoch 21: 2.2026820182800293\n",
      "------------------------------\n",
      "Predicted class in epoch 22: 0\n",
      "classification loss in epoch 22: 0.08079975098371506\n",
      "magnitude loss in epoch 22: 2.0985937118530273\n",
      "------------------------------\n",
      "Predicted class in epoch 23: 0\n",
      "classification loss in epoch 23: 0.09604707360267639\n",
      "magnitude loss in epoch 23: 1.9919734001159668\n",
      "------------------------------\n",
      "Predicted class in epoch 24: 0\n",
      "classification loss in epoch 24: 0.12431161850690842\n",
      "magnitude loss in epoch 24: 1.8861507177352905\n",
      "------------------------------\n",
      "Predicted class in epoch 25: 0\n",
      "classification loss in epoch 25: 0.16888585686683655\n",
      "magnitude loss in epoch 25: 1.7845524549484253\n",
      "------------------------------\n",
      "Predicted class in epoch 26: 0\n",
      "classification loss in epoch 26: 0.2270289808511734\n",
      "magnitude loss in epoch 26: 1.69082510471344\n",
      "------------------------------\n",
      "Predicted class in epoch 27: 0\n",
      "classification loss in epoch 27: 0.2842819094657898\n",
      "magnitude loss in epoch 27: 1.6085665225982666\n",
      "------------------------------\n",
      "Predicted class in epoch 28: 0\n",
      "classification loss in epoch 28: 0.31911683082580566\n",
      "magnitude loss in epoch 28: 1.5404950380325317\n",
      "------------------------------\n",
      "Predicted class in epoch 29: 0\n",
      "classification loss in epoch 29: 0.31950873136520386\n",
      "magnitude loss in epoch 29: 1.4875551462173462\n",
      "------------------------------\n",
      "Predicted class in epoch 30: 0\n",
      "classification loss in epoch 30: 0.29207155108451843\n",
      "magnitude loss in epoch 30: 1.4486970901489258\n",
      "------------------------------\n",
      "Predicted class in epoch 31: 0\n",
      "classification loss in epoch 31: 0.2534758448600769\n",
      "magnitude loss in epoch 31: 1.4213826656341553\n",
      "------------------------------\n",
      "Predicted class in epoch 32: 0\n",
      "classification loss in epoch 32: 0.2175292819738388\n",
      "magnitude loss in epoch 32: 1.402390480041504\n",
      "------------------------------\n",
      "Predicted class in epoch 33: 0\n",
      "classification loss in epoch 33: 0.1904430389404297\n",
      "magnitude loss in epoch 33: 1.3885340690612793\n",
      "------------------------------\n",
      "Predicted class in epoch 34: 0\n",
      "classification loss in epoch 34: 0.17298147082328796\n",
      "magnitude loss in epoch 34: 1.377102017402649\n",
      "------------------------------\n",
      "Predicted class in epoch 35: 0\n",
      "classification loss in epoch 35: 0.1637062281370163\n",
      "magnitude loss in epoch 35: 1.3660222291946411\n",
      "------------------------------\n",
      "Predicted class in epoch 36: 0\n",
      "classification loss in epoch 36: 0.16081704199314117\n",
      "magnitude loss in epoch 36: 1.3538718223571777\n",
      "------------------------------\n",
      "Predicted class in epoch 37: 0\n",
      "classification loss in epoch 37: 0.16277144849300385\n",
      "magnitude loss in epoch 37: 1.3398202657699585\n",
      "------------------------------\n",
      "Predicted class in epoch 38: 0\n",
      "classification loss in epoch 38: 0.1683511883020401\n",
      "magnitude loss in epoch 38: 1.3235429525375366\n",
      "------------------------------\n",
      "Predicted class in epoch 39: 0\n",
      "classification loss in epoch 39: 0.17656072974205017\n",
      "magnitude loss in epoch 39: 1.3051292896270752\n",
      "------------------------------\n",
      "Predicted class in epoch 40: 0\n",
      "classification loss in epoch 40: 0.186517596244812\n",
      "magnitude loss in epoch 40: 1.2849946022033691\n",
      "------------------------------\n",
      "Predicted class in epoch 41: 0\n",
      "classification loss in epoch 41: 0.1973736435174942\n",
      "magnitude loss in epoch 41: 1.2637983560562134\n",
      "------------------------------\n",
      "Predicted class in epoch 42: 0\n",
      "classification loss in epoch 42: 0.20828117430210114\n",
      "magnitude loss in epoch 42: 1.2423686981201172\n",
      "------------------------------\n",
      "Predicted class in epoch 43: 0\n",
      "classification loss in epoch 43: 0.2183871567249298\n",
      "magnitude loss in epoch 43: 1.2216215133666992\n",
      "------------------------------\n",
      "Predicted class in epoch 44: 0\n",
      "classification loss in epoch 44: 0.22685930132865906\n",
      "magnitude loss in epoch 44: 1.2024801969528198\n",
      "------------------------------\n",
      "Predicted class in epoch 45: 0\n",
      "classification loss in epoch 45: 0.23292753100395203\n",
      "magnitude loss in epoch 45: 1.1857938766479492\n",
      "------------------------------\n",
      "Predicted class in epoch 46: 0\n",
      "classification loss in epoch 46: 0.2359655499458313\n",
      "magnitude loss in epoch 46: 1.1722511053085327\n",
      "------------------------------\n",
      "Predicted class in epoch 47: 0\n",
      "classification loss in epoch 47: 0.23559856414794922\n",
      "magnitude loss in epoch 47: 1.162300705909729\n",
      "------------------------------\n",
      "Predicted class in epoch 48: 0\n",
      "classification loss in epoch 48: 0.23181678354740143\n",
      "magnitude loss in epoch 48: 1.1560869216918945\n",
      "------------------------------\n",
      "Predicted class in epoch 49: 0\n",
      "classification loss in epoch 49: 0.2250330001115799\n",
      "magnitude loss in epoch 49: 1.1534216403961182\n",
      "------------------------------\n"
     ]
    }
   ],
   "source": [
    "c = 0.5\n",
    "desired_label = torch.tensor(0).unsqueeze(0)\n",
    "x = image\n",
    "r = torch.zeros((28, 28), requires_grad=True)\n",
    "classification_loss = nn.CrossEntropyLoss()\n",
    "optim = torch.optim.Adam([r], lr=0.01)\n",
    "\n",
    "\n",
    "def magnitude_loss(perturbation):\n",
    "    return torch.sum(torch.flatten(perturbation).pow(2))\n",
    "\n",
    "\n",
    "num_epochs = 50\n",
    "\n",
    "for i in range(num_epochs):\n",
    "    modified_image = image + r\n",
    "    output = model(modified_image.unsqueeze(0))\n",
    "    print(f\"Predicted class in epoch {i}: {torch.argmax(output, 1).item()}\")\n",
    "    optim.zero_grad()\n",
    "    loss_1 = classification_loss(output, desired_label)\n",
    "    loss_2 = magnitude_loss(r) * c\n",
    "    loss = loss_1 + loss_2\n",
    "    print(f\"classification loss in epoch {i}: {loss_1.item()}\")\n",
    "    print(f\"magnitude loss in epoch {i}: {loss_2.item()}\")\n",
    "    print(\"------------------------------\")\n",
    "    loss.backward()\n",
    "    optim.step()"
   ]
  },
  {
   "cell_type": "code",
   "execution_count": 76,
   "metadata": {
    "ExecuteTime": {
     "end_time": "2024-04-30T13:53:53.773267Z",
     "start_time": "2024-04-30T13:53:53.580471Z"
    }
   },
   "outputs": [
    {
     "data": {
      "text/plain": [
       "Text(0.5, 1.0, 'Perturbation')"
      ]
     },
     "execution_count": 76,
     "metadata": {},
     "output_type": "execute_result"
    },
    {
     "data": {
      "image/png": "[encoded data removed]",
      "text/plain": [
       "<Figure size 640x480 with 2 Axes>"
      ]
     },
     "metadata": {},
     "output_type": "display_data"
    }
   ],
   "source": [
    "fig, ax = plt.subplots(1, 2)\n",
    "ax[0].imshow((image + r.detach().numpy()).squeeze(0), cmap=\"gray\")\n",
    "ax[0].set_title(\"Image with perturbation\")\n",
    "ax[1].imshow(r.detach().numpy(), cmap=\"gray\")\n",
    "ax[1].set_title(\"Perturbation\")"
   ]
  },
  {
   "cell_type": "markdown",
   "metadata": {
    "id": "dAotwPrSiZPh"
   },
   "source": [
    "## 2. GANs\n",
    "\n",
    "We're going to train a GAN using the same Fashion MNIST dataset as last week. We'll use the built-in dataloader this time. A few things to note:\n",
    "1. for a GAN, we only need a training set (a validation set doesn't really make any sense in the context of a GAN)\n",
    "2. the dataset is originally 28 x 28 images, I've padded this to 32 x 32 using the `transforms.CenterCrop` transform (it made it easier to reuse the DCGAN architecture later).\n",
    "3. the GAN trains better if you normalise your image data to be scaled between -1 and 1 (rather than 0 and 1). This is done with `transforms.Normalize`.\n",
    "\n",
    "Let's start by importing everything we need, setting up some parameters and setting up the data loader.\n",
    "\n",
    "Note: training the GAN is slow. You might want to choose Edit -> Notebook settings -> Hardware accelerator -> GPU now."
   ]
  },
  {
   "cell_type": "code",
   "execution_count": 78,
   "metadata": {
    "ExecuteTime": {
     "end_time": "2024-04-30T13:59:04.545475Z",
     "start_time": "2024-04-30T13:59:04.527935Z"
    },
    "id": "phhcbAUupb0o"
   },
   "outputs": [],
   "source": [
    "import torch\n",
    "import torch.nn as nn\n",
    "import torch.optim as optim\n",
    "from torchvision import datasets\n",
    "import torchvision.transforms as transforms\n",
    "import matplotlib.pyplot as plt\n",
    "\n",
    "# Define some parameters\n",
    "batch_size = 100\n",
    "nz = 100  # Size of z latent vector (i.e. size of generator input)\n",
    "ngf = 64  # Size of feature maps in generator\n",
    "ndf = 64  # Size of feature maps in discriminator\n",
    "num_epochs = 5  # Number of training epochs\n",
    "lr = 0.0002  # Learning rate for optimizers\n",
    "beta1 = 0.5  # Beta1 hyperparam for Adam optimizers\n",
    "\n",
    "# Set up the dataset and dataloader\n",
    "transform = transforms.Compose(\n",
    "    [transforms.ToTensor(), transforms.CenterCrop(32), transforms.Normalize(0.5, 0.5)]\n",
    ")\n",
    "train_data = datasets.FashionMNIST(\n",
    "    root=\"data\", train=True, transform=transform, download=True\n",
    ")\n",
    "dataloader = torch.utils.data.DataLoader(\n",
    "    train_data, batch_size=batch_size, shuffle=True, num_workers=1\n",
    ")\n",
    "device = torch.device(\"cuda\" if torch.cuda.is_available() else \"mps\")"
   ]
  },
  {
   "cell_type": "markdown",
   "metadata": {
    "id": "SL-pljea7034"
   },
   "source": [
    "As last week, let's grab a batch of images and visualise the first 25 images. I've negated the image brightness to put the images back to how they originally looked - this is a nicer way to visualise them. You can use this code as a starting point for the visualisation tasks below."
   ]
  },
  {
   "cell_type": "code",
   "execution_count": 79,
   "metadata": {
    "ExecuteTime": {
     "end_time": "2024-04-30T13:59:10.306746Z",
     "start_time": "2024-04-30T13:59:08.583393Z"
    },
    "id": "iRTkSrJbrDw5"
   },
   "outputs": [
    {
     "name": "stderr",
     "output_type": "stream",
     "text": [
      "/Users/ivanbar/Library/Python/3.9/lib/python/site-packages/urllib3/__init__.py:35: NotOpenSSLWarning: urllib3 v2 only supports OpenSSL 1.1.1+, currently the 'ssl' module is compiled with 'LibreSSL 2.8.3'. See: https://github.com/urllib3/urllib3/issues/3020\n",
      "  warnings.warn(\n"
     ]
    },
    {
     "data": {
      "image/png": "[encoded data removed]",
      "text/plain": [
       "<Figure size 1000x800 with 25 Axes>"
      ]
     },
     "metadata": {},
     "output_type": "display_data"
    }
   ],
   "source": [
    "images, labels = next(iter(dataloader))\n",
    "\n",
    "figure = plt.figure(figsize=(10, 8))\n",
    "cols, rows = 5, 5\n",
    "for i in range(cols * rows):\n",
    "    figure.add_subplot(rows, cols, i + 1)\n",
    "    plt.axis(\"off\")\n",
    "    plt.imshow(0.5 - 0.5 * images[i, :].squeeze(), cmap=\"gray\")\n",
    "plt.show()"
   ]
  },
  {
   "cell_type": "markdown",
   "metadata": {
    "id": "2LZmBr9Z8HeB"
   },
   "source": [
    "### Generator architecture\n",
    "\n",
    "I have roughly followed the DCGAN architecture. The Generator takes as input a latent (`z`) vector which has `nz` dimensions. Via an expansive network with transposed convolutions, it converts this into a 32 x 32 image. To map the final output to the range -1..1 we use the Tanh activation function."
   ]
  },
  {
   "cell_type": "code",
   "execution_count": 81,
   "metadata": {
    "ExecuteTime": {
     "end_time": "2024-04-30T14:30:51.193796Z",
     "start_time": "2024-04-30T14:30:51.171787Z"
    },
    "id": "uuimGmSUsFlz"
   },
   "outputs": [],
   "source": [
    "class Generator(nn.Module):\n",
    "    def __init__(self):\n",
    "        super(Generator, self).__init__()\n",
    "        self.main = nn.Sequential(\n",
    "            # input is Z of size B x nz x 1 x 1, we put this directly into a transposed convolution\n",
    "            nn.ConvTranspose2d(nz, ngf * 4, 4, 1, 0, bias=False),\n",
    "            nn.BatchNorm2d(ngf * 4),\n",
    "            nn.ReLU(True),\n",
    "            # Size: B x (ngf*4) x 4 x 4\n",
    "            nn.ConvTranspose2d(ngf * 4, ngf * 2, 4, 2, 1, bias=False),\n",
    "            nn.BatchNorm2d(ngf * 2),\n",
    "            nn.ReLU(True),\n",
    "            # Size: B x (ngf*2) x 8 x 8\n",
    "            nn.ConvTranspose2d(ngf * 2, ngf, 4, 2, 1, bias=False),\n",
    "            nn.BatchNorm2d(ngf),\n",
    "            nn.ReLU(True),\n",
    "            # Size: B x (ngf) x 16 x 16\n",
    "            nn.ConvTranspose2d(ngf, 1, 4, 2, 1, bias=False),\n",
    "            # Size: B x 1 x 32 x 32\n",
    "            nn.Tanh(),\n",
    "        )\n",
    "\n",
    "    def forward(self, input):\n",
    "        return self.main(input)\n",
    "\n",
    "\n",
    "netG = Generator()\n",
    "netG = netG.to(device)"
   ]
  },
  {
   "cell_type": "markdown",
   "metadata": {
    "id": "axgew88Y9XpV"
   },
   "source": [
    "### Discriminator architecture\n",
    "\n",
    "The discriminator is a conventional binary classification CNN: it takes an image as input and outputs the probability that the image is real. I've again followed the DCGAN architecture which uses something you haven't seen before: LeakyReLU. This is a variant on ReLU where negative values are allowed to \"leak\" through, albeit scaled down. Everything else you should have seen before."
   ]
  },
  {
   "cell_type": "code",
   "execution_count": 82,
   "metadata": {
    "ExecuteTime": {
     "end_time": "2024-04-30T14:30:53.770789Z",
     "start_time": "2024-04-30T14:30:53.754096Z"
    },
    "id": "R61sEPaAtzoZ"
   },
   "outputs": [],
   "source": [
    "class Discriminator(nn.Module):\n",
    "    def __init__(self):\n",
    "        super(Discriminator, self).__init__()\n",
    "        self.main = nn.Sequential(\n",
    "            # state size. 1 x 32 x 32\n",
    "            nn.Conv2d(1, ndf, 4, 2, 1, bias=False),\n",
    "            nn.BatchNorm2d(ndf),\n",
    "            nn.LeakyReLU(0.2, inplace=True),\n",
    "            # state size. (ndf) x 16 x 16\n",
    "            nn.Conv2d(ndf, ndf * 2, 4, 2, 1, bias=False),\n",
    "            nn.BatchNorm2d(ndf * 2),\n",
    "            nn.LeakyReLU(0.2, inplace=True),\n",
    "            # state size. (ndf*2) x 8 x 8\n",
    "            nn.Conv2d(ndf * 2, ndf * 4, 4, 2, 1, bias=False),\n",
    "            nn.BatchNorm2d(ndf * 4),\n",
    "            nn.LeakyReLU(0.2, inplace=True),\n",
    "            # state size. (ndf*4) x 4 x 4\n",
    "            nn.Conv2d(ndf * 4, 1, 4, 1, 0, bias=False),\n",
    "            nn.Sigmoid(),\n",
    "        )\n",
    "\n",
    "    def forward(self, input):\n",
    "        return self.main(input)\n",
    "\n",
    "\n",
    "netD = Discriminator()\n",
    "netD = netD.to(device)"
   ]
  },
  {
   "cell_type": "markdown",
   "metadata": {
    "id": "GB3v9Hbe-Ake"
   },
   "source": [
    "### GAN training\n",
    "\n",
    "We're now ready to train our GAN. The training loop for a GAN is pretty complicated so look through the following code carefully and read the comments. You may want to refer to the fifth video lecture for this week to help understand it. You can try running it for a while to train your own GAN but it's slow and below I provide some pretrained weights. Note: even though the data loader is returning labels, we're not using them here. A GAN doesn't need labels."
   ]
  },
  {
   "cell_type": "code",
   "execution_count": null,
   "metadata": {
    "id": "kBTE3I2Xuu4b"
   },
   "outputs": [],
   "source": [
    "# Initialize BCELoss function\n",
    "criterion = nn.BCELoss()\n",
    "\n",
    "# Establish convention for real and fake labels during training\n",
    "real_label = 1.0\n",
    "fake_label = 0.0\n",
    "\n",
    "# Setup Adam optimizers for both G and D\n",
    "optimizerD = optim.Adam(netD.parameters(), lr=lr, betas=(beta1, 0.999))\n",
    "optimizerG = optim.Adam(netG.parameters(), lr=lr, betas=(beta1, 0.999))\n",
    "\n",
    "# Training Loop\n",
    "\n",
    "print(\"Starting Training Loop...\")\n",
    "# For each epoch\n",
    "for epoch in range(num_epochs):\n",
    "    # For each batch in the dataloader\n",
    "    for i, (images, labels) in enumerate(dataloader, 0):\n",
    "        ############################\n",
    "        # (1) Update D network: maximize log(D(x)) + log(1 - D(G(z)))\n",
    "        ###########################\n",
    "        ## Train with all-real batch\n",
    "        netD.zero_grad()\n",
    "        # Format batch\n",
    "        real_images = images.to(device)\n",
    "        label = torch.full((batch_size,), real_label, dtype=torch.float, device=device)\n",
    "        # Forward pass real batch through D\n",
    "        output = netD(real_images).view(-1)\n",
    "        # Calculate loss on all-real batch\n",
    "        errD_real = criterion(output, label)\n",
    "        # Calculate gradients for D in backward pass\n",
    "        errD_real.backward()\n",
    "        D_x = output.mean().item()\n",
    "\n",
    "        ## Train with all-fake batch\n",
    "        # Generate batch of latent vectors\n",
    "        z = torch.randn(batch_size, nz, 1, 1, device=device)\n",
    "        # Generate fake image batch with G\n",
    "        fake = netG(z)\n",
    "        label.fill_(fake_label)\n",
    "        # Classify all fake batch with D\n",
    "        output = netD(fake.detach()).view(-1)\n",
    "        # Calculate D's loss on the all-fake batch\n",
    "        errD_fake = criterion(output, label)\n",
    "        # Calculate the gradients for this batch, accumulated (summed) with previous gradients\n",
    "        errD_fake.backward()\n",
    "        D_G_z1 = output.mean().item()\n",
    "        # Compute error of D as sum over the fake and the real batches\n",
    "        errD = errD_real + errD_fake\n",
    "        # Update D\n",
    "        optimizerD.step()\n",
    "\n",
    "        ############################\n",
    "        # (2) Update G network: maximize log(D(G(z)))\n",
    "        ###########################\n",
    "        netG.zero_grad()\n",
    "        label.fill_(real_label)  # fake labels are real for generator cost\n",
    "        # Since we just updated D, perform another forward pass of all-fake batch through D\n",
    "        output = netD(fake).view(-1)\n",
    "        # Calculate G's loss based on this output\n",
    "        errG = criterion(output, label)\n",
    "        # Calculate gradients for G\n",
    "        errG.backward()\n",
    "        D_G_z2 = output.mean().item()\n",
    "        # Update G\n",
    "        optimizerG.step()\n",
    "\n",
    "        # Output training stats\n",
    "        if i % 50 == 0:\n",
    "            print(\n",
    "                \"[%d/%d][%d/%d]\\tLoss_D: %.4f\\tLoss_G: %.4f\\tD(x): %.4f\\tD(G(z)): %.4f / %.4f\"\n",
    "                % (\n",
    "                    epoch + 1,\n",
    "                    num_epochs,\n",
    "                    i,\n",
    "                    len(dataloader),\n",
    "                    errD.item(),\n",
    "                    errG.item(),\n",
    "                    D_x,\n",
    "                    D_G_z1,\n",
    "                    D_G_z2,\n",
    "                )\n",
    "            )"
   ]
  },
  {
   "cell_type": "markdown",
   "metadata": {
    "id": "JmhjThoF_PnR"
   },
   "source": [
    "### Visualise GAN output\n",
    "\n",
    "**To do**:\n",
    "\n",
    "Generate some random latent codes, pass them through the generator to get images and then visualise them like we visualised the random training images above."
   ]
  },
  {
   "cell_type": "markdown",
   "metadata": {
    "id": "D7Y8sn8k-5DP"
   },
   "source": [
    "### Loading pretrained weights\n",
    "\n",
    "The above training loop is starting to take quite a lot of time, even using a GPU. 5 epochs is not enough for good results. So I've pretrained a network for you that I trained for 100 epochs. Download my pretrained weights and load them into your network, then try running your visualisation code again. Are the results noticably better?"
   ]
  },
  {
   "cell_type": "code",
   "execution_count": 93,
   "metadata": {
    "ExecuteTime": {
     "end_time": "2024-04-30T14:34:27.466539Z",
     "start_time": "2024-04-30T14:34:27.446108Z"
    },
    "id": "BvKWGelT5V3I"
   },
   "outputs": [
    {
     "data": {
      "text/plain": [
       "Generator(\n",
       "  (main): Sequential(\n",
       "    (0): ConvTranspose2d(100, 256, kernel_size=(4, 4), stride=(1, 1), bias=False)\n",
       "    (1): BatchNorm2d(256, eps=1e-05, momentum=0.1, affine=True, track_running_stats=True)\n",
       "    (2): ReLU(inplace=True)\n",
       "    (3): ConvTranspose2d(256, 128, kernel_size=(4, 4), stride=(2, 2), padding=(1, 1), bias=False)\n",
       "    (4): BatchNorm2d(128, eps=1e-05, momentum=0.1, affine=True, track_running_stats=True)\n",
       "    (5): ReLU(inplace=True)\n",
       "    (6): ConvTranspose2d(128, 64, kernel_size=(4, 4), stride=(2, 2), padding=(1, 1), bias=False)\n",
       "    (7): BatchNorm2d(64, eps=1e-05, momentum=0.1, affine=True, track_running_stats=True)\n",
       "    (8): ReLU(inplace=True)\n",
       "    (9): ConvTranspose2d(64, 1, kernel_size=(4, 4), stride=(2, 2), padding=(1, 1), bias=False)\n",
       "    (10): Tanh()\n",
       "  )\n",
       ")"
      ]
     },
     "execution_count": 93,
     "metadata": {},
     "output_type": "execute_result"
    }
   ],
   "source": [
    "#!wget https://www-users.york.ac.uk/~waps101/PADL/netG.pkl\n",
    "netG.load_state_dict(torch.load(\"data/netG.pkl\", map_location=torch.device(\"cpu\")))\n",
    "netG.eval()\n",
    "netG.to(\"cpu\")"
   ]
  },
  {
   "cell_type": "code",
   "execution_count": 101,
   "metadata": {
    "ExecuteTime": {
     "end_time": "2024-04-30T14:35:34.288867Z",
     "start_time": "2024-04-30T14:35:34.209332Z"
    }
   },
   "outputs": [
    {
     "data": {
      "text/plain": [
       "<matplotlib.image.AxesImage at 0x31ae84ca0>"
      ]
     },
     "execution_count": 101,
     "metadata": {},
     "output_type": "execute_result"
    },
    {
     "data": {
      "image/png": "[encoded data removed]",
      "text/plain": [
       "<Figure size 640x480 with 1 Axes>"
      ]
     },
     "metadata": {},
     "output_type": "display_data"
    }
   ],
   "source": [
    "random_z = torch.rand(1, nz, 1, 1).to(\"cpu\")\n",
    "plt.imshow(netG(random_z).squeeze(0).squeeze(0).detach().numpy(), cmap=\"gray\")"
   ]
  },
  {
   "cell_type": "markdown",
   "metadata": {
    "id": "nNFZovmchTqE"
   },
   "source": [
    "## Latent space interpolation\n",
    "\n",
    "One of the interesting things about GANs is that the latent space of the generator provides a set of parameters that can be manipulated to change the appearance of the image in a smooth way. Walking around in the latent space results in an image that gradually varies hopefully remaining plausible all the time. The easiest way try this out is by linearly interpolating between two samples.\n",
    "\n",
    "**To do**:\n",
    "\n",
    "Write some code that starts by generating two random latent codes, `z1` and `z2`. Now create a batch of 9 latent codes that linearly interpolates between them so that the first element in the batch is equal to `z1`, the ninth is equal to `z2` and the fifth (i.e. the middle element) is equal to `0.5*z1 + 0.5*z2`. Pass the batch of latent codes through your generator (remember to put the generator in eval mode first with `netG.eval()` so that the batchnorm layers use the learnt means/stds). Now display the resulting images (adapt the code we've used previously for visualing images from a batch). You should see a gradual transition from one image to the other and the intermediates should look reasonable (although it's hard to interpolate from a handbag to a pair of trousers!)"
   ]
  },
  {
   "cell_type": "code",
   "execution_count": 125,
   "metadata": {
    "ExecuteTime": {
     "end_time": "2024-04-30T14:43:38.455056Z",
     "start_time": "2024-04-30T14:43:38.186762Z"
    }
   },
   "outputs": [
    {
     "data": {
      "image/png": "[encoded data removed]",
      "text/plain": [
       "<Figure size 1600x1000 with 10 Axes>"
      ]
     },
     "metadata": {},
     "output_type": "display_data"
    }
   ],
   "source": [
    "z1, z2 = torch.rand(1, nz, 1, 1).to(\"cpu\"), torch.rand(1, nz, 1, 1).to(\"cpu\")\n",
    "intermediate_codes = torch.tensor([])\n",
    "for i in range(10):\n",
    "    intermediate_codes = torch.cat(\n",
    "        (intermediate_codes, ((i / 10) * z1) + ((1 - i / 10) * z2))\n",
    "    )\n",
    "\n",
    "outputs = netG(intermediate_codes)\n",
    "fig, ax = plt.subplots(1, 10, figsize=(16, 10))\n",
    "for idx, output in enumerate(outputs):\n",
    "    ax[idx].imshow(output.squeeze(0).squeeze(0).detach().numpy(), cmap=\"gray\")"
   ]
  },
  {
   "cell_type": "markdown",
   "metadata": {
    "id": "ILxrcz8JyFpu"
   },
   "source": [
    "## 3. Play with a pretrained diffusion model\n",
    "\n",
    "First we need to install some dependencies and import. This takes a few minutes to run so take a break while it's running!"
   ]
  },
  {
   "cell_type": "code",
   "execution_count": null,
   "metadata": {
    "id": "aCXcNWB1yTVl"
   },
   "outputs": [],
   "source": [
    "!pip install \"jax[cuda12_local]==0.4.23\" -f https://storage.googleapis.com/jax-releases/jax_cuda_releases.html\n",
    "!pip install diffusers==0.11.1\n",
    "!pip install transformers scipy ftfy accelerate"
   ]
  },
  {
   "cell_type": "code",
   "execution_count": 80,
   "metadata": {
    "ExecuteTime": {
     "end_time": "2024-04-30T14:05:04.322612Z",
     "start_time": "2024-04-30T14:00:35.692154Z"
    },
    "id": "9NIJZo4P7yte"
   },
   "outputs": [
    {
     "data": {
      "application/vnd.jupyter.widget-view+json": {
       "model_id": "d9390ae6b46640b1a3d2ea3b0f64b91e",
       "version_major": 2,
       "version_minor": 0
      },
      "text/plain": [
       "model_index.json:   0%|          | 0.00/541 [00:00<?, ?B/s]"
      ]
     },
     "metadata": {},
     "output_type": "display_data"
    },
    {
     "name": "stderr",
     "output_type": "stream",
     "text": [
      "text_encoder/pytorch_model.fp16.safetensors not found\n"
     ]
    },
    {
     "data": {
      "application/vnd.jupyter.widget-view+json": {
       "model_id": "46a38e28bc6c4ec4b5ec674809404169",
       "version_major": 2,
       "version_minor": 0
      },
      "text/plain": [
       "Fetching 30 files:   0%|          | 0/30 [00:00<?, ?it/s]"
      ]
     },
     "metadata": {},
     "output_type": "display_data"
    },
    {
     "data": {
      "application/vnd.jupyter.widget-view+json": {
       "model_id": "918c977820844974b413a8187e6378a2",
       "version_major": 2,
       "version_minor": 0
      },
      "text/plain": [
       "safety_checker/config.json:   0%|          | 0.00/4.56k [00:00<?, ?B/s]"
      ]
     },
     "metadata": {},
     "output_type": "display_data"
    },
    {
     "data": {
      "application/vnd.jupyter.widget-view+json": {
       "model_id": "acde6c8b85174ed194d71efcd87b53cb",
       "version_major": 2,
       "version_minor": 0
      },
      "text/plain": [
       "safety_checker/pytorch_model.bin:   0%|          | 0.00/1.22G [00:00<?, ?B/s]"
      ]
     },
     "metadata": {},
     "output_type": "display_data"
    },
    {
     "data": {
      "application/vnd.jupyter.widget-view+json": {
       "model_id": "01337f4ebd3a42e9a83d37d0eafc01f2",
       "version_major": 2,
       "version_minor": 0
      },
      "text/plain": [
       "safety_checker/model.fp16.safetensors:   0%|          | 0.00/608M [00:00<?, ?B/s]"
      ]
     },
     "metadata": {},
     "output_type": "display_data"
    },
    {
     "data": {
      "application/vnd.jupyter.widget-view+json": {
       "model_id": "b7cd3af22ef248edbae2d31266168e55",
       "version_major": 2,
       "version_minor": 0
      },
      "text/plain": [
       "(…)ature_extractor/preprocessor_config.json:   0%|          | 0.00/342 [00:00<?, ?B/s]"
      ]
     },
     "metadata": {},
     "output_type": "display_data"
    },
    {
     "data": {
      "application/vnd.jupyter.widget-view+json": {
       "model_id": "412e3981cbdd4d45946585491a29a250",
       "version_major": 2,
       "version_minor": 0
      },
      "text/plain": [
       "(…)kpoints/scheduler_config-checkpoint.json:   0%|          | 0.00/209 [00:00<?, ?B/s]"
      ]
     },
     "metadata": {},
     "output_type": "display_data"
    },
    {
     "data": {
      "application/vnd.jupyter.widget-view+json": {
       "model_id": "d0f9821e89b646f6905e7de401d5effa",
       "version_major": 2,
       "version_minor": 0
      },
      "text/plain": [
       "scheduler/scheduler_config.json:   0%|          | 0.00/313 [00:00<?, ?B/s]"
      ]
     },
     "metadata": {},
     "output_type": "display_data"
    },
    {
     "data": {
      "application/vnd.jupyter.widget-view+json": {
       "model_id": "1990281b3eee41af82f8e5fc471fab52",
       "version_major": 2,
       "version_minor": 0
      },
      "text/plain": [
       "text_encoder/model.fp16.safetensors:   0%|          | 0.00/246M [00:00<?, ?B/s]"
      ]
     },
     "metadata": {},
     "output_type": "display_data"
    },
    {
     "data": {
      "application/vnd.jupyter.widget-view+json": {
       "model_id": "4d4f7146ada94fe8ae6555c940dddfd1",
       "version_major": 2,
       "version_minor": 0
      },
      "text/plain": [
       "text_encoder/config.json:   0%|          | 0.00/592 [00:00<?, ?B/s]"
      ]
     },
     "metadata": {},
     "output_type": "display_data"
    },
    {
     "data": {
      "application/vnd.jupyter.widget-view+json": {
       "model_id": "66117de80bd640989cb183309589b567",
       "version_major": 2,
       "version_minor": 0
      },
      "text/plain": [
       "text_encoder/pytorch_model.bin:   0%|          | 0.00/492M [00:00<?, ?B/s]"
      ]
     },
     "metadata": {},
     "output_type": "display_data"
    },
    {
     "data": {
      "application/vnd.jupyter.widget-view+json": {
       "model_id": "072c809f979d4b3eb26bb874e36bf0bb",
       "version_major": 2,
       "version_minor": 0
      },
      "text/plain": [
       "safety_checker/pytorch_model.fp16.bin:   0%|          | 0.00/608M [00:00<?, ?B/s]"
      ]
     },
     "metadata": {},
     "output_type": "display_data"
    },
    {
     "data": {
      "application/vnd.jupyter.widget-view+json": {
       "model_id": "2fea4d5f3004486d8238592b1c3e8ecc",
       "version_major": 2,
       "version_minor": 0
      },
      "text/plain": [
       "safety_checker/model.safetensors:   0%|          | 0.00/1.22G [00:00<?, ?B/s]"
      ]
     },
     "metadata": {},
     "output_type": "display_data"
    },
    {
     "data": {
      "application/vnd.jupyter.widget-view+json": {
       "model_id": "15082fb8c4dc41828c182b8af97ba23a",
       "version_major": 2,
       "version_minor": 0
      },
      "text/plain": [
       "text_encoder/model.safetensors:   0%|          | 0.00/492M [00:00<?, ?B/s]"
      ]
     },
     "metadata": {},
     "output_type": "display_data"
    },
    {
     "data": {
      "application/vnd.jupyter.widget-view+json": {
       "model_id": "9332d5e5a7a041b29269c841662cdd04",
       "version_major": 2,
       "version_minor": 0
      },
      "text/plain": [
       "text_encoder/pytorch_model.fp16.bin:   0%|          | 0.00/246M [00:00<?, ?B/s]"
      ]
     },
     "metadata": {},
     "output_type": "display_data"
    },
    {
     "data": {
      "application/vnd.jupyter.widget-view+json": {
       "model_id": "ce10070703e340379c6f8ba686667de5",
       "version_major": 2,
       "version_minor": 0
      },
      "text/plain": [
       "tokenizer/merges.txt:   0%|          | 0.00/525k [00:00<?, ?B/s]"
      ]
     },
     "metadata": {},
     "output_type": "display_data"
    },
    {
     "data": {
      "application/vnd.jupyter.widget-view+json": {
       "model_id": "96de830a43114c63894fba4fdd2373d5",
       "version_major": 2,
       "version_minor": 0
      },
      "text/plain": [
       "tokenizer/special_tokens_map.json:   0%|          | 0.00/472 [00:00<?, ?B/s]"
      ]
     },
     "metadata": {},
     "output_type": "display_data"
    },
    {
     "data": {
      "application/vnd.jupyter.widget-view+json": {
       "model_id": "97d19026f56e40978921ae892c0b8b68",
       "version_major": 2,
       "version_minor": 0
      },
      "text/plain": [
       "tokenizer/tokenizer_config.json:   0%|          | 0.00/806 [00:00<?, ?B/s]"
      ]
     },
     "metadata": {},
     "output_type": "display_data"
    },
    {
     "data": {
      "application/vnd.jupyter.widget-view+json": {
       "model_id": "b1fa5fbc2c4e42838a7586c6727abb8e",
       "version_major": 2,
       "version_minor": 0
      },
      "text/plain": [
       "tokenizer/vocab.json:   0%|          | 0.00/1.06M [00:00<?, ?B/s]"
      ]
     },
     "metadata": {},
     "output_type": "display_data"
    },
    {
     "data": {
      "application/vnd.jupyter.widget-view+json": {
       "model_id": "e1ac79b82ad0435cbe75d327eaded9db",
       "version_major": 2,
       "version_minor": 0
      },
      "text/plain": [
       "unet/config.json:   0%|          | 0.00/743 [00:00<?, ?B/s]"
      ]
     },
     "metadata": {},
     "output_type": "display_data"
    },
    {
     "data": {
      "application/vnd.jupyter.widget-view+json": {
       "model_id": "1b5b952ca9264298897edf01ffe4e6bc",
       "version_major": 2,
       "version_minor": 0
      },
      "text/plain": [
       "unet/diffusion_pytorch_model.bin:   0%|          | 0.00/3.44G [00:00<?, ?B/s]"
      ]
     },
     "metadata": {},
     "output_type": "display_data"
    },
    {
     "data": {
      "application/vnd.jupyter.widget-view+json": {
       "model_id": "32ff533c2b734bdf9fb634e515a69294",
       "version_major": 2,
       "version_minor": 0
      },
      "text/plain": [
       "unet/diffusion_pytorch_model.fp16.bin:   0%|          | 0.00/1.72G [00:00<?, ?B/s]"
      ]
     },
     "metadata": {},
     "output_type": "display_data"
    },
    {
     "data": {
      "application/vnd.jupyter.widget-view+json": {
       "model_id": "aaaf738772e14318925b84278a5e3094",
       "version_major": 2,
       "version_minor": 0
      },
      "text/plain": [
       "(…)diffusion_pytorch_model.fp16.safetensors:   0%|          | 0.00/1.72G [00:00<?, ?B/s]"
      ]
     },
     "metadata": {},
     "output_type": "display_data"
    },
    {
     "data": {
      "application/vnd.jupyter.widget-view+json": {
       "model_id": "4f3e173f66be4368aefea6133597982a",
       "version_major": 2,
       "version_minor": 0
      },
      "text/plain": [
       "unet/diffusion_pytorch_model.non_ema.bin:   0%|          | 0.00/3.44G [00:00<?, ?B/s]"
      ]
     },
     "metadata": {},
     "output_type": "display_data"
    },
    {
     "ename": "KeyboardInterrupt",
     "evalue": "",
     "output_type": "error",
     "traceback": [
      "\u001b[0;31m---------------------------------------------------------------------------\u001b[0m",
      "\u001b[0;31mKeyboardInterrupt\u001b[0m                         Traceback (most recent call last)",
      "File \u001b[0;32m~/Library/Python/3.9/lib/python/site-packages/tqdm/contrib/concurrent.py:51\u001b[0m, in \u001b[0;36m_executor_map\u001b[0;34m(PoolExecutor, fn, *iterables, **tqdm_kwargs)\u001b[0m\n\u001b[1;32m     49\u001b[0m \u001b[38;5;28;01mwith\u001b[39;00m PoolExecutor(max_workers\u001b[38;5;241m=\u001b[39mmax_workers, initializer\u001b[38;5;241m=\u001b[39mtqdm_class\u001b[38;5;241m.\u001b[39mset_lock,\n\u001b[1;32m     50\u001b[0m                   initargs\u001b[38;5;241m=\u001b[39m(lk,)) \u001b[38;5;28;01mas\u001b[39;00m ex:\n\u001b[0;32m---> 51\u001b[0m     \u001b[38;5;28;01mreturn\u001b[39;00m \u001b[38;5;28;43mlist\u001b[39;49m\u001b[43m(\u001b[49m\u001b[43mtqdm_class\u001b[49m\u001b[43m(\u001b[49m\u001b[43mex\u001b[49m\u001b[38;5;241;43m.\u001b[39;49m\u001b[43mmap\u001b[49m\u001b[43m(\u001b[49m\u001b[43mfn\u001b[49m\u001b[43m,\u001b[49m\u001b[43m \u001b[49m\u001b[38;5;241;43m*\u001b[39;49m\u001b[43miterables\u001b[49m\u001b[43m,\u001b[49m\u001b[43m \u001b[49m\u001b[43mchunksize\u001b[49m\u001b[38;5;241;43m=\u001b[39;49m\u001b[43mchunksize\u001b[49m\u001b[43m)\u001b[49m\u001b[43m,\u001b[49m\u001b[43m \u001b[49m\u001b[38;5;241;43m*\u001b[39;49m\u001b[38;5;241;43m*\u001b[39;49m\u001b[43mkwargs\u001b[49m\u001b[43m)\u001b[49m\u001b[43m)\u001b[49m\n",
      "File \u001b[0;32m~/Library/Python/3.9/lib/python/site-packages/tqdm/notebook.py:250\u001b[0m, in \u001b[0;36mtqdm_notebook.__iter__\u001b[0;34m(self)\u001b[0m\n\u001b[1;32m    249\u001b[0m it \u001b[38;5;241m=\u001b[39m \u001b[38;5;28msuper\u001b[39m(tqdm_notebook, \u001b[38;5;28mself\u001b[39m)\u001b[38;5;241m.\u001b[39m\u001b[38;5;21m__iter__\u001b[39m()\n\u001b[0;32m--> 250\u001b[0m \u001b[38;5;28;01mfor\u001b[39;00m obj \u001b[38;5;129;01min\u001b[39;00m it:\n\u001b[1;32m    251\u001b[0m     \u001b[38;5;66;03m# return super(tqdm...) will not catch exception\u001b[39;00m\n\u001b[1;32m    252\u001b[0m     \u001b[38;5;28;01myield\u001b[39;00m obj\n",
      "File \u001b[0;32m~/Library/Python/3.9/lib/python/site-packages/tqdm/std.py:1181\u001b[0m, in \u001b[0;36mtqdm.__iter__\u001b[0;34m(self)\u001b[0m\n\u001b[1;32m   1180\u001b[0m \u001b[38;5;28;01mtry\u001b[39;00m:\n\u001b[0;32m-> 1181\u001b[0m     \u001b[38;5;28;01mfor\u001b[39;00m obj \u001b[38;5;129;01min\u001b[39;00m iterable:\n\u001b[1;32m   1182\u001b[0m         \u001b[38;5;28;01myield\u001b[39;00m obj\n",
      "File \u001b[0;32m/Library/Developer/CommandLineTools/Library/Frameworks/Python3.framework/Versions/3.9/lib/python3.9/concurrent/futures/_base.py:608\u001b[0m, in \u001b[0;36mExecutor.map.<locals>.result_iterator\u001b[0;34m()\u001b[0m\n\u001b[1;32m    607\u001b[0m \u001b[38;5;28;01mif\u001b[39;00m timeout \u001b[38;5;129;01mis\u001b[39;00m \u001b[38;5;28;01mNone\u001b[39;00m:\n\u001b[0;32m--> 608\u001b[0m     \u001b[38;5;28;01myield\u001b[39;00m \u001b[43mfs\u001b[49m\u001b[38;5;241;43m.\u001b[39;49m\u001b[43mpop\u001b[49m\u001b[43m(\u001b[49m\u001b[43m)\u001b[49m\u001b[38;5;241;43m.\u001b[39;49m\u001b[43mresult\u001b[49m\u001b[43m(\u001b[49m\u001b[43m)\u001b[49m\n\u001b[1;32m    609\u001b[0m \u001b[38;5;28;01melse\u001b[39;00m:\n",
      "File \u001b[0;32m/Library/Developer/CommandLineTools/Library/Frameworks/Python3.framework/Versions/3.9/lib/python3.9/concurrent/futures/_base.py:440\u001b[0m, in \u001b[0;36mFuture.result\u001b[0;34m(self, timeout)\u001b[0m\n\u001b[1;32m    438\u001b[0m     \u001b[38;5;28;01mreturn\u001b[39;00m \u001b[38;5;28mself\u001b[39m\u001b[38;5;241m.\u001b[39m__get_result()\n\u001b[0;32m--> 440\u001b[0m \u001b[38;5;28;43mself\u001b[39;49m\u001b[38;5;241;43m.\u001b[39;49m\u001b[43m_condition\u001b[49m\u001b[38;5;241;43m.\u001b[39;49m\u001b[43mwait\u001b[49m\u001b[43m(\u001b[49m\u001b[43mtimeout\u001b[49m\u001b[43m)\u001b[49m\n\u001b[1;32m    442\u001b[0m \u001b[38;5;28;01mif\u001b[39;00m \u001b[38;5;28mself\u001b[39m\u001b[38;5;241m.\u001b[39m_state \u001b[38;5;129;01min\u001b[39;00m [CANCELLED, CANCELLED_AND_NOTIFIED]:\n",
      "File \u001b[0;32m/Library/Developer/CommandLineTools/Library/Frameworks/Python3.framework/Versions/3.9/lib/python3.9/threading.py:312\u001b[0m, in \u001b[0;36mCondition.wait\u001b[0;34m(self, timeout)\u001b[0m\n\u001b[1;32m    311\u001b[0m \u001b[38;5;28;01mif\u001b[39;00m timeout \u001b[38;5;129;01mis\u001b[39;00m \u001b[38;5;28;01mNone\u001b[39;00m:\n\u001b[0;32m--> 312\u001b[0m     \u001b[43mwaiter\u001b[49m\u001b[38;5;241;43m.\u001b[39;49m\u001b[43macquire\u001b[49m\u001b[43m(\u001b[49m\u001b[43m)\u001b[49m\n\u001b[1;32m    313\u001b[0m     gotit \u001b[38;5;241m=\u001b[39m \u001b[38;5;28;01mTrue\u001b[39;00m\n",
      "\u001b[0;31mKeyboardInterrupt\u001b[0m: ",
      "\nDuring handling of the above exception, another exception occurred:\n",
      "\u001b[0;31mKeyboardInterrupt\u001b[0m                         Traceback (most recent call last)",
      "Cell \u001b[0;32mIn[80], line 4\u001b[0m\n\u001b[1;32m      1\u001b[0m \u001b[38;5;28;01mimport\u001b[39;00m \u001b[38;5;21;01mtorch\u001b[39;00m\n\u001b[1;32m      2\u001b[0m \u001b[38;5;28;01mfrom\u001b[39;00m \u001b[38;5;21;01mdiffusers\u001b[39;00m \u001b[38;5;28;01mimport\u001b[39;00m StableDiffusionPipeline\n\u001b[0;32m----> 4\u001b[0m pipe \u001b[38;5;241m=\u001b[39m \u001b[43mStableDiffusionPipeline\u001b[49m\u001b[38;5;241;43m.\u001b[39;49m\u001b[43mfrom_pretrained\u001b[49m\u001b[43m(\u001b[49m\n\u001b[1;32m      5\u001b[0m \u001b[43m    \u001b[49m\u001b[38;5;124;43m\"\u001b[39;49m\u001b[38;5;124;43mCompVis/stable-diffusion-v1-4\u001b[39;49m\u001b[38;5;124;43m\"\u001b[39;49m\u001b[43m,\u001b[49m\u001b[43m \u001b[49m\u001b[43mtorch_dtype\u001b[49m\u001b[38;5;241;43m=\u001b[39;49m\u001b[43mtorch\u001b[49m\u001b[38;5;241;43m.\u001b[39;49m\u001b[43mfloat16\u001b[49m\n\u001b[1;32m      6\u001b[0m \u001b[43m)\u001b[49m\n\u001b[1;32m      7\u001b[0m device \u001b[38;5;241m=\u001b[39m torch\u001b[38;5;241m.\u001b[39mdevice(\u001b[38;5;124m\"\u001b[39m\u001b[38;5;124mcuda\u001b[39m\u001b[38;5;124m\"\u001b[39m \u001b[38;5;28;01mif\u001b[39;00m torch\u001b[38;5;241m.\u001b[39mcuda\u001b[38;5;241m.\u001b[39mis_available() \u001b[38;5;28;01melse\u001b[39;00m \u001b[38;5;124m\"\u001b[39m\u001b[38;5;124mmps\u001b[39m\u001b[38;5;124m\"\u001b[39m)\n\u001b[1;32m      8\u001b[0m pipe \u001b[38;5;241m=\u001b[39m pipe\u001b[38;5;241m.\u001b[39mto(device)\n",
      "File \u001b[0;32m~/Library/Python/3.9/lib/python/site-packages/diffusers/pipeline_utils.py:500\u001b[0m, in \u001b[0;36mDiffusionPipeline.from_pretrained\u001b[0;34m(cls, pretrained_model_name_or_path, **kwargs)\u001b[0m\n\u001b[1;32m    497\u001b[0m             ignore_patterns\u001b[38;5;241m.\u001b[39mappend(\u001b[38;5;124m\"\u001b[39m\u001b[38;5;124m*.bin\u001b[39m\u001b[38;5;124m\"\u001b[39m)\n\u001b[1;32m    499\u001b[0m     \u001b[38;5;66;03m# download all allow_patterns\u001b[39;00m\n\u001b[0;32m--> 500\u001b[0m     cached_folder \u001b[38;5;241m=\u001b[39m \u001b[43msnapshot_download\u001b[49m\u001b[43m(\u001b[49m\n\u001b[1;32m    501\u001b[0m \u001b[43m        \u001b[49m\u001b[43mpretrained_model_name_or_path\u001b[49m\u001b[43m,\u001b[49m\n\u001b[1;32m    502\u001b[0m \u001b[43m        \u001b[49m\u001b[43mcache_dir\u001b[49m\u001b[38;5;241;43m=\u001b[39;49m\u001b[43mcache_dir\u001b[49m\u001b[43m,\u001b[49m\n\u001b[1;32m    503\u001b[0m \u001b[43m        \u001b[49m\u001b[43mresume_download\u001b[49m\u001b[38;5;241;43m=\u001b[39;49m\u001b[43mresume_download\u001b[49m\u001b[43m,\u001b[49m\n\u001b[1;32m    504\u001b[0m \u001b[43m        \u001b[49m\u001b[43mproxies\u001b[49m\u001b[38;5;241;43m=\u001b[39;49m\u001b[43mproxies\u001b[49m\u001b[43m,\u001b[49m\n\u001b[1;32m    505\u001b[0m \u001b[43m        \u001b[49m\u001b[43mlocal_files_only\u001b[49m\u001b[38;5;241;43m=\u001b[39;49m\u001b[43mlocal_files_only\u001b[49m\u001b[43m,\u001b[49m\n\u001b[1;32m    506\u001b[0m \u001b[43m        \u001b[49m\u001b[43muse_auth_token\u001b[49m\u001b[38;5;241;43m=\u001b[39;49m\u001b[43muse_auth_token\u001b[49m\u001b[43m,\u001b[49m\n\u001b[1;32m    507\u001b[0m \u001b[43m        \u001b[49m\u001b[43mrevision\u001b[49m\u001b[38;5;241;43m=\u001b[39;49m\u001b[43mrevision\u001b[49m\u001b[43m,\u001b[49m\n\u001b[1;32m    508\u001b[0m \u001b[43m        \u001b[49m\u001b[43mallow_patterns\u001b[49m\u001b[38;5;241;43m=\u001b[39;49m\u001b[43mallow_patterns\u001b[49m\u001b[43m,\u001b[49m\n\u001b[1;32m    509\u001b[0m \u001b[43m        \u001b[49m\u001b[43mignore_patterns\u001b[49m\u001b[38;5;241;43m=\u001b[39;49m\u001b[43mignore_patterns\u001b[49m\u001b[43m,\u001b[49m\n\u001b[1;32m    510\u001b[0m \u001b[43m        \u001b[49m\u001b[43muser_agent\u001b[49m\u001b[38;5;241;43m=\u001b[39;49m\u001b[43muser_agent\u001b[49m\u001b[43m,\u001b[49m\n\u001b[1;32m    511\u001b[0m \u001b[43m    \u001b[49m\u001b[43m)\u001b[49m\n\u001b[1;32m    512\u001b[0m \u001b[38;5;28;01melse\u001b[39;00m:\n\u001b[1;32m    513\u001b[0m     cached_folder \u001b[38;5;241m=\u001b[39m pretrained_model_name_or_path\n",
      "File \u001b[0;32m~/Library/Python/3.9/lib/python/site-packages/huggingface_hub/utils/_validators.py:119\u001b[0m, in \u001b[0;36mvalidate_hf_hub_args.<locals>._inner_fn\u001b[0;34m(*args, **kwargs)\u001b[0m\n\u001b[1;32m    116\u001b[0m \u001b[38;5;28;01mif\u001b[39;00m check_use_auth_token:\n\u001b[1;32m    117\u001b[0m     kwargs \u001b[38;5;241m=\u001b[39m smoothly_deprecate_use_auth_token(fn_name\u001b[38;5;241m=\u001b[39mfn\u001b[38;5;241m.\u001b[39m\u001b[38;5;18m__name__\u001b[39m, has_token\u001b[38;5;241m=\u001b[39mhas_token, kwargs\u001b[38;5;241m=\u001b[39mkwargs)\n\u001b[0;32m--> 119\u001b[0m \u001b[38;5;28;01mreturn\u001b[39;00m \u001b[43mfn\u001b[49m\u001b[43m(\u001b[49m\u001b[38;5;241;43m*\u001b[39;49m\u001b[43margs\u001b[49m\u001b[43m,\u001b[49m\u001b[43m \u001b[49m\u001b[38;5;241;43m*\u001b[39;49m\u001b[38;5;241;43m*\u001b[39;49m\u001b[43mkwargs\u001b[49m\u001b[43m)\u001b[49m\n",
      "File \u001b[0;32m~/Library/Python/3.9/lib/python/site-packages/huggingface_hub/_snapshot_download.py:316\u001b[0m, in \u001b[0;36msnapshot_download\u001b[0;34m(repo_id, repo_type, revision, cache_dir, local_dir, local_dir_use_symlinks, library_name, library_version, user_agent, proxies, etag_timeout, resume_download, force_download, token, local_files_only, allow_patterns, ignore_patterns, max_workers, tqdm_class, headers, endpoint)\u001b[0m\n\u001b[1;32m    314\u001b[0m         _inner_hf_hub_download(file)\n\u001b[1;32m    315\u001b[0m \u001b[38;5;28;01melse\u001b[39;00m:\n\u001b[0;32m--> 316\u001b[0m     \u001b[43mthread_map\u001b[49m\u001b[43m(\u001b[49m\n\u001b[1;32m    317\u001b[0m \u001b[43m        \u001b[49m\u001b[43m_inner_hf_hub_download\u001b[49m\u001b[43m,\u001b[49m\n\u001b[1;32m    318\u001b[0m \u001b[43m        \u001b[49m\u001b[43mfiltered_repo_files\u001b[49m\u001b[43m,\u001b[49m\n\u001b[1;32m    319\u001b[0m \u001b[43m        \u001b[49m\u001b[43mdesc\u001b[49m\u001b[38;5;241;43m=\u001b[39;49m\u001b[38;5;124;43mf\u001b[39;49m\u001b[38;5;124;43m\"\u001b[39;49m\u001b[38;5;124;43mFetching \u001b[39;49m\u001b[38;5;132;43;01m{\u001b[39;49;00m\u001b[38;5;28;43mlen\u001b[39;49m\u001b[43m(\u001b[49m\u001b[43mfiltered_repo_files\u001b[49m\u001b[43m)\u001b[49m\u001b[38;5;132;43;01m}\u001b[39;49;00m\u001b[38;5;124;43m files\u001b[39;49m\u001b[38;5;124;43m\"\u001b[39;49m\u001b[43m,\u001b[49m\n\u001b[1;32m    320\u001b[0m \u001b[43m        \u001b[49m\u001b[43mmax_workers\u001b[49m\u001b[38;5;241;43m=\u001b[39;49m\u001b[43mmax_workers\u001b[49m\u001b[43m,\u001b[49m\n\u001b[1;32m    321\u001b[0m \u001b[43m        \u001b[49m\u001b[38;5;66;43;03m# User can use its own tqdm class or the default one from `huggingface_hub.utils`\u001b[39;49;00m\n\u001b[1;32m    322\u001b[0m \u001b[43m        \u001b[49m\u001b[43mtqdm_class\u001b[49m\u001b[38;5;241;43m=\u001b[39;49m\u001b[43mtqdm_class\u001b[49m\u001b[43m \u001b[49m\u001b[38;5;129;43;01mor\u001b[39;49;00m\u001b[43m \u001b[49m\u001b[43mhf_tqdm\u001b[49m\u001b[43m,\u001b[49m\n\u001b[1;32m    323\u001b[0m \u001b[43m    \u001b[49m\u001b[43m)\u001b[49m\n\u001b[1;32m    325\u001b[0m \u001b[38;5;28;01mif\u001b[39;00m local_dir \u001b[38;5;129;01mis\u001b[39;00m \u001b[38;5;129;01mnot\u001b[39;00m \u001b[38;5;28;01mNone\u001b[39;00m:\n\u001b[1;32m    326\u001b[0m     \u001b[38;5;28;01mreturn\u001b[39;00m \u001b[38;5;28mstr\u001b[39m(os\u001b[38;5;241m.\u001b[39mpath\u001b[38;5;241m.\u001b[39mrealpath(local_dir))\n",
      "File \u001b[0;32m~/Library/Python/3.9/lib/python/site-packages/tqdm/contrib/concurrent.py:69\u001b[0m, in \u001b[0;36mthread_map\u001b[0;34m(fn, *iterables, **tqdm_kwargs)\u001b[0m\n\u001b[1;32m     55\u001b[0m \u001b[38;5;250m\u001b[39m\u001b[38;5;124;03m\"\"\"\u001b[39;00m\n\u001b[1;32m     56\u001b[0m \u001b[38;5;124;03mEquivalent of `list(map(fn, *iterables))`\u001b[39;00m\n\u001b[1;32m     57\u001b[0m \u001b[38;5;124;03mdriven by `concurrent.futures.ThreadPoolExecutor`.\u001b[39;00m\n\u001b[0;32m   (...)\u001b[0m\n\u001b[1;32m     66\u001b[0m \u001b[38;5;124;03m    [default: max(32, cpu_count() + 4)].\u001b[39;00m\n\u001b[1;32m     67\u001b[0m \u001b[38;5;124;03m\"\"\"\u001b[39;00m\n\u001b[1;32m     68\u001b[0m \u001b[38;5;28;01mfrom\u001b[39;00m \u001b[38;5;21;01mconcurrent\u001b[39;00m\u001b[38;5;21;01m.\u001b[39;00m\u001b[38;5;21;01mfutures\u001b[39;00m \u001b[38;5;28;01mimport\u001b[39;00m ThreadPoolExecutor\n\u001b[0;32m---> 69\u001b[0m \u001b[38;5;28;01mreturn\u001b[39;00m \u001b[43m_executor_map\u001b[49m\u001b[43m(\u001b[49m\u001b[43mThreadPoolExecutor\u001b[49m\u001b[43m,\u001b[49m\u001b[43m \u001b[49m\u001b[43mfn\u001b[49m\u001b[43m,\u001b[49m\u001b[43m \u001b[49m\u001b[38;5;241;43m*\u001b[39;49m\u001b[43miterables\u001b[49m\u001b[43m,\u001b[49m\u001b[43m \u001b[49m\u001b[38;5;241;43m*\u001b[39;49m\u001b[38;5;241;43m*\u001b[39;49m\u001b[43mtqdm_kwargs\u001b[49m\u001b[43m)\u001b[49m\n",
      "File \u001b[0;32m~/Library/Python/3.9/lib/python/site-packages/tqdm/contrib/concurrent.py:51\u001b[0m, in \u001b[0;36m_executor_map\u001b[0;34m(PoolExecutor, fn, *iterables, **tqdm_kwargs)\u001b[0m\n\u001b[1;32m     47\u001b[0m \u001b[38;5;28;01mwith\u001b[39;00m ensure_lock(tqdm_class, lock_name\u001b[38;5;241m=\u001b[39mlock_name) \u001b[38;5;28;01mas\u001b[39;00m lk:\n\u001b[1;32m     48\u001b[0m     \u001b[38;5;66;03m# share lock in case workers are already using `tqdm`\u001b[39;00m\n\u001b[1;32m     49\u001b[0m     \u001b[38;5;28;01mwith\u001b[39;00m PoolExecutor(max_workers\u001b[38;5;241m=\u001b[39mmax_workers, initializer\u001b[38;5;241m=\u001b[39mtqdm_class\u001b[38;5;241m.\u001b[39mset_lock,\n\u001b[1;32m     50\u001b[0m                       initargs\u001b[38;5;241m=\u001b[39m(lk,)) \u001b[38;5;28;01mas\u001b[39;00m ex:\n\u001b[0;32m---> 51\u001b[0m         \u001b[38;5;28;01mreturn\u001b[39;00m \u001b[38;5;28mlist\u001b[39m(tqdm_class(ex\u001b[38;5;241m.\u001b[39mmap(fn, \u001b[38;5;241m*\u001b[39miterables, chunksize\u001b[38;5;241m=\u001b[39mchunksize), \u001b[38;5;241m*\u001b[39m\u001b[38;5;241m*\u001b[39mkwargs))\n",
      "File \u001b[0;32m/Library/Developer/CommandLineTools/Library/Frameworks/Python3.framework/Versions/3.9/lib/python3.9/concurrent/futures/_base.py:636\u001b[0m, in \u001b[0;36mExecutor.__exit__\u001b[0;34m(self, exc_type, exc_val, exc_tb)\u001b[0m\n\u001b[1;32m    635\u001b[0m \u001b[38;5;28;01mdef\u001b[39;00m \u001b[38;5;21m__exit__\u001b[39m(\u001b[38;5;28mself\u001b[39m, exc_type, exc_val, exc_tb):\n\u001b[0;32m--> 636\u001b[0m     \u001b[38;5;28;43mself\u001b[39;49m\u001b[38;5;241;43m.\u001b[39;49m\u001b[43mshutdown\u001b[49m\u001b[43m(\u001b[49m\u001b[43mwait\u001b[49m\u001b[38;5;241;43m=\u001b[39;49m\u001b[38;5;28;43;01mTrue\u001b[39;49;00m\u001b[43m)\u001b[49m\n\u001b[1;32m    637\u001b[0m     \u001b[38;5;28;01mreturn\u001b[39;00m \u001b[38;5;28;01mFalse\u001b[39;00m\n",
      "File \u001b[0;32m/Library/Developer/CommandLineTools/Library/Frameworks/Python3.framework/Versions/3.9/lib/python3.9/concurrent/futures/thread.py:229\u001b[0m, in \u001b[0;36mThreadPoolExecutor.shutdown\u001b[0;34m(self, wait, cancel_futures)\u001b[0m\n\u001b[1;32m    227\u001b[0m \u001b[38;5;28;01mif\u001b[39;00m wait:\n\u001b[1;32m    228\u001b[0m     \u001b[38;5;28;01mfor\u001b[39;00m t \u001b[38;5;129;01min\u001b[39;00m \u001b[38;5;28mself\u001b[39m\u001b[38;5;241m.\u001b[39m_threads:\n\u001b[0;32m--> 229\u001b[0m         \u001b[43mt\u001b[49m\u001b[38;5;241;43m.\u001b[39;49m\u001b[43mjoin\u001b[49m\u001b[43m(\u001b[49m\u001b[43m)\u001b[49m\n",
      "File \u001b[0;32m/Library/Developer/CommandLineTools/Library/Frameworks/Python3.framework/Versions/3.9/lib/python3.9/threading.py:1053\u001b[0m, in \u001b[0;36mThread.join\u001b[0;34m(self, timeout)\u001b[0m\n\u001b[1;32m   1050\u001b[0m     \u001b[38;5;28;01mraise\u001b[39;00m \u001b[38;5;167;01mRuntimeError\u001b[39;00m(\u001b[38;5;124m\"\u001b[39m\u001b[38;5;124mcannot join current thread\u001b[39m\u001b[38;5;124m\"\u001b[39m)\n\u001b[1;32m   1052\u001b[0m \u001b[38;5;28;01mif\u001b[39;00m timeout \u001b[38;5;129;01mis\u001b[39;00m \u001b[38;5;28;01mNone\u001b[39;00m:\n\u001b[0;32m-> 1053\u001b[0m     \u001b[38;5;28;43mself\u001b[39;49m\u001b[38;5;241;43m.\u001b[39;49m\u001b[43m_wait_for_tstate_lock\u001b[49m\u001b[43m(\u001b[49m\u001b[43m)\u001b[49m\n\u001b[1;32m   1054\u001b[0m \u001b[38;5;28;01melse\u001b[39;00m:\n\u001b[1;32m   1055\u001b[0m     \u001b[38;5;66;03m# the behavior of a negative timeout isn't documented, but\u001b[39;00m\n\u001b[1;32m   1056\u001b[0m     \u001b[38;5;66;03m# historically .join(timeout=x) for x<0 has acted as if timeout=0\u001b[39;00m\n\u001b[1;32m   1057\u001b[0m     \u001b[38;5;28mself\u001b[39m\u001b[38;5;241m.\u001b[39m_wait_for_tstate_lock(timeout\u001b[38;5;241m=\u001b[39m\u001b[38;5;28mmax\u001b[39m(timeout, \u001b[38;5;241m0\u001b[39m))\n",
      "File \u001b[0;32m/Library/Developer/CommandLineTools/Library/Frameworks/Python3.framework/Versions/3.9/lib/python3.9/threading.py:1069\u001b[0m, in \u001b[0;36mThread._wait_for_tstate_lock\u001b[0;34m(self, block, timeout)\u001b[0m\n\u001b[1;32m   1067\u001b[0m \u001b[38;5;28;01mif\u001b[39;00m lock \u001b[38;5;129;01mis\u001b[39;00m \u001b[38;5;28;01mNone\u001b[39;00m:  \u001b[38;5;66;03m# already determined that the C code is done\u001b[39;00m\n\u001b[1;32m   1068\u001b[0m     \u001b[38;5;28;01massert\u001b[39;00m \u001b[38;5;28mself\u001b[39m\u001b[38;5;241m.\u001b[39m_is_stopped\n\u001b[0;32m-> 1069\u001b[0m \u001b[38;5;28;01melif\u001b[39;00m \u001b[43mlock\u001b[49m\u001b[38;5;241;43m.\u001b[39;49m\u001b[43macquire\u001b[49m\u001b[43m(\u001b[49m\u001b[43mblock\u001b[49m\u001b[43m,\u001b[49m\u001b[43m \u001b[49m\u001b[43mtimeout\u001b[49m\u001b[43m)\u001b[49m:\n\u001b[1;32m   1070\u001b[0m     lock\u001b[38;5;241m.\u001b[39mrelease()\n\u001b[1;32m   1071\u001b[0m     \u001b[38;5;28mself\u001b[39m\u001b[38;5;241m.\u001b[39m_stop()\n",
      "\u001b[0;31mKeyboardInterrupt\u001b[0m: "
     ]
    }
   ],
   "source": [
    "import torch\n",
    "from diffusers import StableDiffusionPipeline\n",
    "\n",
    "pipe = StableDiffusionPipeline.from_pretrained(\n",
    "    \"CompVis/stable-diffusion-v1-4\", torch_dtype=torch.float16\n",
    ")\n",
    "device = torch.device(\"cuda\" if torch.cuda.is_available() else \"mps\")\n",
    "pipe = pipe.to(device)"
   ]
  },
  {
   "cell_type": "markdown",
   "metadata": {
    "id": "FMmZ7gMU4-WQ"
   },
   "source": [
    "Now it's time to play! This diffusion implementation comes with a nice end to end text-to-image pipeline. You simply need to provide a text prompt and it will generate an image. You will get a different result every time as the starting random noise will be different. Experiment with different prompts."
   ]
  },
  {
   "cell_type": "code",
   "execution_count": null,
   "metadata": {
    "id": "UzeSPH5NzAwp"
   },
   "outputs": [],
   "source": [
    "prompt = \"a photograph of an astronaut riding a horse\"\n",
    "image = pipe(prompt).images[0]  # image here is in PIL format\n",
    "\n",
    "# directly display the generated image\n",
    "image"
   ]
  },
  {
   "cell_type": "markdown",
   "metadata": {
    "id": "SSemcECCzt0f"
   },
   "source": [
    "`pipe` can take various other option parameters. Try playing with `num_inference_steps` which controls how many diffusion steps are used (fewer is faster but lower quality), `height` and `width` which control the size of the output and `guidance_scale` which controls how much weight it gives to your text prompt."
   ]
  },
  {
   "cell_type": "markdown",
   "metadata": {
    "id": "H2qKAu26xxqE"
   },
   "source": [
    "Let's now dig a little deeper and see a denoising loop in action. First, some setup:"
   ]
  },
  {
   "cell_type": "code",
   "execution_count": null,
   "metadata": {
    "id": "MgMENJvWx6cs"
   },
   "outputs": [],
   "source": [
    "from transformers import CLIPTextModel, CLIPTokenizer\n",
    "from diffusers import AutoencoderKL, UNet2DConditionModel\n",
    "from diffusers import LMSDiscreteScheduler\n",
    "\n",
    "# 1. Load the autoencoder model which will be used to decode the latents into image space.\n",
    "vae = AutoencoderKL.from_pretrained(\"CompVis/stable-diffusion-v1-4\", subfolder=\"vae\")\n",
    "\n",
    "# 2. Load the tokenizer and text encoder to tokenize and encode the text.\n",
    "tokenizer = CLIPTokenizer.from_pretrained(\"openai/clip-vit-large-patch14\")\n",
    "text_encoder = CLIPTextModel.from_pretrained(\"openai/clip-vit-large-patch14\")\n",
    "\n",
    "# 3. The UNet model for generating the latents.\n",
    "unet = UNet2DConditionModel.from_pretrained(\n",
    "    \"CompVis/stable-diffusion-v1-4\", subfolder=\"unet\"\n",
    ")\n",
    "\n",
    "scheduler = LMSDiscreteScheduler.from_pretrained(\n",
    "    \"CompVis/stable-diffusion-v1-4\", subfolder=\"scheduler\"\n",
    ")\n",
    "\n",
    "vae = vae.to(device)\n",
    "text_encoder = text_encoder.to(device)\n",
    "unet = unet.to(device)"
   ]
  },
  {
   "cell_type": "markdown",
   "metadata": {
    "id": "zrSs-OIUyHmr"
   },
   "source": [
    "Prepare our inputs:"
   ]
  },
  {
   "cell_type": "code",
   "execution_count": null,
   "metadata": {
    "id": "6WOMLHyTyJDJ"
   },
   "outputs": [],
   "source": [
    "prompt = [\"a photograph of an astronaut riding a horse\"]\n",
    "\n",
    "height = 512  # default height of Stable Diffusion\n",
    "width = 512  # default width of Stable Diffusion\n",
    "\n",
    "num_inference_steps = 100  # Number of denoising steps\n",
    "\n",
    "guidance_scale = 7.5  # Scale for classifier-free guidance\n",
    "\n",
    "generator = torch.manual_seed(32)  # Seed generator to create the inital latent noise\n",
    "\n",
    "batch_size = 1\n",
    "\n",
    "text_input = tokenizer(\n",
    "    prompt,\n",
    "    padding=\"max_length\",\n",
    "    max_length=tokenizer.model_max_length,\n",
    "    truncation=True,\n",
    "    return_tensors=\"pt\",\n",
    ")\n",
    "\n",
    "with torch.no_grad():\n",
    "    text_embeddings = text_encoder(text_input.input_ids.to(torch_device))[0]\n",
    "\n",
    "max_length = text_input.input_ids.shape[-1]\n",
    "uncond_input = tokenizer(\n",
    "    [\"\"] * batch_size, padding=\"max_length\", max_length=max_length, return_tensors=\"pt\"\n",
    ")\n",
    "with torch.no_grad():\n",
    "    uncond_embeddings = text_encoder(uncond_input.input_ids.to(torch_device))[0]\n",
    "\n",
    "text_embeddings = torch.cat([uncond_embeddings, text_embeddings])\n",
    "\n",
    "# Random initial latents\n",
    "latents = torch.randn(\n",
    "    (batch_size, unet.in_channels, height // 8, width // 8),\n",
    "    generator=generator,\n",
    ")\n",
    "latents = latents.to(device)\n",
    "\n",
    "scheduler.set_timesteps(num_inference_steps)\n",
    "latents = latents * scheduler.init_noise_sigma"
   ]
  },
  {
   "cell_type": "markdown",
   "metadata": {
    "id": "k-IVgoqgygtg"
   },
   "source": [
    "Now we are ready to run the denoising loop:"
   ]
  },
  {
   "cell_type": "code",
   "execution_count": null,
   "metadata": {
    "id": "nSBWEXT3yjzW"
   },
   "outputs": [],
   "source": [
    "from tqdm.auto import tqdm\n",
    "\n",
    "for t in tqdm(scheduler.timesteps):\n",
    "    # expand the latents if we are doing classifier-free guidance to avoid doing two forward passes.\n",
    "    latent_model_input = torch.cat([latents] * 2)\n",
    "\n",
    "    latent_model_input = scheduler.scale_model_input(latent_model_input, t)\n",
    "\n",
    "    # predict the noise residual\n",
    "    with torch.no_grad():\n",
    "        noise_pred = unet(\n",
    "            latent_model_input, t, encoder_hidden_states=text_embeddings\n",
    "        ).sample\n",
    "\n",
    "    # perform guidance\n",
    "    noise_pred_uncond, noise_pred_text = noise_pred.chunk(2)\n",
    "    noise_pred = noise_pred_uncond + guidance_scale * (\n",
    "        noise_pred_text - noise_pred_uncond\n",
    "    )\n",
    "\n",
    "    # compute the previous noisy sample x_t -> x_t-1\n",
    "    latents = scheduler.step(noise_pred, t, latents).prev_sample"
   ]
  },
  {
   "cell_type": "markdown",
   "metadata": {
    "id": "Oko7UL2Lyx1H"
   },
   "source": [
    "Visualise the result:"
   ]
  },
  {
   "cell_type": "code",
   "execution_count": null,
   "metadata": {
    "id": "6ltcfi1Wyopq"
   },
   "outputs": [],
   "source": [
    "# scale and decode the image latents with vae\n",
    "latents = 1 / 0.18215 * latents\n",
    "\n",
    "with torch.no_grad():\n",
    "    image = vae.decode(latents).sample\n",
    "\n",
    "image = (image / 2 + 0.5).clamp(0, 1)\n",
    "image = image.detach().cpu().permute(0, 2, 3, 1).numpy()\n",
    "images = (image * 255).round().astype(\"uint8\")\n",
    "pil_images = [Image.fromarray(image) for image in images]\n",
    "pil_images[0]"
   ]
  },
  {
   "cell_type": "markdown",
   "metadata": {
    "id": "A_4tcmKUysh6"
   },
   "source": [
    "**To do**: At any point in the loop, you could convert the noisy latents to an image using the VAE decoder. Try this out. You should be able to visualise the result gradually transitioning from noise to the final image."
   ]
  },
  {
   "cell_type": "markdown",
   "metadata": {
    "id": "MU4kMgkMAklr"
   },
   "source": [
    "## 4. Create a conditional GAN (highly recommended for MEng students)\n",
    "\n",
    "I would now like you to extend the GAN created above to make it into a conditional GAN. This means that the generator takes both a z latent vector and also a class label and generates an image of the appropriate class. The discriminator takes an image plus the class label and returns the probability that this is a real image of that class. There are many ways you could engineer the generator and discriminator architectures to take labels as input but here is my suggestion:\n",
    "- Use a `torch.nn.Embedding` layer to turn the class label into a feature vector. A dimensionality of 50 for this feature vector works well.\n",
    "- In the generator you can then just concatenate this embedding with the `z` vector and feed it into the same generator architecture as above.\n",
    "- In the discriminator, use another linear layer to transform the embedding up to size 32 x 32. You can then just concatenate this as an additional channel to the image that you pass into the same architecture as above (just with two input channels rather than 1).\n",
    "- The training loop is very similar to above but now you pass the real labels along with the real images to the discriminator. When you create a random batch of fake images, you need to generate some random labels. These should also be passed to the discriminator.\n",
    "\n",
    "Once you get it to train, try visualing random output for each class. For example, fix the label to zero then generate 8 images, then repeat for labels 1-9. You should see the right class but random variation within that class when you vary z."
   ]
  }
 ],
 "metadata": {
  "accelerator": "GPU",
  "colab": {
   "gpuType": "T4",
   "provenance": [
    {
     "file_id": "1k9k7H7xuhTflDD-OsxFqg0TFxqGTQBYQ",
     "timestamp": 1714466218267
    },
    {
     "file_id": "1NVr4N7ScgG3gCTx515JbZxsYboB4J04R",
     "timestamp": 1714388768749
    }
   ]
  },
  "kernelspec": {
   "display_name": "Python 3 (ipykernel)",
   "language": "python",
   "name": "python3"
  },
  "language_info": {
   "name": "python"
  }
 },
 "nbformat": 4,
 "nbformat_minor": 0
}
