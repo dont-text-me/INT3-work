{
 "cells": [
  {
   "cell_type": "markdown",
   "source": [
    "# Probability"
   ],
   "metadata": {
    "collapsed": false
   },
   "id": "44aeb7f526ba1ffd"
  },
  {
   "cell_type": "markdown",
   "source": [
    "$$\n",
    "S = \\lbrace red, green, blue \\rbrace\n",
    "\\\\\n",
    "P(red) = \\frac{1}{3}\n",
    "\\\\\n",
    "P(green) = \\frac{1}{3}\n",
    "\\\\\n",
    "P(blue) = \\frac{1}{3}\n",
    "$$"
   ],
   "metadata": {
    "collapsed": false
   },
   "id": "d3c08811f0f4a601"
  },
  {
   "cell_type": "markdown",
   "source": [
    "The probability of getting a certain marble is the combination of the following probabilities:\n",
    "   * The marble is not drawn the first time\n",
    "    $$P(not~drawn~the~first~time) = 1 - P(drawn) = 1 - \\frac{1}{3} = \\frac{2}{3}$$\n",
    "   * The marble is drawn the second time (out of the remaining 2 marbles)\n",
    "    $$P(drawn~the~second~time) = \\frac{1}{2}$$\n",
    "The overall probability is therefore:\n",
    "$$P(not~drawn~the~first~time) \\times P(drawn~the~second~time) = \\frac{2}{3} \\times \\frac{1}{2} = \\frac{2}{6} = \\frac{1}{3}$$"
   ],
   "metadata": {
    "collapsed": false
   },
   "id": "42d4999d7a279b0d"
  },
  {
   "cell_type": "markdown",
   "source": [
    "$$\n",
    "S = \\{(W), (L, W), (W, W)\\}\n",
    "\\\\\n",
    "P(W) = \\frac{1}{2}, Winnings(L) = \\$1\n",
    "\\\\\n",
    "P((L, W)) = \\frac{1}{2} \\times \\frac{1}{2} = \\frac{1}{4}, Winnings((L, W)) = \\$1 ~(lost 1, won 2)\n",
    "\\\\\n",
    "P((L, L)) = \\frac{1}{2} \\times \\frac{1}{2} = \\frac{1}{4}, Winnings((W, W)) = \\$-3\n",
    "\\\\\n",
    "P(Winner) = P((L, W)) + P(W) = \\frac{1}{2} + \\frac{1}{4} = \\frac{3}{4}\n",
    "$$\n",
    "\n",
    "Reasons to not use this strategy:\n",
    "* Can only ever win $1\n",
    "* The loss is greater than any potential win"
   ],
   "metadata": {
    "collapsed": false
   },
   "id": "841d177c7c2cc76b"
  },
  {
   "cell_type": "markdown",
   "source": [
    "Part 1\n",
    "$$\n",
    "P(E) = 0.9\n",
    "\\\\\n",
    "P(F) = 0.8\n",
    "\\\\\n",
    "P(E \\cup F) = P(E) + P(F) - P(E \\cap F)\n",
    "\\\\\n",
    "P(E \\cup F) = 0.9 + 0.8 - P(E \\cap F) = 1.7 - P(E \\cap F)\n",
    "\\\\\n",
    "P (E \\cap F) = 1.7 - P(E \\cup F)\n",
    "\\\\\n",
    "P(E \\cup F) \\leq 1 \\therefore P(E \\cap F) \\geq (1.7 - 1) \\geq 0.7\n",
    "$$\n",
    "Part 2\n",
    "$$\n",
    "P(E \\cup F) = P(E) + P(F) - P(E \\cap F)\n",
    "\\\\\n",
    "P(E) + P(F) - P(E \\cap F) \\leq 1\n",
    "\\\\\n",
    "P(E) + P(F) - 1 \\leq P(E \\cap F)\n",
    "\\\\\n",
    "P(E \\cap F) \\geq P(E) + P(F) - 1\n",
    "$$"
   ],
   "metadata": {
    "collapsed": false
   },
   "id": "84d398f01e13c0c2"
  },
  {
   "cell_type": "markdown",
   "source": [
    "TODO 5"
   ],
   "metadata": {
    "collapsed": false
   },
   "id": "eaf55ced11a8c382"
  },
  {
   "cell_type": "markdown",
   "source": [
    "TODO 6"
   ],
   "metadata": {
    "collapsed": false
   },
   "id": "9ddcc6326d52fa13"
  },
  {
   "cell_type": "markdown",
   "source": [
    "$$\n",
    "S_{sum = 7} = \\{(1, 6), (6, 1), (2, 5), (5, 2), (3, 4), (4, 3)\\}\n",
    "\\\\\n",
    "P(sum = 7) = \\frac{6}{36} = \\frac{1}{6}\n",
    "\\\\\n",
    "S_{first = 6} = \\{(6, 1), (6, 2), (6, 3), (6, 4), (6, 5), (6, 6)\\}\n",
    "\\\\\n",
    "P(first = 6) = \\frac{1}{6}\n",
    "\\\\\n",
    "P(sum = 7 \\mid first = 6) = \\frac{1}{6}\n",
    "\\\\\n",
    "P(first = 6 \\mid sum = 7) = \\frac{\\frac{1}{6} \\times \\frac{1}{6}}{\\frac{1}{6}} = \\frac{1}{6} \n",
    "$$"
   ],
   "metadata": {
    "collapsed": false
   },
   "id": "3c0be84a87789fae"
  },
  {
   "cell_type": "markdown",
   "source": [
    "# Random variables"
   ],
   "metadata": {
    "collapsed": false
   },
   "id": "1cf494f76d09c251"
  }
 ],
 "metadata": {
  "kernelspec": {
   "display_name": "Python 3",
   "language": "python",
   "name": "python3"
  },
  "language_info": {
   "codemirror_mode": {
    "name": "ipython",
    "version": 2
   },
   "file_extension": ".py",
   "mimetype": "text/x-python",
   "name": "python",
   "nbconvert_exporter": "python",
   "pygments_lexer": "ipython2",
   "version": "2.7.6"
  }
 },
 "nbformat": 4,
 "nbformat_minor": 5
}
