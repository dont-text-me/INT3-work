{
 "cells": [
  {
   "cell_type": "markdown",
   "source": [
    "# Probability"
   ],
   "metadata": {
    "collapsed": false
   },
   "id": "44aeb7f526ba1ffd"
  },
  {
   "cell_type": "markdown",
   "source": [
    "$$\n",
    "S = \\lbrace red, green, blue \\rbrace\n",
    "\\\\\n",
    "P(red) = \\frac{1}{3}\n",
    "\\\\\n",
    "P(green) = \\frac{1}{3}\n",
    "\\\\\n",
    "P(blue) = \\frac{1}{3}\n",
    "$$"
   ],
   "metadata": {
    "collapsed": false
   },
   "id": "d3c08811f0f4a601"
  },
  {
   "cell_type": "markdown",
   "source": [
    "The probability of getting a certain marble is the combination of the following probabilities:\n",
    "   * The marble is not drawn the first time\n",
    "    $$P(not~drawn~the~first~time) = 1 - P(drawn) = 1 - \\frac{1}{3} = \\frac{2}{3}$$\n",
    "   * The marble is drawn the second time (out of the remaining 2 marbles)\n",
    "    $$P(drawn~the~second~time) = \\frac{1}{2}$$\n",
    "The overall probability is therefore:\n",
    "$$P(not~drawn~the~first~time) \\times P(drawn~the~second~time) = \\frac{2}{3} \\times \\frac{1}{2} = \\frac{2}{6} = \\frac{1}{3}$$"
   ],
   "metadata": {
    "collapsed": false
   },
   "id": "42d4999d7a279b0d"
  },
  {
   "cell_type": "markdown",
   "source": [
    "$$\n",
    "S = \\{(W), (L, W), (L, L)\\}\n",
    "\\\\\n",
    "P(W) = \\frac{1}{2}, Winnings(L) = \\$1\n",
    "\\\\\n",
    "P((L, W)) = \\frac{1}{2} \\times \\frac{1}{2} = \\frac{1}{4}, Winnings((L, W)) = \\$1 ~(lost 1, won 2)\n",
    "\\\\\n",
    "P((L, L)) = \\frac{1}{2} \\times \\frac{1}{2} = \\frac{1}{4}, Winnings((L, L)) = \\$-3\n",
    "\\\\\n",
    "P(Winner) = P((L, W)) + P(W) = \\frac{1}{2} + \\frac{1}{4} = \\frac{3}{4}\n",
    "$$\n",
    "\n",
    "Reasons to not use this strategy:\n",
    "* Can only ever win $1\n",
    "* The loss is greater than any potential win"
   ],
   "metadata": {
    "collapsed": false
   },
   "id": "841d177c7c2cc76b"
  },
  {
   "cell_type": "markdown",
   "source": [
    "Part 1\n",
    "$$\n",
    "P(E) = 0.9\n",
    "\\\\\n",
    "P(F) = 0.8\n",
    "\\\\\n",
    "P(E \\cup F) = P(E) + P(F) - P(E \\cap F)\n",
    "\\\\\n",
    "P(E \\cup F) = 0.9 + 0.8 - P(E \\cap F) = 1.7 - P(E \\cap F)\n",
    "\\\\\n",
    "P (E \\cap F) = 1.7 - P(E \\cup F)\n",
    "\\\\\n",
    "P(E \\cup F) \\leq 1 \\therefore P(E \\cap F) \\geq (1.7 - 1) \\geq 0.7\n",
    "$$\n",
    "Part 2\n",
    "$$\n",
    "P(E \\cup F) = P(E) + P(F) - P(E \\cap F)\n",
    "\\\\\n",
    "P(E) + P(F) - P(E \\cap F) \\leq 1\n",
    "\\\\\n",
    "P(E) + P(F) - 1 \\leq P(E \\cap F)\n",
    "\\\\\n",
    "P(E \\cap F) \\geq P(E) + P(F) - 1\n",
    "$$"
   ],
   "metadata": {
    "collapsed": false
   },
   "id": "84d398f01e13c0c2"
  },
  {
   "cell_type": "markdown",
   "source": [
    "$$\n",
    "Prior: P(A \\mid B) = \\frac{P(A \\cap B)}{P(B)}\n",
    "\\\\\n",
    "\\vspace{2em}\n",
    "Bayes'~theorem: P(A \\mid B) = \\frac{P(A)P(B \\mid A)}{P(B)} \n",
    "\\\\\n",
    "\\vspace{2em}\n",
    "\\frac{P(A \\cap B)}{P(B)} = \\frac{P(A)P(B \\mid A)}{P(B)} \n",
    "\\\\\n",
    "\\vspace{2em}\n",
    "P(A \\cap B) = P(A)P(B \\mid A)~\\text{(multiplying both sides by P(B))}\n",
    "\\\\\n",
    "\\vspace{2em}\n",
    "P(B \\mid A) = \\frac{P(A \\cap B)}{P(A)},~\\text{which is true according to the definition of the prior}\n",
    "\\\\\n",
    "\\vspace{2em}\n",
    "QED\n",
    "$$"
   ],
   "metadata": {
    "collapsed": false
   },
   "id": "bab636eca85496eb"
  },
  {
   "cell_type": "markdown",
   "source": [
    "$$\n",
    "P(CB \\mid M) = 0.05\n",
    "\\\\\n",
    "P(CB \\mid F) = 0.0025\n",
    "\\\\\n",
    "P(M) = P(F) = 0.5\n",
    "\\\\\n",
    "Find: P(M \\mid CB)\n",
    "\\\\\n",
    "P(A \\mid B) = \\frac{P(A \\cap B)}{P(B)} \\therefore P(B) = \\frac{P(A \\cap B)}{P(A \\mid B)}\n",
    "\\\\\n",
    "P(CB) = P(CB \\cap M) + P(CB \\cap F)~\\text{(given that the problem assumes one can only be male or female)}\n",
    "\\\\\n",
    "P(M \\mid CB) = \\frac{P(M)P(CB \\mid M)}{P(CB \\cap M) + P(CB \\cap F)} \n",
    "&= \\frac{P(M)P(CB \\mid M)}{P(CB \\mid M)P(M) + P(CB \\mid F)P(F)} \n",
    "&= \\frac{0.5 \\times 0.05}{0.05 \\times 0.5 + 0.0025 \\times 0.5} \n",
    "&= \\frac{0.05}{0.05 + 0.0025}\n",
    "&= \\frac{0.05}{0.0525}\n",
    "&= \\frac{5}{5.25}\n",
    "&= \\frac{20}{21} \\approx 0.952\n",
    "$$"
   ],
   "metadata": {
    "collapsed": false
   },
   "id": "9ddcc6326d52fa13"
  },
  {
   "cell_type": "markdown",
   "source": [
    "$$\n",
    "S_{sum = 7} = \\{(1, 6), (6, 1), (2, 5), (5, 2), (3, 4), (4, 3)\\}\n",
    "\\\\\n",
    "P(sum = 7) = \\frac{6}{36} = \\frac{1}{6}\n",
    "\\\\\n",
    "S_{first = 6} = \\{(6, 1), (6, 2), (6, 3), (6, 4), (6, 5), (6, 6)\\}\n",
    "\\\\\n",
    "P(first = 6) = \\frac{1}{6}\n",
    "\\\\\n",
    "P(sum = 7 \\mid first = 6) = \\frac{1}{6}\n",
    "\\\\\n",
    "P(first = 6 \\mid sum = 7) = \\frac{\\frac{1}{6} \\times \\frac{1}{6}}{\\frac{1}{6}} = \\frac{1}{6} \n",
    "$$"
   ],
   "metadata": {
    "collapsed": false
   },
   "id": "3c0be84a87789fae"
  },
  {
   "cell_type": "markdown",
   "source": [
    "# Random variables"
   ],
   "metadata": {
    "collapsed": false
   },
   "id": "1cf494f76d09c251"
  },
  {
   "cell_type": "markdown",
   "source": [
    "$$\n",
    "E(X) = \\sum_{x} x \\times P(X = x)\n",
    "\\\\\n",
    "&= 1 \\times 0.2 + 2 \\times 0.4 + 5 \\times 0.4\n",
    "\\\\\n",
    "&= 0.2 + 0.8 + 2 \n",
    "\\\\\n",
    "&= 3\n",
    "\\\\\n",
    "\\sigma^2(X) = \\sum_{x} (E(X) - x)^2 \\times P(X = x)\n",
    "&= 4 \\times 0.2 + 1 \\times 0.4 + 4 \\times 0.4\n",
    "&= 0.8 + 0.4 + 1.6\n",
    "&= 2.8\n",
    "$$"
   ],
   "metadata": {
    "collapsed": false
   },
   "id": "e07ac5bb92ed27b8"
  },
  {
   "cell_type": "markdown",
   "source": [
    "Discrete:\n",
    "$$\n",
    "E(aX + b) = \\sum_{x} (ax + b) \\times P(X = x)\n",
    "\\\\\n",
    "&= \\sum_{x} axP(X = x) + bP(X = x)\n",
    "\\\\\n",
    "&= a\\sum_{x} xP(X = x) + b\\sum_{x} P(X = x)\n",
    "\\\\\n",
    "&= a\\sum_{x} xP(X = x) + b \\times 1~\\text{(Probabilities add up to 1)}\n",
    "\\\\\n",
    "&= aE(X) + b\n",
    "\\\\\n",
    "QED\n",
    "$$\n",
    "\n",
    "Continuos:\n",
    "$$\n",
    "E(X) = \\(\\int_{x = \\infty}^{x = -\\infty} xf(x) \\,dx\\)\n",
    "\\\\\n",
    "&= E(aX + b) = \\(\\int_{x = \\infty}^{x = -\\infty} (ax + b)f(x) \\,dx\\)\n",
    "\\\\\n",
    "&= \\(\\int_{x = \\infty}^{x = -\\infty} axf(x) + bf(x) \\,dx\\)\n",
    "\\\\\n",
    "&= \\(\\int_{x = \\infty}^{x = -\\infty} axf(x) \\,dx\\) + \\(\\int_{x = \\infty}^{x = -\\infty} bf(x) \\,dx\\)\n",
    "\\\\\n",
    "&= a\\(\\int_{x = \\infty}^{x = -\\infty} xf(x) \\,dx\\) + b\\(\\int_{x = \\infty}^{x = -\\infty} f(x) \\,dx\\)\n",
    "\\\\\n",
    "&= a\\(\\int_{x = \\infty}^{x = -\\infty} xf(x) \\,dx\\) + b\n",
    "\\\\\n",
    "&= aE(X) + b\n",
    "\\\\\n",
    "QED\n",
    "$$"
   ],
   "metadata": {
    "collapsed": false
   },
   "id": "4195cc516d244f86"
  },
  {
   "cell_type": "markdown",
   "source": [
    "$$\n",
    "E(X + Y) = \\sum_{x} \\sum_{y} (x + y) \\times P(X + Y = x+y)\n",
    "\\\\\n",
    "&= \\sum_{x} \\sum_{y} xP(X + Y = x+y) + yP(X + Y = x+y)\n",
    "\\\\\n",
    "&= \\sum_{x} \\sum_{y} xP(X + Y = x+y) + \\sum_{x} \\sum_{y} yP(X + Y = x+y)\n",
    "\\\\\n",
    "&= E(X) + E(Y)\n",
    "\\\\\n",
    "QED\n",
    "\n",
    "$$"
   ],
   "metadata": {
    "collapsed": false
   },
   "id": "dcd5f03f68840f29"
  },
  {
   "cell_type": "markdown",
   "source": [
    "TODO 4"
   ],
   "metadata": {
    "collapsed": false
   },
   "id": "bbe4dbded422d3a"
  },
  {
   "cell_type": "markdown",
   "source": [
    "$$\n",
    "Var(X) = \\sum_{x} (E(X) - x)^2 \\times P(X = x)\n",
    "\\\\\n",
    "Var(aX) = \\sum_{x} (E(aX) - ax)^2 \\times P(X = x)\n",
    "\\\\\n",
    "&= \\sum_{x} (aE(X) - ax)^2 \\times P(X = x)\n",
    "\\\\\n",
    "&= \\sum_{x} a^2(E(X) - x)^2 \\times P(X = x)\n",
    "\\\\\n",
    "&= a^2\\sum_{x} (E(X) - x)^2 \\times P(X = x)\n",
    "\\\\\n",
    "&= a^2Var(X)\n",
    "\\\\\n",
    "QED\n",
    "$$"
   ],
   "metadata": {
    "collapsed": false
   },
   "id": "dd44af68e3b4b604"
  },
  {
   "cell_type": "markdown",
   "source": [
    "$$\n",
    "cov(X, Y) = E((X - E(X))(Y - E(Y)))\n",
    "\\\\\n",
    "&= E(XY - XE(Y) - YE(X) + E(X)E(Y))\n",
    "\\\\\n",
    "&= E(XY) - E(Y)E(X) - E(X)E(Y) + E(X)E(Y)\n",
    "\\\\\n",
    "&= E(XY) - E(X)E(Y)\n",
    "\\\\\n",
    "QED\n",
    "$$"
   ],
   "metadata": {
    "collapsed": false
   },
   "id": "b6066e1723b15f69"
  },
  {
   "cell_type": "markdown",
   "source": [
    "$$\n",
    "\\text{It is given that X and Y is independent.}\n",
    "\\\\\n",
    "cov(X, Y) = 0\n",
    "\\\\\n",
    "E(XY) - E(X)E(Y) = 0\n",
    "\\\\\n",
    "E(XY) = E(X)E(Y)\n",
    "\\\\\n",
    "QED\n",
    "$$"
   ],
   "metadata": {
    "collapsed": false
   },
   "id": "9e084eeba63e0e34"
  },
  {
   "cell_type": "markdown",
   "source": [
    "TODO 8"
   ],
   "metadata": {
    "collapsed": false
   },
   "id": "4373a6854f2bf1a5"
  }
 ],
 "metadata": {
  "kernelspec": {
   "display_name": "Python 3",
   "language": "python",
   "name": "python3"
  },
  "language_info": {
   "codemirror_mode": {
    "name": "ipython",
    "version": 2
   },
   "file_extension": ".py",
   "mimetype": "text/x-python",
   "name": "python",
   "nbconvert_exporter": "python",
   "pygments_lexer": "ipython2",
   "version": "2.7.6"
  }
 },
 "nbformat": 4,
 "nbformat_minor": 5
}
