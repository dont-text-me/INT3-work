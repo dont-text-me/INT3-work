{
 "cells": [
  {
   "cell_type": "markdown",
   "source": [
    "# Probability"
   ],
   "metadata": {
    "collapsed": false
   },
   "id": "44aeb7f526ba1ffd"
  },
  {
   "cell_type": "markdown",
   "source": [
    "$$\n",
    "S = \\lbrace red, green, blue \\rbrace\n",
    "\\\\\n",
    "P(red) = \\frac{1}{3}\n",
    "\\\\\n",
    "P(green) = \\frac{1}{3}\n",
    "\\\\\n",
    "P(blue) = \\frac{1}{3}\n",
    "$$"
   ],
   "metadata": {
    "collapsed": false
   },
   "id": "d3c08811f0f4a601"
  },
  {
   "cell_type": "markdown",
   "source": [
    "$$\n",
    "S = \\lbrace red, green, blue \\rbrace \\setminus \\lbrace drawn \\rbrace\n",
    "\\\\\n",
    "P(drawn) = 0\n",
    "\\\\\n",
    "P(not drawn) = \\frac{1}{2}\n",
    "$$"
   ],
   "metadata": {
    "collapsed": false
   },
   "id": "42d4999d7a279b0d"
  },
  {
   "cell_type": "code",
   "outputs": [],
   "source": [],
   "metadata": {
    "collapsed": false
   },
   "id": "64bc239b62f87aa7"
  }
 ],
 "metadata": {
  "kernelspec": {
   "display_name": "Python 3",
   "language": "python",
   "name": "python3"
  },
  "language_info": {
   "codemirror_mode": {
    "name": "ipython",
    "version": 2
   },
   "file_extension": ".py",
   "mimetype": "text/x-python",
   "name": "python",
   "nbconvert_exporter": "python",
   "pygments_lexer": "ipython2",
   "version": "2.7.6"
  }
 },
 "nbformat": 4,
 "nbformat_minor": 5
}
